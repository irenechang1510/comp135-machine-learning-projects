{
 "cells": [
  {
   "cell_type": "code",
   "execution_count": 98,
   "source": [
    "import numpy as np\n",
    "import pandas as pd\n",
    "\n",
    "import nltk\n",
    "from nltk.corpus import stopwords, wordnet\n",
    "from nltk.stem import WordNetLemmatizer\n",
    "from sklearn.feature_extraction.text import TfidfVectorizer\n",
    "from sklearn.neural_network import MLPClassifier\n",
    "from sklearn.metrics import log_loss\n",
    "import matplotlib.pyplot as plt\n",
    "from sklearn.linear_model import LogisticRegressionCV\n",
    "%matplotlib inline\n",
    "from sklearn.linear_model import LogisticRegression\n",
    "from sklearn.model_selection import train_test_split, KFold, RandomizedSearchCV\n",
    "import re"
   ],
   "outputs": [],
   "metadata": {}
  },
  {
   "cell_type": "code",
   "execution_count": 3,
   "source": [
    "x_train_df = pd.read_csv('data_reviews/x_train.csv')\n",
    "y_train_df = pd.read_csv('data_reviews/y_train.csv')\n",
    "\n",
    "tr_text_list = x_train_df['text'].values.tolist()"
   ],
   "outputs": [],
   "metadata": {}
  },
  {
   "cell_type": "code",
   "execution_count": 4,
   "source": [
    "# Special characters and punctuation\n",
    "df = x_train_df.copy()\n",
    "punc_list = list(\"?:!.,;()\")\n",
    "df[\"text_1\"] = df[\"text\"].str.replace(\"\\n\", \"\")\n",
    "df[\"text_1\"] = df[\"text_1\"].str.replace('\"', \"\")\n",
    "df[\"text_1\"] = df[\"text_1\"].str.replace(\"'s\", \"\")\n",
    "for punc in punc_list:\n",
    "    df[\"text_1\"] = df[\"text_1\"].str.replace(punc, \"\")\n",
    "    \n",
    "#lowering cases\n",
    "df[\"text_1\"] = df[\"text_1\"].str.lower()\n",
    "df.head()"
   ],
   "outputs": [
    {
     "output_type": "execute_result",
     "data": {
      "text/plain": [
       "  website_name                                               text  \\\n",
       "0       amazon  Oh and I forgot to also mention the weird colo...   \n",
       "1       amazon                       THAT one didn't work either.   \n",
       "2       amazon                                 Waste of 13 bucks.   \n",
       "3       amazon  Product is useless, since it does not have eno...   \n",
       "4       amazon  None of the three sizes they sent with the hea...   \n",
       "\n",
       "                                              text_1  \n",
       "0  oh and i forgot to also mention the weird colo...  \n",
       "1                        that one didn't work either  \n",
       "2                                  waste of 13 bucks  \n",
       "3  product is useless since it does not have enou...  \n",
       "4  none of the three sizes they sent with the hea...  "
      ],
      "text/html": [
       "<div>\n",
       "<style scoped>\n",
       "    .dataframe tbody tr th:only-of-type {\n",
       "        vertical-align: middle;\n",
       "    }\n",
       "\n",
       "    .dataframe tbody tr th {\n",
       "        vertical-align: top;\n",
       "    }\n",
       "\n",
       "    .dataframe thead th {\n",
       "        text-align: right;\n",
       "    }\n",
       "</style>\n",
       "<table border=\"1\" class=\"dataframe\">\n",
       "  <thead>\n",
       "    <tr style=\"text-align: right;\">\n",
       "      <th></th>\n",
       "      <th>website_name</th>\n",
       "      <th>text</th>\n",
       "      <th>text_1</th>\n",
       "    </tr>\n",
       "  </thead>\n",
       "  <tbody>\n",
       "    <tr>\n",
       "      <th>0</th>\n",
       "      <td>amazon</td>\n",
       "      <td>Oh and I forgot to also mention the weird colo...</td>\n",
       "      <td>oh and i forgot to also mention the weird colo...</td>\n",
       "    </tr>\n",
       "    <tr>\n",
       "      <th>1</th>\n",
       "      <td>amazon</td>\n",
       "      <td>THAT one didn't work either.</td>\n",
       "      <td>that one didn't work either</td>\n",
       "    </tr>\n",
       "    <tr>\n",
       "      <th>2</th>\n",
       "      <td>amazon</td>\n",
       "      <td>Waste of 13 bucks.</td>\n",
       "      <td>waste of 13 bucks</td>\n",
       "    </tr>\n",
       "    <tr>\n",
       "      <th>3</th>\n",
       "      <td>amazon</td>\n",
       "      <td>Product is useless, since it does not have eno...</td>\n",
       "      <td>product is useless since it does not have enou...</td>\n",
       "    </tr>\n",
       "    <tr>\n",
       "      <th>4</th>\n",
       "      <td>amazon</td>\n",
       "      <td>None of the three sizes they sent with the hea...</td>\n",
       "      <td>none of the three sizes they sent with the hea...</td>\n",
       "    </tr>\n",
       "  </tbody>\n",
       "</table>\n",
       "</div>"
      ]
     },
     "metadata": {},
     "execution_count": 4
    }
   ],
   "metadata": {}
  },
  {
   "cell_type": "code",
   "execution_count": 5,
   "source": [
    "#stemming and lemmatization\n",
    "# nltk.download('punkt')\n",
    "# nltk.download('wordnet')\n",
    "\n",
    "def get_wordnet_pos(word):\n",
    "    \"\"\"Map POS tag to first character lemmatize() accepts\"\"\"\n",
    "    if word == '':\n",
    "        return ''\n",
    "    tag = nltk.pos_tag([word])[0][1][0].upper()\n",
    "    tag_dict = {\"J\": wordnet.ADJ,\n",
    "                \"N\": wordnet.NOUN,\n",
    "                \"V\": wordnet.VERB,\n",
    "                \"R\": wordnet.ADV}\n",
    "\n",
    "    return tag_dict.get(tag, wordnet.NOUN)\n",
    "\n",
    "wordnet_lemmatizer = WordNetLemmatizer()\n",
    "nrows = len(df)\n",
    "lemmatized_text_list = []\n",
    "\n",
    "for row in range(0, nrows):\n",
    "    \n",
    "    # Create an empty list containing lemmatized words\n",
    "    lemmatized_list = []\n",
    "    \n",
    "    # Save the text and its words into an object\n",
    "    text = df.loc[row]['text_1']\n",
    "    text_words = text.split(\" \")\n",
    "    # Iterate through every word to lemmatize\n",
    "    for word in text_words:\n",
    "        pos = get_wordnet_pos(word)\n",
    "        if pos != '':\n",
    "            lemmatized_list.append(wordnet_lemmatizer.lemmatize(word, pos=pos))\n",
    "        \n",
    "    # Join the list\n",
    "    lemmatized_text = \" \".join(lemmatized_list)\n",
    "    # Append to the list containing the texts\n",
    "    lemmatized_text_list.append(lemmatized_text)\n",
    "\n",
    "df['text_2'] = lemmatized_text_list\n",
    "df.head()"
   ],
   "outputs": [
    {
     "output_type": "execute_result",
     "data": {
      "text/plain": [
       "  website_name                                               text  \\\n",
       "0       amazon  Oh and I forgot to also mention the weird colo...   \n",
       "1       amazon                       THAT one didn't work either.   \n",
       "2       amazon                                 Waste of 13 bucks.   \n",
       "3       amazon  Product is useless, since it does not have eno...   \n",
       "4       amazon  None of the three sizes they sent with the hea...   \n",
       "\n",
       "                                              text_1  \\\n",
       "0  oh and i forgot to also mention the weird colo...   \n",
       "1                        that one didn't work either   \n",
       "2                                  waste of 13 bucks   \n",
       "3  product is useless since it does not have enou...   \n",
       "4  none of the three sizes they sent with the hea...   \n",
       "\n",
       "                                              text_2  \n",
       "0  oh and i forgot to also mention the weird colo...  \n",
       "1                        that one didn't work either  \n",
       "2                                   waste of 13 buck  \n",
       "3  product be useless since it do not have enough...  \n",
       "4  none of the three size they sent with the head...  "
      ],
      "text/html": [
       "<div>\n",
       "<style scoped>\n",
       "    .dataframe tbody tr th:only-of-type {\n",
       "        vertical-align: middle;\n",
       "    }\n",
       "\n",
       "    .dataframe tbody tr th {\n",
       "        vertical-align: top;\n",
       "    }\n",
       "\n",
       "    .dataframe thead th {\n",
       "        text-align: right;\n",
       "    }\n",
       "</style>\n",
       "<table border=\"1\" class=\"dataframe\">\n",
       "  <thead>\n",
       "    <tr style=\"text-align: right;\">\n",
       "      <th></th>\n",
       "      <th>website_name</th>\n",
       "      <th>text</th>\n",
       "      <th>text_1</th>\n",
       "      <th>text_2</th>\n",
       "    </tr>\n",
       "  </thead>\n",
       "  <tbody>\n",
       "    <tr>\n",
       "      <th>0</th>\n",
       "      <td>amazon</td>\n",
       "      <td>Oh and I forgot to also mention the weird colo...</td>\n",
       "      <td>oh and i forgot to also mention the weird colo...</td>\n",
       "      <td>oh and i forgot to also mention the weird colo...</td>\n",
       "    </tr>\n",
       "    <tr>\n",
       "      <th>1</th>\n",
       "      <td>amazon</td>\n",
       "      <td>THAT one didn't work either.</td>\n",
       "      <td>that one didn't work either</td>\n",
       "      <td>that one didn't work either</td>\n",
       "    </tr>\n",
       "    <tr>\n",
       "      <th>2</th>\n",
       "      <td>amazon</td>\n",
       "      <td>Waste of 13 bucks.</td>\n",
       "      <td>waste of 13 bucks</td>\n",
       "      <td>waste of 13 buck</td>\n",
       "    </tr>\n",
       "    <tr>\n",
       "      <th>3</th>\n",
       "      <td>amazon</td>\n",
       "      <td>Product is useless, since it does not have eno...</td>\n",
       "      <td>product is useless since it does not have enou...</td>\n",
       "      <td>product be useless since it do not have enough...</td>\n",
       "    </tr>\n",
       "    <tr>\n",
       "      <th>4</th>\n",
       "      <td>amazon</td>\n",
       "      <td>None of the three sizes they sent with the hea...</td>\n",
       "      <td>none of the three sizes they sent with the hea...</td>\n",
       "      <td>none of the three size they sent with the head...</td>\n",
       "    </tr>\n",
       "  </tbody>\n",
       "</table>\n",
       "</div>"
      ]
     },
     "metadata": {},
     "execution_count": 5
    }
   ],
   "metadata": {}
  },
  {
   "cell_type": "code",
   "execution_count": 6,
   "source": [
    "#remove numbers\n",
    "pattern = r'[0-9]'\n",
    "remove_number = []\n",
    "for text in df[\"text_2\"].tolist():\n",
    "    remove_number.append(re.sub(pattern, '', text))\n",
    "    \n",
    "df[\"text_3\"] = remove_number\n",
    "df"
   ],
   "outputs": [
    {
     "output_type": "execute_result",
     "data": {
      "text/plain": [
       "     website_name                                               text  \\\n",
       "0          amazon  Oh and I forgot to also mention the weird colo...   \n",
       "1          amazon                       THAT one didn't work either.   \n",
       "2          amazon                                 Waste of 13 bucks.   \n",
       "3          amazon  Product is useless, since it does not have eno...   \n",
       "4          amazon  None of the three sizes they sent with the hea...   \n",
       "...           ...                                                ...   \n",
       "2395         yelp  The sweet potato fries were very good and seas...   \n",
       "2396         yelp  I could eat their bruschetta all day it is dev...   \n",
       "2397         yelp                               Ambience is perfect.   \n",
       "2398         yelp  We ordered the duck rare and it was pink and t...   \n",
       "2399         yelp       Service was good and the company was better!   \n",
       "\n",
       "                                                 text_1  \\\n",
       "0     oh and i forgot to also mention the weird colo...   \n",
       "1                           that one didn't work either   \n",
       "2                                     waste of 13 bucks   \n",
       "3     product is useless since it does not have enou...   \n",
       "4     none of the three sizes they sent with the hea...   \n",
       "...                                                 ...   \n",
       "2395  the sweet potato fries were very good and seas...   \n",
       "2396  i could eat their bruschetta all day it is devine   \n",
       "2397                                ambience is perfect   \n",
       "2398  we ordered the duck rare and it was pink and t...   \n",
       "2399        service was good and the company was better   \n",
       "\n",
       "                                                 text_2  \\\n",
       "0     oh and i forgot to also mention the weird colo...   \n",
       "1                           that one didn't work either   \n",
       "2                                      waste of 13 buck   \n",
       "3     product be useless since it do not have enough...   \n",
       "4     none of the three size they sent with the head...   \n",
       "...                                                 ...   \n",
       "2395  the sweet potato fry be very good and season well   \n",
       "2396  i could eat their bruschetta all day it be devine   \n",
       "2397                                ambience be perfect   \n",
       "2398  we order the duck rare and it be pink and tend...   \n",
       "2399            service be good and the company be well   \n",
       "\n",
       "                                                 text_3  \n",
       "0     oh and i forgot to also mention the weird colo...  \n",
       "1                           that one didn't work either  \n",
       "2                                        waste of  buck  \n",
       "3     product be useless since it do not have enough...  \n",
       "4     none of the three size they sent with the head...  \n",
       "...                                                 ...  \n",
       "2395  the sweet potato fry be very good and season well  \n",
       "2396  i could eat their bruschetta all day it be devine  \n",
       "2397                                ambience be perfect  \n",
       "2398  we order the duck rare and it be pink and tend...  \n",
       "2399            service be good and the company be well  \n",
       "\n",
       "[2400 rows x 5 columns]"
      ],
      "text/html": [
       "<div>\n",
       "<style scoped>\n",
       "    .dataframe tbody tr th:only-of-type {\n",
       "        vertical-align: middle;\n",
       "    }\n",
       "\n",
       "    .dataframe tbody tr th {\n",
       "        vertical-align: top;\n",
       "    }\n",
       "\n",
       "    .dataframe thead th {\n",
       "        text-align: right;\n",
       "    }\n",
       "</style>\n",
       "<table border=\"1\" class=\"dataframe\">\n",
       "  <thead>\n",
       "    <tr style=\"text-align: right;\">\n",
       "      <th></th>\n",
       "      <th>website_name</th>\n",
       "      <th>text</th>\n",
       "      <th>text_1</th>\n",
       "      <th>text_2</th>\n",
       "      <th>text_3</th>\n",
       "    </tr>\n",
       "  </thead>\n",
       "  <tbody>\n",
       "    <tr>\n",
       "      <th>0</th>\n",
       "      <td>amazon</td>\n",
       "      <td>Oh and I forgot to also mention the weird colo...</td>\n",
       "      <td>oh and i forgot to also mention the weird colo...</td>\n",
       "      <td>oh and i forgot to also mention the weird colo...</td>\n",
       "      <td>oh and i forgot to also mention the weird colo...</td>\n",
       "    </tr>\n",
       "    <tr>\n",
       "      <th>1</th>\n",
       "      <td>amazon</td>\n",
       "      <td>THAT one didn't work either.</td>\n",
       "      <td>that one didn't work either</td>\n",
       "      <td>that one didn't work either</td>\n",
       "      <td>that one didn't work either</td>\n",
       "    </tr>\n",
       "    <tr>\n",
       "      <th>2</th>\n",
       "      <td>amazon</td>\n",
       "      <td>Waste of 13 bucks.</td>\n",
       "      <td>waste of 13 bucks</td>\n",
       "      <td>waste of 13 buck</td>\n",
       "      <td>waste of  buck</td>\n",
       "    </tr>\n",
       "    <tr>\n",
       "      <th>3</th>\n",
       "      <td>amazon</td>\n",
       "      <td>Product is useless, since it does not have eno...</td>\n",
       "      <td>product is useless since it does not have enou...</td>\n",
       "      <td>product be useless since it do not have enough...</td>\n",
       "      <td>product be useless since it do not have enough...</td>\n",
       "    </tr>\n",
       "    <tr>\n",
       "      <th>4</th>\n",
       "      <td>amazon</td>\n",
       "      <td>None of the three sizes they sent with the hea...</td>\n",
       "      <td>none of the three sizes they sent with the hea...</td>\n",
       "      <td>none of the three size they sent with the head...</td>\n",
       "      <td>none of the three size they sent with the head...</td>\n",
       "    </tr>\n",
       "    <tr>\n",
       "      <th>...</th>\n",
       "      <td>...</td>\n",
       "      <td>...</td>\n",
       "      <td>...</td>\n",
       "      <td>...</td>\n",
       "      <td>...</td>\n",
       "    </tr>\n",
       "    <tr>\n",
       "      <th>2395</th>\n",
       "      <td>yelp</td>\n",
       "      <td>The sweet potato fries were very good and seas...</td>\n",
       "      <td>the sweet potato fries were very good and seas...</td>\n",
       "      <td>the sweet potato fry be very good and season well</td>\n",
       "      <td>the sweet potato fry be very good and season well</td>\n",
       "    </tr>\n",
       "    <tr>\n",
       "      <th>2396</th>\n",
       "      <td>yelp</td>\n",
       "      <td>I could eat their bruschetta all day it is dev...</td>\n",
       "      <td>i could eat their bruschetta all day it is devine</td>\n",
       "      <td>i could eat their bruschetta all day it be devine</td>\n",
       "      <td>i could eat their bruschetta all day it be devine</td>\n",
       "    </tr>\n",
       "    <tr>\n",
       "      <th>2397</th>\n",
       "      <td>yelp</td>\n",
       "      <td>Ambience is perfect.</td>\n",
       "      <td>ambience is perfect</td>\n",
       "      <td>ambience be perfect</td>\n",
       "      <td>ambience be perfect</td>\n",
       "    </tr>\n",
       "    <tr>\n",
       "      <th>2398</th>\n",
       "      <td>yelp</td>\n",
       "      <td>We ordered the duck rare and it was pink and t...</td>\n",
       "      <td>we ordered the duck rare and it was pink and t...</td>\n",
       "      <td>we order the duck rare and it be pink and tend...</td>\n",
       "      <td>we order the duck rare and it be pink and tend...</td>\n",
       "    </tr>\n",
       "    <tr>\n",
       "      <th>2399</th>\n",
       "      <td>yelp</td>\n",
       "      <td>Service was good and the company was better!</td>\n",
       "      <td>service was good and the company was better</td>\n",
       "      <td>service be good and the company be well</td>\n",
       "      <td>service be good and the company be well</td>\n",
       "    </tr>\n",
       "  </tbody>\n",
       "</table>\n",
       "<p>2400 rows × 5 columns</p>\n",
       "</div>"
      ]
     },
     "metadata": {},
     "execution_count": 6
    }
   ],
   "metadata": {}
  },
  {
   "cell_type": "code",
   "execution_count": 7,
   "source": [
    "list_columns = [\"website_name\", \"text_3\"]\n",
    "df_clean = df.copy()\n",
    "df_clean = df_clean[list_columns]\n",
    "df_clean = df_clean.rename(columns={'text_3': 'text'})\n",
    "df_clean.head()"
   ],
   "outputs": [
    {
     "output_type": "execute_result",
     "data": {
      "text/plain": [
       "  website_name                                               text\n",
       "0       amazon  oh and i forgot to also mention the weird colo...\n",
       "1       amazon                        that one didn't work either\n",
       "2       amazon                                     waste of  buck\n",
       "3       amazon  product be useless since it do not have enough...\n",
       "4       amazon  none of the three size they sent with the head..."
      ],
      "text/html": [
       "<div>\n",
       "<style scoped>\n",
       "    .dataframe tbody tr th:only-of-type {\n",
       "        vertical-align: middle;\n",
       "    }\n",
       "\n",
       "    .dataframe tbody tr th {\n",
       "        vertical-align: top;\n",
       "    }\n",
       "\n",
       "    .dataframe thead th {\n",
       "        text-align: right;\n",
       "    }\n",
       "</style>\n",
       "<table border=\"1\" class=\"dataframe\">\n",
       "  <thead>\n",
       "    <tr style=\"text-align: right;\">\n",
       "      <th></th>\n",
       "      <th>website_name</th>\n",
       "      <th>text</th>\n",
       "    </tr>\n",
       "  </thead>\n",
       "  <tbody>\n",
       "    <tr>\n",
       "      <th>0</th>\n",
       "      <td>amazon</td>\n",
       "      <td>oh and i forgot to also mention the weird colo...</td>\n",
       "    </tr>\n",
       "    <tr>\n",
       "      <th>1</th>\n",
       "      <td>amazon</td>\n",
       "      <td>that one didn't work either</td>\n",
       "    </tr>\n",
       "    <tr>\n",
       "      <th>2</th>\n",
       "      <td>amazon</td>\n",
       "      <td>waste of  buck</td>\n",
       "    </tr>\n",
       "    <tr>\n",
       "      <th>3</th>\n",
       "      <td>amazon</td>\n",
       "      <td>product be useless since it do not have enough...</td>\n",
       "    </tr>\n",
       "    <tr>\n",
       "      <th>4</th>\n",
       "      <td>amazon</td>\n",
       "      <td>none of the three size they sent with the head...</td>\n",
       "    </tr>\n",
       "  </tbody>\n",
       "</table>\n",
       "</div>"
      ]
     },
     "metadata": {},
     "execution_count": 7
    }
   ],
   "metadata": {}
  },
  {
   "cell_type": "code",
   "execution_count": 8,
   "source": [
    "from spellchecker import SpellChecker\n",
    "spell = SpellChecker(distance=4)\n",
    "list_words = []\n",
    "for index, txt in enumerate(df_clean.text):\n",
    "    words = spell.split_words(txt)\n",
    "    list_words = [spell.correction(word) for word in words]\n",
    "    df_clean.loc[index, 'text'] = ' '.join(list_words)"
   ],
   "outputs": [],
   "metadata": {}
  },
  {
   "cell_type": "code",
   "execution_count": 9,
   "source": [
    "nltk.download('stopwords')\n",
    "stop_words = list(stopwords.words('english'))\n",
    "to_remove = ['against', 'into', 'above', 'below', 'up', 'down', 'on', 'off', 'again', 'few', 'more', 'most', 'no', 'not', 'only', 'same']\n",
    "for word in to_remove:\n",
    "    stop_words.remove(word)"
   ],
   "outputs": [
    {
     "output_type": "stream",
     "name": "stderr",
     "text": [
      "[nltk_data] Downloading package stopwords to\n",
      "[nltk_data]     /Users/irenechang/nltk_data...\n",
      "[nltk_data]   Package stopwords is already up-to-date!\n"
     ]
    }
   ],
   "metadata": {}
  },
  {
   "cell_type": "code",
   "execution_count": 10,
   "source": [
    "from sklearn.feature_extraction.text import TfidfVectorizer\n",
    "\n",
    "vectorizer = TfidfVectorizer(min_df = 2, stop_words = stop_words)\n",
    "vectors = vectorizer.fit_transform(df_clean['text'].values.tolist())\n",
    "feature_names = vectorizer.get_feature_names()\n",
    "dense = vectors.todense()\n",
    "denselist = dense.tolist()\n",
    "\n",
    "# all_important_words3 = []\n",
    "# for index, item in enumerate(denselist3):\n",
    "#     scores3 = {feature: tfidf for feature, tfidf in zip(feature_names3, item)}\n",
    "#     sorted_words3 = sorted(scores3.items(), key=lambda x: x[1], reverse=True)\n",
    "#     for word, score in sorted_words3: \n",
    "#         if score > 2:\n",
    "#             all_important_words3.append((word, score))"
   ],
   "outputs": [],
   "metadata": {}
  },
  {
   "cell_type": "code",
   "execution_count": 12,
   "source": [
    "vectorizer2 = TfidfVectorizer(min_df = 2)\n",
    "vectors2 = vectorizer2.fit_transform(df_clean['text'].values.tolist())\n",
    "feature_names2 = vectorizer2.get_feature_names()\n",
    "dense2 = vectors2.todense()\n",
    "denselist2 = dense2.tolist()\n",
    "\n",
    "feature_names2 = vectorizer2.get_feature_names()\n",
    "trainset2 = pd.DataFrame(denselist2, columns=feature_names2)\n",
    "\n",
    "# with stopwords\n",
    "x_train2, x_test2, y_train2, y_test2 = train_test_split(trainset2, y_train_df['is_positive_sentiment'], test_size=0.33, random_state = 0)"
   ],
   "outputs": [],
   "metadata": {}
  },
  {
   "cell_type": "code",
   "execution_count": 180,
   "source": [
    "feature_names = vectorizer.get_feature_names()\n",
    "trainset = pd.DataFrame(denselist, columns=feature_names)\n",
    "\n",
    "# without stopwords\n",
    "x_train, x_test, y_train, y_test = train_test_split(trainset, y_train_df['is_positive_sentiment'], test_size=0.33, random_state = 0)"
   ],
   "outputs": [],
   "metadata": {}
  },
  {
   "cell_type": "code",
   "execution_count": 174,
   "source": [
    "trainset2.to_csv('important_words.csv', index=False)"
   ],
   "outputs": [],
   "metadata": {}
  },
  {
   "cell_type": "markdown",
   "source": [
    "## LR TFIDF Unigram Without Stopwords (currently best model)"
   ],
   "metadata": {}
  },
  {
   "cell_type": "code",
   "execution_count": 84,
   "source": [
    "# logistic regression with stopwords\n",
    "# 0.9347014925373134\n",
    "# 0.7714646464646465"
   ],
   "outputs": [],
   "metadata": {}
  },
  {
   "cell_type": "code",
   "execution_count": 72,
   "source": [
    "# logistic regression without stopwords\n",
    "base_lr = LogisticRegression()\n",
    "base_lr.fit(x_train, y_train)\n",
    "print(base_lr.score(x_train, y_train))\n",
    "print(base_lr.score(x_test, y_test))"
   ],
   "outputs": [
    {
     "output_type": "stream",
     "name": "stdout",
     "text": [
      "0.9371890547263682\n",
      "0.7992424242424242\n"
     ]
    }
   ],
   "metadata": {}
  },
  {
   "cell_type": "code",
   "execution_count": 78,
   "source": [
    "param_grid = {\"C\":np.logspace(-3,3,10), \"max_iter\":[50, 150, 250, 350, 450, 500]}\n",
    "tune_lr = LogisticRegression()\n",
    "grid_search = RandomizedSearchCV(tune_lr, param_distributions = param_grid, scoring='accuracy',cv=3,verbose=1, n_jobs=-1, n_iter=50)\n",
    "grid_search.fit(x_train, y_train)"
   ],
   "outputs": [
    {
     "output_type": "stream",
     "name": "stdout",
     "text": [
      "Fitting 3 folds for each of 50 candidates, totalling 150 fits\n"
     ]
    },
    {
     "output_type": "execute_result",
     "data": {
      "text/plain": [
       "RandomizedSearchCV(cv=3, estimator=LogisticRegression(), n_iter=50, n_jobs=-1,\n",
       "                   param_distributions={'C': array([1.00000000e-03, 4.64158883e-03, 2.15443469e-02, 1.00000000e-01,\n",
       "       4.64158883e-01, 2.15443469e+00, 1.00000000e+01, 4.64158883e+01,\n",
       "       2.15443469e+02, 1.00000000e+03]),\n",
       "                                        'max_iter': [50, 150, 250, 350, 450,\n",
       "                                                     500]},\n",
       "                   scoring='accuracy', verbose=1)"
      ]
     },
     "metadata": {},
     "execution_count": 78
    }
   ],
   "metadata": {}
  },
  {
   "cell_type": "code",
   "execution_count": 79,
   "source": [
    "print('Best parameters found:\\n', grid_search.best_params_)\n",
    "print(\"Train accuracy: %.4f\" % grid_search.score(x_train, y_train))\n",
    "print(\" Test accuracy: %.4f\" % grid_search.score(x_test, y_test))"
   ],
   "outputs": [
    {
     "output_type": "stream",
     "name": "stdout",
     "text": [
      "Best parameters found:\n",
      " {'max_iter': 250, 'C': 2.154434690031882}\n",
      "Train accuracy: 0.9515\n",
      " Test accuracy: 0.8056\n"
     ]
    }
   ],
   "metadata": {}
  },
  {
   "cell_type": "code",
   "execution_count": 91,
   "source": [
    "# print('Best parameters found:\\n', grid_search.best_params_)\n",
    "# print(\"Train accuracy: %.4f\" % grid_search.score(x_train2, y_train2))\n",
    "# print(\" Test accuracy: %.4f\" % grid_search.score(x_test2, y_test2))\n",
    "# Best parameters found:\n",
    "#  {'max_iter': 500, 'C': 2.154434690031882}\n",
    "# Train accuracy: 0.9527\n",
    "#  Test accuracy: 0.7866"
   ],
   "outputs": [],
   "metadata": {}
  },
  {
   "cell_type": "code",
   "execution_count": 90,
   "source": [
    "\n",
    "def plot_accuracy_and_logLoss(range, train_acc, test_acc, train_logLoss, test_logLoss):\n",
    "    fig, ax = plt.subplots(1, 2, figsize=(8, 6))\n",
    "    ax[0].plot(range, train_acc, color=\"red\", label=\"train\")\n",
    "    ax[0].plot(range, test_acc, color=\"blue\", label=\"test\")\n",
    "    ax[0].legend()\n",
    "    ax[0].set_xlabel('C values')\n",
    "    ax[0].set_ylabel('Accuracy')\n",
    "    ax[1].plot(range, train_logLoss, color=\"red\", label=\"train\")\n",
    "    ax[1].plot(range, test_logLoss, color=\"blue\", label=\"test\")\n",
    "    ax[1].legend()\n",
    "    ax[1].set_xlabel('C values')\n",
    "    ax[1].set_ylabel('Log loss')\n",
    "    plt.show()\n",
    "\n",
    "def examine_Cs(data_train, label_train):\n",
    "    train_acc = []\n",
    "    test_acc = []\n",
    "    train_logLoss = []\n",
    "    test_logLoss = []\n",
    "    for c in np.logspace(-1,1,10):\n",
    "        kf = KFold(n_splits=4, shuffle=True, random_state=0)\n",
    "        train_acc_fold = []\n",
    "        test_acc_fold = []\n",
    "        train_logLoss_fold = []\n",
    "        test_logLoss_fold = []\n",
    "        for train_index, test_index in kf.split(data_train):\n",
    "            X_train, X_test = data_train.loc[train_index], data_train.loc[test_index]\n",
    "            y_train, y_test = label_train[train_index], label_train[test_index]\n",
    "            lr = LogisticRegression(C = c)\n",
    "            lr.fit(X_train, y_train)\n",
    "\n",
    "            train_acc_fold.append(lr.score(X_train, y_train))\n",
    "            test_acc_fold.append(lr.score(X_test, y_test))\n",
    "            train_logLoss_fold.append(log_loss(y_train, lr.predict(X_train)))\n",
    "            test_logLoss_fold.append(log_loss(y_test, lr.predict(X_test)))\n",
    "        print(\"C value: %0.3f\" % c)\n",
    "        print(\"Training accuracy scores for 4 folds are: \", \" \".join('%0.3f'%x for x in train_acc_fold), \"Mean: \", '%0.3f'%np.mean(train_acc_fold), \n",
    "        \"Std: \", '%0.3f'%np.std(train_acc_fold))\n",
    "        print(\"Testing accuracy scores for 4 folds are: \", \" \".join('%0.3f'%x for x in test_acc_fold), \"Mean: \", '%0.3f'%np.mean(test_acc_fold), \n",
    "        \"Std: \", '%0.3f'%np.std(test_acc_fold))\n",
    "        print(\"Training log loss for 4 folds are: \", \" \".join('%0.3f'%x for x in train_logLoss_fold), \"Mean: \", '%0.3f'%np.mean(train_logLoss_fold), \n",
    "        \"Std: \", '%0.3f'%np.std(train_logLoss_fold))\n",
    "        print(\"Testing log loss for 4 folds are: \", \" \".join('%0.3f'%x for x in test_logLoss_fold), \"Mean: \", '%0.3f'%np.mean(test_logLoss_fold), \n",
    "        \"Std: \", '%0.3f'%np.std(test_logLoss_fold), \"\\n\")\n",
    "        \n",
    "        train_acc.append(sum(train_acc_fold)/4)\n",
    "        test_acc.append(sum(test_acc_fold)/4)\n",
    "        train_logLoss.append(sum(train_logLoss_fold)/4)\n",
    "        test_logLoss.append(sum(test_logLoss_fold)/4)\n",
    "    # plot_accuracy_and_logLoss(np.logspace(-1,1,10), train_acc, test_acc, train_logLoss, test_logLoss)"
   ],
   "outputs": [],
   "metadata": {}
  },
  {
   "cell_type": "code",
   "execution_count": null,
   "source": [
    "examine_Cs(trainset, y_train_df['is_positive_sentiment'])"
   ],
   "outputs": [],
   "metadata": {}
  },
  {
   "cell_type": "code",
   "execution_count": 92,
   "source": [
    "def plot_accuracy_and_logLoss(range, train_acc, test_acc, train_logLoss, test_logLoss):\n",
    "    fig, ax = plt.subplots(1, 2, figsize=(8, 6))\n",
    "    ax[0].plot(range, train_acc, color=\"red\", label=\"train\")\n",
    "    ax[0].plot(range, test_acc, color=\"blue\", label=\"test\")\n",
    "    ax[0].legend()\n",
    "    ax[0].set_xlabel('Max iterations')\n",
    "    ax[0].set_ylabel('Accuracy')\n",
    "    ax[1].plot(range, train_logLoss, color=\"red\", label=\"train\")\n",
    "    ax[1].plot(range, test_logLoss, color=\"blue\", label=\"test\")\n",
    "    ax[1].legend()\n",
    "    ax[1].set_xlabel('Max_iterations')\n",
    "    ax[1].set_ylabel('Log loss')\n",
    "    plt.show()\n",
    "\n",
    "def examine_max_iters(data_train, label_train):\n",
    "    train_acc = []\n",
    "    test_acc = []\n",
    "    train_logLoss = []\n",
    "    test_logLoss = []\n",
    "    for m in [10, 50, 100, 150, 200, 250, 300, 350]:\n",
    "        kf = KFold(n_splits=4, shuffle=True, random_state=0)\n",
    "        train_acc_fold = []\n",
    "        test_acc_fold = []\n",
    "        train_logLoss_fold = []\n",
    "        test_logLoss_fold = []\n",
    "        for train_index, test_index in kf.split(data_train):\n",
    "            X_train, X_test = data_train.loc[train_index], data_train.loc[test_index]\n",
    "            y_train, y_test = label_train[train_index], label_train[test_index]\n",
    "            lr = LogisticRegression(C = 2.154434690031882, max_iter=m)\n",
    "            lr.fit(X_train, y_train)\n",
    "\n",
    "            train_acc_fold.append(lr.score(X_train, y_train))\n",
    "            test_acc_fold.append(lr.score(X_test, y_test))\n",
    "            train_logLoss_fold.append(log_loss(y_train, lr.predict(X_train)))\n",
    "            test_logLoss_fold.append(log_loss(y_test, lr.predict(X_test)))\n",
    "        print(\"Max iteration: %d\" % m)\n",
    "        print(\"Training accuracy scores for 4 folds are: \", \" \".join('%0.3f'%x for x in train_acc_fold), \"Mean: \", '%0.3f'%np.mean(train_acc_fold), \n",
    "        \"Std: \", '%0.3f'%np.std(train_acc_fold))\n",
    "        print(\"Testing accuracy scores for 4 folds are: \", \" \".join('%0.3f'%x for x in test_acc_fold), \"Mean: \", '%0.3f'%np.mean(test_acc_fold), \n",
    "        \"Std: \", '%0.3f'%np.std(test_acc_fold))\n",
    "        print(\"Training log loss for 4 folds are: \", \" \".join('%0.3f'%x for x in train_logLoss_fold), \"Mean: \", '%0.3f'%np.mean(train_logLoss_fold), \n",
    "        \"Std: \", '%0.3f'%np.std(train_logLoss_fold))\n",
    "        print(\"Testing log loss for 4 folds are: \", \" \".join('%0.3f'%x for x in test_logLoss_fold), \"Mean: \", '%0.3f'%np.mean(test_logLoss_fold), \n",
    "        \"Std: \", '%0.3f'%np.std(test_logLoss_fold), \"\\n\")\n",
    "\n",
    "        # train_acc.append(sum(train_acc_fold)/4)\n",
    "        # test_acc.append(sum(test_acc_fold)/4)\n",
    "        # train_logLoss.append(sum(train_logLoss_fold)/4)\n",
    "        # test_logLoss.append(sum(test_logLoss_fold)/4)\n",
    "    # plot_accuracy_and_logLoss([10, 50, 100, 150, 200, 250, 300, 350], train_acc, test_acc, train_logLoss, test_logLoss)"
   ],
   "outputs": [],
   "metadata": {}
  },
  {
   "cell_type": "code",
   "execution_count": null,
   "source": [
    "examine_max_iters(trainset, y_train_df['is_positive_sentiment'])"
   ],
   "outputs": [],
   "metadata": {}
  },
  {
   "cell_type": "code",
   "execution_count": 81,
   "source": [
    "test_set = pd.read_csv('test_data.csv')\n",
    "prediction = grid_search.predict_proba(test_set)[:,1]\n",
    "np.savetxt('yproba1_test.txt', prediction)"
   ],
   "outputs": [],
   "metadata": {}
  },
  {
   "cell_type": "markdown",
   "source": [
    "## SVM TFIDF Unigram with stopwords"
   ],
   "metadata": {}
  },
  {
   "cell_type": "code",
   "execution_count": 85,
   "source": [
    "from sklearn.svm import SVC\n",
    "\n",
    "base_svm = SVC()\n",
    "base_svm.fit(x_train2, y_train2)\n",
    "print(base_svm.score(x_train2, y_train2))\n",
    "print(base_svm.score(x_test2, y_test2))"
   ],
   "outputs": [
    {
     "output_type": "stream",
     "name": "stdout",
     "text": [
      "0.9925373134328358\n",
      "0.7929292929292929\n"
     ]
    }
   ],
   "metadata": {}
  },
  {
   "cell_type": "code",
   "execution_count": 86,
   "source": [
    "# base_svm = SVC()\n",
    "# base_svm.fit(x_train, y_train)\n",
    "# print(base_svm.score(x_train, y_train))\n",
    "# print(base_svm.score(x_test, y_test))\n",
    "# 0.9912935323383084\n",
    "# 0.7941919191919192"
   ],
   "outputs": [],
   "metadata": {}
  },
  {
   "cell_type": "code",
   "execution_count": 163,
   "source": [
    "tune_svc = SVC(random_state = 0, probability=True)\n",
    "svc_search = RandomizedSearchCV(tune_svc, param_distributions = svc_grid, scoring='accuracy',cv=3,verbose=1, n_jobs=-1, n_iter=50)\n",
    "svc_search.fit(x_train, y_train)"
   ],
   "outputs": [
    {
     "output_type": "stream",
     "name": "stdout",
     "text": [
      "Fitting 3 folds for each of 50 candidates, totalling 150 fits\n"
     ]
    },
    {
     "output_type": "execute_result",
     "data": {
      "text/plain": [
       "RandomizedSearchCV(cv=3, estimator=SVC(probability=True, random_state=0),\n",
       "                   n_iter=50, n_jobs=-1,\n",
       "                   param_distributions={'C': [0.0001, 0.001, 0.01],\n",
       "                                        'degree': [1, 2, 3, 4, 5],\n",
       "                                        'gamma': [0.001, 0.01, 0.1, 1, 10, 100],\n",
       "                                        'kernel': ['linear', 'rbf', 'poly']},\n",
       "                   scoring='accuracy', verbose=1)"
      ]
     },
     "metadata": {},
     "execution_count": 163
    }
   ],
   "metadata": {}
  },
  {
   "cell_type": "code",
   "execution_count": 164,
   "source": [
    "print('Best parameters found:\\n', svc_search.best_params_)\n",
    "print(\"Train accuracy: %.4f\" % svc_search.score(x_train, y_train))\n",
    "print(\" Test accuracy: %.4f\" % svc_search.score(x_test, y_test))\n",
    "# Best parameters found:\n",
    "#  {'kernel': 'poly', 'gamma': 100, 'degree': 2, 'C': 0.001}\n",
    "# Train accuracy: 0.9988\n",
    "#  Test accuracy: 0.7879"
   ],
   "outputs": [
    {
     "output_type": "stream",
     "name": "stdout",
     "text": [
      "Best parameters found:\n",
      " {'kernel': 'poly', 'gamma': 100, 'degree': 1, 'C': 0.01}\n",
      "Train accuracy: 0.9496\n",
      " Test accuracy: 0.7929\n"
     ]
    }
   ],
   "metadata": {}
  },
  {
   "cell_type": "code",
   "execution_count": 170,
   "source": [
    "def plot_accuracy_and_logLoss(range, train_acc, test_acc, train_logLoss, test_logLoss):\n",
    "    fig, ax = plt.subplots(1, 2, figsize=(8, 6))\n",
    "    ax[0].plot(range, train_acc, color=\"red\", label=\"train\")\n",
    "    ax[0].plot(range, test_acc, color=\"blue\", label=\"test\")\n",
    "    ax[0].legend()\n",
    "    ax[0].set_xlabel('C values')\n",
    "    ax[0].set_ylabel('Accuracy')\n",
    "    ax[1].plot(range, train_logLoss, color=\"red\", label=\"train\")\n",
    "    ax[1].plot(range, test_logLoss, color=\"blue\", label=\"test\")\n",
    "    ax[1].legend()\n",
    "    ax[1].set_xlabel('C values')\n",
    "    ax[1].set_ylabel('Log loss')\n",
    "    plt.show()\n",
    "\n",
    "def examine_Cs(data_train, label_train):\n",
    "    train_acc = []\n",
    "    test_acc = []\n",
    "    train_logLoss = []\n",
    "    test_logLoss = []\n",
    "    for c in np.logspace(-3, -1, 10):\n",
    "        kf = KFold(n_splits=4, shuffle=True, random_state=0)\n",
    "        train_acc_fold = []\n",
    "        test_acc_fold = []\n",
    "        train_logLoss_fold = []\n",
    "        test_logLoss_fold = []\n",
    "        for train_index, test_index in kf.split(data_train):\n",
    "            X_train, X_test = data_train.loc[train_index], data_train.loc[test_index]\n",
    "            y_train, y_test = label_train[train_index], label_train[test_index]\n",
    "            svc = SVC(kernel='poly', gamma=100, degree=1, C = c)\n",
    "            svc.fit(X_train, y_train)\n",
    "\n",
    "            train_acc_fold.append(svc.score(X_train, y_train))\n",
    "            test_acc_fold.append(svc.score(X_test, y_test))\n",
    "            train_logLoss_fold.append(log_loss(y_train, svc.predict(X_train)))\n",
    "            test_logLoss_fold.append(log_loss(y_test, svc.predict(X_test)))\n",
    "        print(\"C value: %0.4f\" % c)\n",
    "        print(\"Training accuracy scores for 4 folds are: \", \" \".join('%0.3f'%x for x in train_acc_fold), \"Mean: \", '%0.3f'%np.mean(train_acc_fold), \n",
    "        \"Std: \", '%0.3f'%np.std(train_acc_fold))\n",
    "        print(\"Testing accuracy scores for 4 folds are: \", \" \".join('%0.3f'%x for x in test_acc_fold), \"Mean: \", '%0.3f'%np.mean(test_acc_fold), \n",
    "        \"Std: \", '%0.3f'%np.std(test_acc_fold))\n",
    "        print(\"Training log loss for 4 folds are: \", \" \".join('%0.3f'%x for x in train_logLoss_fold), \"Mean: \", '%0.3f'%np.mean(train_logLoss_fold), \n",
    "        \"Std: \", '%0.3f'%np.std(train_logLoss_fold))\n",
    "        print(\"Testing log loss for 4 folds are: \", \" \".join('%0.3f'%x for x in test_logLoss_fold), \"Mean: \", '%0.3f'%np.mean(test_logLoss_fold), \n",
    "        \"Std: \", '%0.3f'%np.std(test_logLoss_fold), \"\\n\")\n",
    "        \n",
    "        train_acc.append(sum(train_acc_fold)/4)\n",
    "        test_acc.append(sum(test_acc_fold)/4)\n",
    "        train_logLoss.append(sum(train_logLoss_fold)/4)\n",
    "        test_logLoss.append(sum(test_logLoss_fold)/4)\n",
    "    plot_accuracy_and_logLoss(np.logspace(-3, -1, 10), train_acc, test_acc, train_logLoss, test_logLoss)"
   ],
   "outputs": [],
   "metadata": {}
  },
  {
   "cell_type": "code",
   "execution_count": 171,
   "source": [
    "examine_Cs(trainset, y_train_df['is_positive_sentiment'])"
   ],
   "outputs": [
    {
     "output_type": "stream",
     "name": "stdout",
     "text": [
      "C value: 0.0010\n",
      "Training accuracy scores for 4 folds are:  0.857 0.880 0.828 0.819 Mean:  0.846 Std:  0.024\n",
      "Testing accuracy scores for 4 folds are:  0.778 0.810 0.763 0.698 Mean:  0.762 Std:  0.041\n",
      "Training log loss for 4 folds are:  4.931 4.145 5.948 6.255 Mean:  5.320 Std:  0.837\n",
      "Testing log loss for 4 folds are:  7.656 6.562 8.174 10.419 Mean:  8.203 Std:  1.406 \n",
      "\n",
      "C value: 0.0017\n",
      "Training accuracy scores for 4 folds are:  0.895 0.896 0.887 0.884 Mean:  0.890 Std:  0.005\n",
      "Testing accuracy scores for 4 folds are:  0.800 0.818 0.822 0.758 Mean:  0.800 Std:  0.025\n",
      "Training log loss for 4 folds are:  3.627 3.588 3.914 4.010 Mean:  3.785 Std:  0.181\n",
      "Testing log loss for 4 folds are:  6.908 6.275 6.159 8.347 Mean:  6.922 Std:  0.871 \n",
      "\n",
      "C value: 0.0028\n",
      "Training accuracy scores for 4 folds are:  0.911 0.909 0.904 0.903 Mean:  0.907 Std:  0.003\n",
      "Testing accuracy scores for 4 folds are:  0.813 0.827 0.828 0.785 Mean:  0.813 Std:  0.017\n",
      "Training log loss for 4 folds are:  3.070 3.128 3.300 3.358 Mean:  3.214 Std:  0.119\n",
      "Testing log loss for 4 folds are:  6.447 5.987 5.929 7.426 Mean:  6.447 Std:  0.600 \n",
      "\n",
      "C value: 0.0046\n",
      "Training accuracy scores for 4 folds are:  0.926 0.926 0.926 0.920 Mean:  0.924 Std:  0.002\n",
      "Testing accuracy scores for 4 folds are:  0.802 0.828 0.815 0.788 Mean:  0.808 Std:  0.015\n",
      "Training log loss for 4 folds are:  2.571 2.571 2.571 2.763 Mean:  2.619 Std:  0.083\n",
      "Testing log loss for 4 folds are:  6.850 5.929 6.390 7.311 Mean:  6.620 Std:  0.515 \n",
      "\n",
      "C value: 0.0077\n",
      "Training accuracy scores for 4 folds are:  0.938 0.937 0.939 0.934 Mean:  0.937 Std:  0.002\n",
      "Testing accuracy scores for 4 folds are:  0.798 0.828 0.820 0.787 Mean:  0.808 Std:  0.017\n",
      "Training log loss for 4 folds are:  2.130 2.168 2.111 2.283 Mean:  2.173 Std:  0.067\n",
      "Testing log loss for 4 folds are:  6.965 5.929 6.217 7.368 Mean:  6.620 Std:  0.574 \n",
      "\n",
      "C value: 0.0129\n",
      "Training accuracy scores for 4 folds are:  0.955 0.946 0.951 0.949 Mean:  0.950 Std:  0.003\n",
      "Testing accuracy scores for 4 folds are:  0.803 0.828 0.810 0.783 Mean:  0.806 Std:  0.016\n",
      "Training log loss for 4 folds are:  1.554 1.861 1.708 1.746 Mean:  1.717 Std:  0.110\n",
      "Testing log loss for 4 folds are:  6.793 5.929 6.562 7.483 Mean:  6.692 Std:  0.556 \n",
      "\n",
      "C value: 0.0215\n",
      "Training accuracy scores for 4 folds are:  0.962 0.962 0.959 0.964 Mean:  0.962 Std:  0.002\n",
      "Testing accuracy scores for 4 folds are:  0.797 0.813 0.798 0.783 Mean:  0.798 Std:  0.011\n",
      "Training log loss for 4 folds are:  1.305 1.324 1.420 1.247 Mean:  1.324 Std:  0.062\n",
      "Testing log loss for 4 folds are:  7.023 6.447 6.965 7.483 Mean:  6.980 Std:  0.367 \n",
      "\n",
      "C value: 0.0359\n",
      "Training accuracy scores for 4 folds are:  0.972 0.972 0.972 0.973 Mean:  0.972 Std:  0.001\n",
      "Testing accuracy scores for 4 folds are:  0.778 0.807 0.795 0.772 Mean:  0.788 Std:  0.014\n",
      "Training log loss for 4 folds are:  0.959 0.979 0.959 0.921 Mean:  0.955 Std:  0.021\n",
      "Testing log loss for 4 folds are:  7.656 6.678 7.081 7.886 Mean:  7.325 Std:  0.475 \n",
      "\n",
      "C value: 0.0599\n",
      "Training accuracy scores for 4 folds are:  0.979 0.979 0.979 0.980 Mean:  0.980 Std:  0.000\n",
      "Testing accuracy scores for 4 folds are:  0.780 0.792 0.788 0.752 Mean:  0.778 Std:  0.016\n",
      "Training log loss for 4 folds are:  0.710 0.710 0.710 0.691 Mean:  0.705 Std:  0.008\n",
      "Testing log loss for 4 folds are:  7.599 7.196 7.311 8.577 Mean:  7.671 Std:  0.544 \n",
      "\n",
      "C value: 0.1000\n",
      "Training accuracy scores for 4 folds are:  0.987 0.987 0.986 0.987 Mean:  0.987 Std:  0.001\n",
      "Testing accuracy scores for 4 folds are:  0.765 0.785 0.780 0.727 Mean:  0.764 Std:  0.023\n",
      "Training log loss for 4 folds are:  0.461 0.441 0.499 0.461 Mean:  0.465 Std:  0.021\n",
      "Testing log loss for 4 folds are:  8.117 7.426 7.599 9.441 Mean:  8.145 Std:  0.790 \n",
      "\n"
     ]
    },
    {
     "output_type": "display_data",
     "data": {
      "text/plain": [
       "<Figure size 576x432 with 2 Axes>"
      ],
      "image/png": "[encoded data removed]"
     },
     "metadata": {
      "needs_background": "light"
     }
    }
   ],
   "metadata": {}
  },
  {
   "cell_type": "code",
   "execution_count": null,
   "source": [],
   "outputs": [],
   "metadata": {}
  },
  {
   "cell_type": "markdown",
   "source": [
    "#### 2. Next"
   ],
   "metadata": {}
  },
  {
   "cell_type": "code",
   "execution_count": 139,
   "source": [
    "from sklearn.model_selection import RandomizedSearchCV\n",
    "from sklearn.svm import SVC\n",
    "C = [.0001, .001, .01]\n",
    "gamma = [.001, .01, .1, 1, 10, 100]\n",
    "degree = [1, 2, 3, 4, 5]\n",
    "kernel = ['linear', 'rbf', 'poly']\n",
    "\n",
    "svc_grid = {'C':C,\n",
    "    'kernel': kernel,\n",
    "              'gamma': gamma,\n",
    "              'degree': degree\n",
    "             }\n",
    "\n",
    "tune_svc = SVC(random_state = 0, probability=True)\n",
    "svc_search = RandomizedSearchCV(tune_svc, param_distributions = svc_grid, scoring='accuracy',cv=3,verbose=1, n_jobs=-1, n_iter=50)\n",
    "svc_search.fit(x_train2, y_train2)"
   ],
   "outputs": [
    {
     "output_type": "stream",
     "name": "stdout",
     "text": [
      "Fitting 3 folds for each of 50 candidates, totalling 150 fits\n"
     ]
    },
    {
     "output_type": "execute_result",
     "data": {
      "text/plain": [
       "RandomizedSearchCV(cv=3, estimator=SVC(probability=True, random_state=0),\n",
       "                   n_iter=50, n_jobs=-1,\n",
       "                   param_distributions={'C': [0.0001, 0.001, 0.01],\n",
       "                                        'degree': [1, 2, 3, 4, 5],\n",
       "                                        'gamma': [0.001, 0.01, 0.1, 1, 10, 100],\n",
       "                                        'kernel': ['linear', 'rbf', 'poly']},\n",
       "                   scoring='accuracy', verbose=1)"
      ]
     },
     "metadata": {},
     "execution_count": 139
    }
   ],
   "metadata": {}
  },
  {
   "cell_type": "code",
   "execution_count": 51,
   "source": [
    "print('Best parameters found:\\n', svc_search.best_params_)\n",
    "print(\"Train accuracy: %.4f\" % svc_search.score(x_train2, y_train2))\n",
    "print(\" Test accuracy: %.4f\" % svc_search.score(x_test2, y_test2))"
   ],
   "outputs": [
    {
     "output_type": "stream",
     "name": "stdout",
     "text": [
      "Best parameters found:\n",
      " {'kernel': 'poly', 'gamma': 100, 'degree': 2, 'C': 0.001}\n",
      "Train accuracy: 0.9994\n",
      " Test accuracy: 0.8030\n"
     ]
    }
   ],
   "metadata": {}
  },
  {
   "cell_type": "code",
   "execution_count": 165,
   "source": [
    "svcf = SVC(kernel='poly', gamma=100, degree=2, C=0.001)\n",
    "svcf.fit(x_train2, y_train2)\n",
    "print(svcf.score(x_train2, y_train2))\n",
    "print(svcf.score(x_test2, y_test2))"
   ],
   "outputs": [
    {
     "output_type": "stream",
     "name": "stdout",
     "text": [
      "0.9993781094527363\n",
      "0.803030303030303\n"
     ]
    }
   ],
   "metadata": {}
  },
  {
   "cell_type": "code",
   "execution_count": 172,
   "source": [
    "def plot_accuracy_and_logLoss(range, train_acc, test_acc, train_logLoss, test_logLoss):\n",
    "    fig, ax = plt.subplots(1, 2, figsize=(8, 6))\n",
    "    ax[0].plot(range, train_acc, color=\"red\", label=\"train\")\n",
    "    ax[0].plot(range, test_acc, color=\"blue\", label=\"test\")\n",
    "    ax[0].legend()\n",
    "    ax[0].set_xlabel('Coef0 values')\n",
    "    ax[0].set_ylabel('Accuracy')\n",
    "    ax[1].plot(range, train_logLoss, color=\"red\", label=\"train\")\n",
    "    ax[1].plot(range, test_logLoss, color=\"blue\", label=\"test\")\n",
    "    ax[1].legend()\n",
    "    ax[1].set_xlabel('Coef0 values')\n",
    "    ax[1].set_ylabel('Log loss')\n",
    "    plt.show()\n",
    "\n",
    "def examine_Cs(data_train, label_train):\n",
    "    train_acc = []\n",
    "    test_acc = []\n",
    "    train_logLoss = []\n",
    "    test_logLoss = []\n",
    "    for c in np.logspace(-1, 1.5, 10):\n",
    "        kf = KFold(n_splits=4, shuffle=True, random_state=0)\n",
    "        train_acc_fold = []\n",
    "        test_acc_fold = []\n",
    "        train_logLoss_fold = []\n",
    "        test_logLoss_fold = []\n",
    "        for train_index, test_index in kf.split(data_train):\n",
    "            X_train, X_test = data_train.loc[train_index], data_train.loc[test_index]\n",
    "            y_train, y_test = label_train[train_index], label_train[test_index]\n",
    "            svc = SVC(kernel='poly', gamma=100, degree=2, C = 0.00068129, coef0 = c)\n",
    "            svc.fit(X_train, y_train)\n",
    "\n",
    "            train_acc_fold.append(svc.score(X_train, y_train))\n",
    "            test_acc_fold.append(svc.score(X_test, y_test))\n",
    "            train_logLoss_fold.append(log_loss(y_train, svc.predict(X_train)))\n",
    "            test_logLoss_fold.append(log_loss(y_test, svc.predict(X_test)))\n",
    "        print(\"Coef0 value: %0.4f\" % c)\n",
    "        print(\"Training accuracy scores for 4 folds are: \", \" \".join('%0.3f'%x for x in train_acc_fold), \"Mean: \", '%0.3f'%np.mean(train_acc_fold), \n",
    "        \"Std: \", '%0.3f'%np.std(train_acc_fold))\n",
    "        print(\"Testing accuracy scores for 4 folds are: \", \" \".join('%0.3f'%x for x in test_acc_fold), \"Mean: \", '%0.3f'%np.mean(test_acc_fold), \n",
    "        \"Std: \", '%0.3f'%np.std(test_acc_fold))\n",
    "        print(\"Training log loss for 4 folds are: \", \" \".join('%0.3f'%x for x in train_logLoss_fold), \"Mean: \", '%0.3f'%np.mean(train_logLoss_fold), \n",
    "        \"Std: \", '%0.3f'%np.std(train_logLoss_fold))\n",
    "        print(\"Testing log loss for 4 folds are: \", \" \".join('%0.3f'%x for x in test_logLoss_fold), \"Mean: \", '%0.3f'%np.mean(test_logLoss_fold), \n",
    "        \"Std: \", '%0.3f'%np.std(test_logLoss_fold), \"\\n\")\n",
    "        \n",
    "        train_acc.append(sum(train_acc_fold)/4)\n",
    "        test_acc.append(sum(test_acc_fold)/4)\n",
    "        train_logLoss.append(sum(train_logLoss_fold)/4)\n",
    "        test_logLoss.append(sum(test_logLoss_fold)/4)\n",
    "    plot_accuracy_and_logLoss(np.logspace(-1, 1.5, 10), train_acc, test_acc, train_logLoss, test_logLoss)"
   ],
   "outputs": [],
   "metadata": {}
  },
  {
   "cell_type": "code",
   "execution_count": 160,
   "source": [
    "np.logspace(-4,-1.5,10)"
   ],
   "outputs": [
    {
     "output_type": "execute_result",
     "data": {
      "text/plain": [
       "array([0.0001    , 0.00018957, 0.00035938, 0.00068129, 0.00129155,\n",
       "       0.00244844, 0.00464159, 0.00879923, 0.01668101, 0.03162278])"
      ]
     },
     "metadata": {},
     "execution_count": 160
    }
   ],
   "metadata": {}
  },
  {
   "cell_type": "code",
   "execution_count": 173,
   "source": [
    "examine_Cs(trainset2, y_train_df['is_positive_sentiment'])"
   ],
   "outputs": [
    {
     "output_type": "stream",
     "name": "stdout",
     "text": [
      "Coef0 value: 0.1000\n",
      "Training accuracy scores for 4 folds are:  0.999 1.000 0.999 0.999 Mean:  0.999 Std:  0.000\n",
      "Testing accuracy scores for 4 folds are:  0.805 0.827 0.845 0.823 Mean:  0.825 Std:  0.014\n",
      "Training log loss for 4 folds are:  0.019 0.000 0.038 0.019 Mean:  0.019 Std:  0.014\n",
      "Testing log loss for 4 folds are:  6.735 5.987 5.354 6.102 Mean:  6.044 Std:  0.490 \n",
      "\n",
      "Coef0 value: 0.1896\n",
      "Training accuracy scores for 4 folds are:  0.999 1.000 0.999 0.999 Mean:  0.999 Std:  0.000\n",
      "Testing accuracy scores for 4 folds are:  0.805 0.827 0.845 0.823 Mean:  0.825 Std:  0.014\n",
      "Training log loss for 4 folds are:  0.019 0.000 0.038 0.019 Mean:  0.019 Std:  0.014\n",
      "Testing log loss for 4 folds are:  6.735 5.987 5.354 6.102 Mean:  6.044 Std:  0.490 \n",
      "\n",
      "Coef0 value: 0.3594\n",
      "Training accuracy scores for 4 folds are:  0.999 1.000 0.999 0.999 Mean:  0.999 Std:  0.000\n",
      "Testing accuracy scores for 4 folds are:  0.807 0.828 0.845 0.823 Mean:  0.826 Std:  0.014\n",
      "Training log loss for 4 folds are:  0.019 0.000 0.038 0.019 Mean:  0.019 Std:  0.014\n",
      "Testing log loss for 4 folds are:  6.678 5.929 5.354 6.102 Mean:  6.016 Std:  0.472 \n",
      "\n",
      "Coef0 value: 0.6813\n",
      "Training accuracy scores for 4 folds are:  0.999 1.000 0.999 0.999 Mean:  0.999 Std:  0.000\n",
      "Testing accuracy scores for 4 folds are:  0.805 0.828 0.847 0.823 Mean:  0.826 Std:  0.015\n",
      "Training log loss for 4 folds are:  0.019 0.000 0.038 0.019 Mean:  0.019 Std:  0.014\n",
      "Testing log loss for 4 folds are:  6.735 5.929 5.296 6.102 Mean:  6.016 Std:  0.512 \n",
      "\n",
      "Coef0 value: 1.2915\n",
      "Training accuracy scores for 4 folds are:  0.999 1.000 0.999 0.999 Mean:  0.999 Std:  0.000\n",
      "Testing accuracy scores for 4 folds are:  0.805 0.830 0.848 0.823 Mean:  0.827 Std:  0.016\n",
      "Training log loss for 4 folds are:  0.019 0.000 0.038 0.019 Mean:  0.019 Std:  0.014\n",
      "Testing log loss for 4 folds are:  6.735 5.872 5.238 6.102 Mean:  5.987 Std:  0.535 \n",
      "\n",
      "Coef0 value: 2.4484\n",
      "Training accuracy scores for 4 folds are:  0.999 0.999 0.999 0.999 Mean:  0.999 Std:  0.000\n",
      "Testing accuracy scores for 4 folds are:  0.805 0.828 0.848 0.825 Mean:  0.827 Std:  0.015\n",
      "Training log loss for 4 folds are:  0.019 0.038 0.038 0.019 Mean:  0.029 Std:  0.010\n",
      "Testing log loss for 4 folds are:  6.735 5.929 5.238 6.044 Mean:  5.987 Std:  0.531 \n",
      "\n",
      "Coef0 value: 4.6416\n",
      "Training accuracy scores for 4 folds are:  0.999 1.000 0.999 0.999 Mean:  0.999 Std:  0.000\n",
      "Testing accuracy scores for 4 folds are:  0.802 0.830 0.855 0.822 Mean:  0.827 Std:  0.019\n",
      "Training log loss for 4 folds are:  0.019 0.000 0.038 0.019 Mean:  0.019 Std:  0.014\n",
      "Testing log loss for 4 folds are:  6.850 5.872 5.008 6.159 Mean:  5.972 Std:  0.661 \n",
      "\n",
      "Coef0 value: 8.7992\n",
      "Training accuracy scores for 4 folds are:  0.999 1.000 0.999 0.999 Mean:  0.999 Std:  0.000\n",
      "Testing accuracy scores for 4 folds are:  0.802 0.832 0.848 0.827 Mean:  0.827 Std:  0.017\n",
      "Training log loss for 4 folds are:  0.019 0.000 0.038 0.019 Mean:  0.019 Std:  0.014\n",
      "Testing log loss for 4 folds are:  6.850 5.814 5.238 5.987 Mean:  5.972 Std:  0.578 \n",
      "\n",
      "Coef0 value: 16.6810\n",
      "Training accuracy scores for 4 folds are:  0.999 1.000 0.999 0.999 Mean:  0.999 Std:  0.000\n",
      "Testing accuracy scores for 4 folds are:  0.800 0.825 0.842 0.825 Mean:  0.823 Std:  0.015\n",
      "Training log loss for 4 folds are:  0.019 0.000 0.038 0.019 Mean:  0.019 Std:  0.014\n",
      "Testing log loss for 4 folds are:  6.908 6.044 5.469 6.044 Mean:  6.116 Std:  0.514 \n",
      "\n",
      "Coef0 value: 31.6228\n",
      "Training accuracy scores for 4 folds are:  0.999 1.000 0.999 0.999 Mean:  0.999 Std:  0.000\n",
      "Testing accuracy scores for 4 folds are:  0.800 0.820 0.827 0.817 Mean:  0.816 Std:  0.010\n",
      "Training log loss for 4 folds are:  0.019 0.000 0.038 0.019 Mean:  0.019 Std:  0.014\n",
      "Testing log loss for 4 folds are:  6.908 6.217 5.987 6.332 Mean:  6.361 Std:  0.339 \n",
      "\n"
     ]
    },
    {
     "output_type": "display_data",
     "data": {
      "text/plain": [
       "<Figure size 576x432 with 2 Axes>"
      ],
      "image/png": "[encoded data removed]"
     },
     "metadata": {
      "needs_background": "light"
     }
    }
   ],
   "metadata": {}
  },
  {
   "cell_type": "code",
   "execution_count": 177,
   "source": [
    "svcc = SVC(kernel='poly', gamma=100, degree=2, C = 0.00068129, coef0 = 2.4484, probability=True)\n",
    "svcc.fit(x_train2, y_train2)"
   ],
   "outputs": [
    {
     "output_type": "execute_result",
     "data": {
      "text/plain": [
       "SVC(C=0.00068129, coef0=2.4484, degree=2, gamma=100, kernel='poly',\n",
       "    probability=True)"
      ]
     },
     "metadata": {},
     "execution_count": 177
    }
   ],
   "metadata": {}
  },
  {
   "cell_type": "code",
   "execution_count": 178,
   "source": [
    "test_set = pd.read_csv('test_data.csv')\n",
    "prediction = svcc.predict_proba(test_set)[:,1]\n",
    "np.savetxt('yproba1_test.txt', prediction)"
   ],
   "outputs": [],
   "metadata": {}
  },
  {
   "cell_type": "markdown",
   "source": [
    "## MLP TFIDF Unigram without stopwords"
   ],
   "metadata": {}
  },
  {
   "cell_type": "code",
   "execution_count": 195,
   "source": [
    "len(x_test)"
   ],
   "outputs": [
    {
     "output_type": "execute_result",
     "data": {
      "text/plain": [
       "792"
      ]
     },
     "metadata": {},
     "execution_count": 195
    }
   ],
   "metadata": {}
  },
  {
   "cell_type": "code",
   "execution_count": 110,
   "source": [
    "network = MLPClassifier(max_iter=400, random_state=0, early_stopping=True)\n",
    "network.fit(x_train, y_train)\n",
    "print(\"Train accuracy: %.4f\" % network.score(x_train, y_train))\n",
    "print(\" Test accuracy: %.4f\" % network.score(x_test, y_test))"
   ],
   "outputs": [
    {
     "output_type": "stream",
     "name": "stdout",
     "text": [
      "Train accuracy: 0.9210\n",
      " Test accuracy: 0.7727\n"
     ]
    }
   ],
   "metadata": {}
  },
  {
   "cell_type": "code",
   "execution_count": 111,
   "source": [
    "try_params = {\n",
    "    'activation': ['logistic', 'relu', 'identity', 'tanh'],\n",
    "    'hidden_layer_sizes': [(50,), (100,), (128, 64, 32, 8)],\n",
    "    'alpha': np.logspace(-2, 2, 10),\n",
    "    'learning_rate':['constant', 'invscaling', 'adaptive'],\n",
    "    'solver': ['lbfgs', 'adam', 'sgd']\n",
    "}\n",
    "network = MLPClassifier(max_iter=400, random_state=0, early_stopping=True)\n",
    "gscv = RandomizedSearchCV(network, param_distributions = try_params, cv=3, n_jobs=-1, n_iter=50)\n",
    "gscv.fit(x_train, y_train)"
   ],
   "outputs": [
    {
     "output_type": "execute_result",
     "data": {
      "text/plain": [
       "RandomizedSearchCV(cv=3,\n",
       "                   estimator=MLPClassifier(early_stopping=True, max_iter=400,\n",
       "                                           random_state=0),\n",
       "                   n_iter=50, n_jobs=-1,\n",
       "                   param_distributions={'activation': ['logistic', 'relu',\n",
       "                                                       'identity', 'tanh'],\n",
       "                                        'alpha': array([1.00000000e-02, 2.78255940e-02, 7.74263683e-02, 2.15443469e-01,\n",
       "       5.99484250e-01, 1.66810054e+00, 4.64158883e+00, 1.29154967e+01,\n",
       "       3.59381366e+01, 1.00000000e+02]),\n",
       "                                        'hidden_layer_sizes': [(50,), (100,),\n",
       "                                                               (128, 64, 32,\n",
       "                                                                8)],\n",
       "                                        'learning_rate': ['constant',\n",
       "                                                          'invscaling',\n",
       "                                                          'adaptive'],\n",
       "                                        'solver': ['lbfgs', 'adam', 'sgd']})"
      ]
     },
     "metadata": {},
     "execution_count": 111
    }
   ],
   "metadata": {}
  },
  {
   "cell_type": "code",
   "execution_count": 112,
   "source": [
    "print('Best parameters found:\\n', gscv.best_params_)\n",
    "print(\"Train accuracy: %.4f\" % gscv.score(x_train, y_train))\n",
    "print(\" Test accuracy: %.4f\" % gscv.score(x_test, y_test))"
   ],
   "outputs": [
    {
     "output_type": "stream",
     "name": "stdout",
     "text": [
      "Best parameters found:\n",
      " {'solver': 'lbfgs', 'learning_rate': 'constant', 'hidden_layer_sizes': (100,), 'alpha': 12.915496650148826, 'activation': 'relu'}\n",
      "Train accuracy: 0.9515\n",
      " Test accuracy: 0.8030\n"
     ]
    }
   ],
   "metadata": {}
  },
  {
   "cell_type": "code",
   "execution_count": 114,
   "source": [
    "best_mlp = gscv.best_estimator_\n",
    "best_mlp"
   ],
   "outputs": [
    {
     "output_type": "execute_result",
     "data": {
      "text/plain": [
       "MLPClassifier(alpha=12.915496650148826, early_stopping=True, max_iter=400,\n",
       "              random_state=0, solver='lbfgs')"
      ]
     },
     "metadata": {},
     "execution_count": 114
    }
   ],
   "metadata": {}
  },
  {
   "cell_type": "code",
   "execution_count": 131,
   "source": [
    "\n",
    "def plot_accuracy_and_logLoss(range, train_acc, test_acc, train_logLoss, test_logLoss):\n",
    "    fig, ax = plt.subplots(1, 2, figsize=(8, 6))\n",
    "    ax[0].plot(range, train_acc, color=\"red\", label=\"train\")\n",
    "    ax[0].plot(range, test_acc, color=\"blue\", label=\"test\")\n",
    "    ax[0].legend()\n",
    "    ax[0].set_xlabel('Tolerance values')\n",
    "    ax[0].set_ylabel('Accuracy')\n",
    "    ax[1].plot(range, train_logLoss, color=\"red\", label=\"train\")\n",
    "    ax[1].plot(range, test_logLoss, color=\"blue\", label=\"test\")\n",
    "    ax[1].legend()\n",
    "    ax[1].set_xlabel('Tolerance values')\n",
    "    ax[1].set_ylabel('Log loss')\n",
    "    plt.show()\n",
    "\n",
    "def examine_tols(data_train, label_train):\n",
    "    train_acc = []\n",
    "    test_acc = []\n",
    "    train_logLoss = []\n",
    "    test_logLoss = []\n",
    "    for t in np.logspace(-3,-1,10):\n",
    "        kf = KFold(n_splits=4, shuffle=True, random_state=0)\n",
    "        train_acc_fold = []\n",
    "        test_acc_fold = []\n",
    "        train_logLoss_fold = []\n",
    "        test_logLoss_fold = []\n",
    "        for train_index, test_index in kf.split(data_train):\n",
    "            X_train, X_test = data_train.loc[train_index], data_train.loc[test_index]\n",
    "            y_train, y_test = label_train[train_index], label_train[test_index]\n",
    "            mlp = MLPClassifier(max_iter=400, random_state=0, early_stopping=True, solver='lbfgs', learning_rate= 'constant', hidden_layer_sizes=(100,), activation='relu', \n",
    "            alpha=14.67799268, tol = t)\n",
    "            mlp.fit(X_train, y_train)\n",
    "\n",
    "            train_acc_fold.append(mlp.score(X_train, y_train))\n",
    "            test_acc_fold.append(mlp.score(X_test, y_test))\n",
    "            train_logLoss_fold.append(log_loss(y_train, mlp.predict(X_train)))\n",
    "            test_logLoss_fold.append(log_loss(y_test, mlp.predict(X_test)))\n",
    "        print(\"Tolerance value: %0.4f\" % t)\n",
    "        print(\"Training accuracy scores for 4 folds are: \", \" \".join('%0.3f'%x for x in train_acc_fold), \"Mean: \", '%0.3f'%np.mean(train_acc_fold), \n",
    "        \"Std: \", '%0.3f'%np.std(train_acc_fold))\n",
    "        print(\"Testing accuracy scores for 4 folds are: \", \" \".join('%0.3f'%x for x in test_acc_fold), \"Mean: \", '%0.3f'%np.mean(test_acc_fold), \n",
    "        \"Std: \", '%0.3f'%np.std(test_acc_fold))\n",
    "        print(\"Training log loss for 4 folds are: \", \" \".join('%0.3f'%x for x in train_logLoss_fold), \"Mean: \", '%0.3f'%np.mean(train_logLoss_fold), \n",
    "        \"Std: \", '%0.3f'%np.std(train_logLoss_fold))\n",
    "        print(\"Testing log loss for 4 folds are: \", \" \".join('%0.3f'%x for x in test_logLoss_fold), \"Mean: \", '%0.3f'%np.mean(test_logLoss_fold), \n",
    "        \"Std: \", '%0.3f'%np.std(test_logLoss_fold), \"\\n\")\n",
    "        \n",
    "        train_acc.append(sum(train_acc_fold)/4)\n",
    "        test_acc.append(sum(test_acc_fold)/4)\n",
    "        train_logLoss.append(sum(train_logLoss_fold)/4)\n",
    "        test_logLoss.append(sum(test_logLoss_fold)/4)\n",
    "    plot_accuracy_and_logLoss(np.logspace(-3,-1,10), train_acc, test_acc, train_logLoss, test_logLoss)"
   ],
   "outputs": [],
   "metadata": {}
  },
  {
   "cell_type": "code",
   "execution_count": null,
   "source": [
    "examine_tols(trainset, y_train_df['is_positive_sentiment'])"
   ],
   "outputs": [],
   "metadata": {}
  },
  {
   "cell_type": "code",
   "execution_count": 182,
   "source": [
    "mlp = MLPClassifier(max_iter=400, random_state=0, early_stopping=True, solver='lbfgs', learning_rate= 'constant', hidden_layer_sizes=(100,), activation='relu', \n",
    "            alpha=14.67799268, tol = 1e-3)\n",
    "mlp.fit(x_train, y_train)"
   ],
   "outputs": [
    {
     "output_type": "execute_result",
     "data": {
      "text/plain": [
       "MLPClassifier(alpha=14.67799268, early_stopping=True, max_iter=400,\n",
       "              random_state=0, solver='lbfgs', tol=0.001)"
      ]
     },
     "metadata": {},
     "execution_count": 182
    }
   ],
   "metadata": {}
  },
  {
   "cell_type": "code",
   "execution_count": 198,
   "source": [
    "test_pred = mlp.predict(x_test)\n",
    "idx = x_test[test_pred != y_test].index\n",
    "wrong = x_train_df.loc[idx,]"
   ],
   "outputs": [],
   "metadata": {}
  },
  {
   "cell_type": "code",
   "execution_count": 199,
   "source": [
    "for i, text in enumerate(wrong['text']):\n",
    "    print(text)\n"
   ],
   "outputs": [
    {
     "output_type": "stream",
     "name": "stdout",
     "text": [
      "Not to mention the combination of pears, almonds and bacon is a big winner!\n",
      "Perfect for someone (me) who only likes beer ice cold, or in this case, even colder.\n",
      "Steer clear of this product and go with the genuine Palm replacementr pens, which come in a three-pack.\n",
      "Small, sleek, impressive looking, practical setup with ample storage in place.\n",
      "This place should honestly be blown up.\n",
      "Magical Help.\n",
      "The descriptions said \"yum yum sauce\" and another said \"eel sauce\", yet another said \"spicy mayo\"...well NONE of the rolls had sauces on them.\n",
      "Someone shouldve invented this sooner.\n",
      "The color is even prettier than I thought it would be, and the graphics are incredibly sharp.\n",
      "We'd definitely go back here again.\n",
      "I really wanted the Plantronics 510 to be the right one, but it has too many issues for me.The good\n",
      "If it was to turn my good day feeling into a night of disturbing memories than I guess he succeeded.  \n",
      "The only place good for this film is in the garbage.  \n",
      "Unless you're just out to visually \"collect\" all extant films of Austen's work, you can skip this one.  \n",
      "I did not have any problem with this item and would order it again if needed.\n",
      "It was a pale color instead of nice and char and has NO flavor.\n",
      "The place was fairly clean but the food simply wasn't worth it.\n",
      "I tried talking real loud but shouting on the telephone gets old and I was still told it wasn't great.\n",
      "Plantronics Bluetooth Excelent Buy.\n",
      "The service here is fair at best.\n",
      "Unfortunately, we must have hit the bakery on leftover day because everything we ordered was STALE.\n",
      "It's as continuously beautiful to look at as a Bertolucci, but the relationships here are more convincing and the narrative more engaging than some of that master's work.  \n",
      "I have watched their prices inflate, portions get smaller and management attitudes grow rapidly!\n",
      "The lighting is just dark enough to set the mood.\n",
      "The phone loads super!\n",
      "I bought these hoping I could make my Bluetooth headset fit better but these things made it impossible to wear.\n",
      "My phone sounded OK ( not great - OK), but my wife's phone was almost totally unintelligible, she couldn't understand a word being said on it.\n",
      "The service was poor and thats being nice.\n",
      "Go rent it.  \n",
      "I asked multiple times for the wine list and after some time of being ignored I went to the hostess and got one myself.\n",
      "Crostini that came with the salad was stale.\n",
      "The fish is badly made and some of its underwater shots are repeated a thousand times in the film.  \n",
      "It has been a winner for us.\n",
      "It was a very superficial movie and it gave me the feeling that I was watching play rather than a film.  \n",
      "The atmosphere is modern and hip, while maintaining a touch of coziness.\n",
      "I was able to do voice dialing in the car with no problem.\n",
      ":) Anyway, the plot flowed smoothly and the male-bonding scenes were a hoot.  \n",
      "It is super charged up for use as a small hybrid palmtop/camera/cellphone, and excels in those roles.\n",
      "Then a few days later the a puff of smoke came out of the phone while in use.\n",
      "There were too many close ups.  \n",
      "No complaints!\n",
      "PS the only scene in the movie that was cool is when the central character finds her room blown up.  \n",
      "If someone orders two tacos don't' you think it may be part of customer service to ask if it is combo or ala cart?\n",
      "This movie is also revealing.  \n",
      "In particular the relationship between the bakery assistant and the waitress just didn't work for me at all.  \n",
      "You won't forget this movie!  \n",
      "Now this dish was quite flavourful.\n",
      "Regardless, the film fails on most levels.  \n",
      "Works for me.\n",
      "I really hope the team behind this movie makes more movies, and that they will continue to do so in their own, some kinda weird style.  \n",
      "The ambiance isn't much better.\n",
      "Only had this a month but it's worked flawlessly so far.\n",
      "If you have not seen this movie, I definitely recommend it!  \n",
      "The black eyed peas and sweet potatoes... UNREAL!\n",
      "If you check the director's filmography on this site you will see why this film didn't have a chance.  \n",
      "Virgin Wireless rocks and so does this cheap little phone!\n",
      "Much less than the jawbone I was going to replace it with.\n",
      "Appears to actually outperform the original battery from China that came with my V325i.\n",
      "10/10  \n",
      "Also its slim enough to fit into my alarm clock docking station without removing the case.\n",
      "* Both the Hot & Sour & the Egg Flower Soups were absolutely 5 Stars!\n",
      "It's kind of embarrassing to use because of how it looks and mostly it's embarrassing how child-like the company is.\n",
      "After a year the battery went completely dead on my headset.\n",
      "If you act in such a film, you should be glad that you're gonna drift away from earth as far as possible!  \n",
      "It will drive you barking mad!  \n",
      "much better than the hard plastic cases.\n",
      "This is definitely a must have if your state does not allow cell phone usage while driving.\n",
      "It is so small and you don't even realize that it is there after a while of getting used to it.\n",
      "It was that loud.Glad to say that the Plantronics 510 maintains a flawless connection to my cell and with no static during normal use.\n",
      "I've had better bagels from the grocery store.\n",
      "The building itself seems pretty neat; the bathroom is pretty trippy, but I wouldn't eat here again.\n",
      "Still, I do like this movie for it's empowerment of women; there's not enough movies out there like this one.  \n",
      "The Buffet at Bellagio was far from what I anticipated.\n",
      "Battery charge-life is quite long.\n",
      "In addition to having one of the most lovely songs ever written, French Cancan also boasts one of the cutest leading ladies ever to grace the screen.  \n",
      "It crackles with an unpredictable, youthful energy - but honestly, i found it hard to follow and concentrate on it meanders so badly.  \n",
      "GO AND SEE IT!  \n",
      "Anne Heche was utterly convincing.  \n",
      "Must have been an off night at this place.\n",
      "I like design and look of Jabra behing the ear headsets and 5020 is pretty comfortible to wear 24 hours a day without pain in the ear.\n",
      "10 out of 10 stars.  \n",
      "I don't think it would hold it too securly on your belt.\n",
      "We made the drive all the way from North Scottsdale... and I was not one bit disappointed!\n",
      "It is not just a cult... it is a cult CLASSIC.  \n",
      "I own 2 of these cases and would order another.\n",
      "My father has the V265, and the battery is dying.\n",
      "Any grandmother can make a roasted chicken better than this one.\n",
      "Mic Doesn't work.\n",
      "OMG I felt like I had never eaten Thai food until this dish.\n",
      "The stories were as unbelievable as the actors.  \n",
      "He's a national treasure.  \n",
      "- They never brought a salad we asked for.\n",
      "Now the burgers aren't as good, the pizza which used to be amazing is doughy and flavorless.\n",
      "I got it because it was so small and adorable.\n",
      "For that price I can think of a few place I would have much rather gone.\n",
      "The nano stated it.My son was dissapointed.\n",
      "You cant go wrong with any of the food here.\n",
      "But this understated film leaves a lasting impression.  \n",
      "Tasted like dirt.\n",
      "The film's sole bright spot was Jonah Hill (who will look almost unrecognizable to fans of the recent Superbad due to the amount of weight he lost in the interim).  \n",
      "We've tried to like this place but after 10+ times I think we're done with them.\n",
      "This film highlights the fundamental flaws of the legal process, that it's not about discovering guilt or innocence, but rather, is about who presents better in court.  \n",
      "That was done in the second movie.  \n",
      "Be sure to order dessert, even if you need to pack it to-go - the tiramisu and cannoli are both to die for.\n",
      "The soundtrack wasn't terrible, either.  \n",
      "Food was so gooodd.\n",
      "Her lines seem to have been WRITTEN by a fifteen year old, though they are trying oh so, so hard to sound like how a fifteen year old would really, um, you know, well... talk.  \n",
      "As a courtroom drama, it's compelling, as an indictment on the American justice system, it's frightening.  \n",
      "On three different occasions I asked for well done or medium well, and all three times I got the bloodiest piece of meat on my plate.\n",
      "* Comes with a strong light that you can use to light up your camera shots, and even flash SOS signals (seriously!\n",
      "Plus, it's only 8 bucks.\n",
      "If you have several dozen or several hundred contacts, then imagine the fun of sending each of them one by one.\n",
      "The last 15 minutes of movie are also not bad as well.  \n",
      "The plastic breaks really easy on this clip.\n",
      "Shot in the Southern California desert using his patent faux documentary style, Watkins creates a film like no other.  \n",
      "Artless camera-work endlessly presents us with the ugliest setting imaginable, i.e.  \n",
      "I give it 2 thumbs down\n",
      "The characters were all funny and had the peculiarity of not having a true lead character.  \n",
      "And, FINALLY, after all that, we get to an ending that would've been great had it been handled by competent people and not Jerry Falwell.  \n",
      "Not much dialogue, not much music, the whole film was shot as elaborately and aesthetically like a sculpture.  \n",
      "I can think of no other film where something vitally important occurs every other minute.  \n",
      "There's barely a boring moment in the film and there are plenty of humorous parts.  \n",
      "Arrived quickly and much less expensive than others being sold.\n",
      "It doesn't make you look cool.\n",
      "All in all, I'd expected a better consumer experience from Motorola.\n",
      "But, in any case, the best part is, you can download these pictures to your laptop using IR, or even send pictures from your laptop to the phone.\n",
      "You won't be disappointed.\n",
      "It was pretty gross!\n",
      "The movie is not completely perfect but 'Titta Di Girolamo' will stay with you for a long time after the vision of the movie.  \n",
      "We would recommend these to others.\n",
      "There is really nothing for me at postinos, hope your experience is better\n",
      "The waiter wasn't helpful or friendly and rarely checked on us.\n",
      "It was an inexpensive piece, but I would still have expected better quality.\n",
      "All in all, I can assure you I'll be back.\n",
      "You get extra minutes so that you can carry out the call and not get cut off.\"\n",
      "My 5-year old Nokia 2160 from Tracfone holds the charge a lot better than this.\n",
      "I did not expect this to be so good!\n",
      "like the other reviewer said \"you couldn't pay me to eat at this place again.\"\n",
      "This one just fails to create any real suspense.  \n",
      "I will never forget it now.  \n",
      "But this movie really got to me.  \n",
      "good protection and does not make phone too bulky.\n",
      "The range is very decent, I've been able to roam around my house with the phone in the living room with no reception/sound quality issues.\n",
      "I can assure you that you won't be disappointed.\n",
      "Full of unconvincing cardboard characters it is blandly written by Edward Chodorov, who also produced, and is surprisingly directed by Jean Negulesco from whom one would expect a great deal more.  \n",
      "I go to far too many places and I've never seen any restaurant that serves a 1 egg breakfast, especially for $4.00.\n",
      "Totally different, with loads of understatement and black comedy, this is a film few get to see, but those who do will remember it.  \n",
      "I cannot believe that the actors agreed to do this \"film\".  \n",
      "I've had this bluetoooth headset for some time now and still not comfortable with the way it fits on the ear.\n",
      "If you want a sandwich just go to any Firehouse!!!!!\n",
      "The acting by the whole cast could be put on a scale and balanced perfectly between overacting and underacting.  \n",
      "It's hard not to fall head-over-heels in love with that girl.  \n",
      "I'll definitely be in soon again.\n",
      "This was my first and only Vegas buffet and it did not disappoint.\n",
      "Its a total package.\n",
      "REALLY UGLY.\n",
      "Portable and it works.\n",
      "Unfortunately the ability to actually know you are receiving a call is a rather important feature and this phone is pitiful in that respect.\n",
      "Because both ears are occupied, background is not distracting at all.\n"
     ]
    }
   ],
   "metadata": {}
  },
  {
   "cell_type": "code",
   "execution_count": 135,
   "source": [
    "test_set = pd.read_csv('test_data.csv')\n",
    "prediction = mlp.predict_proba(test_set)[:,1]\n",
    "np.savetxt('yproba1_test.txt', prediction)"
   ],
   "outputs": [],
   "metadata": {}
  },
  {
   "cell_type": "code",
   "execution_count": 122,
   "source": [
    "np.logspace(1,1.5,10)"
   ],
   "outputs": [
    {
     "output_type": "execute_result",
     "data": {
      "text/plain": [
       "array([10.        , 11.36463666, 12.91549665, 14.67799268, 16.68100537,\n",
       "       18.95735652, 21.5443469 , 24.48436747, 27.82559402, 31.6227766 ])"
      ]
     },
     "metadata": {},
     "execution_count": 122
    }
   ],
   "metadata": {}
  },
  {
   "cell_type": "code",
   "execution_count": 109,
   "source": [
    "# from sklearn.neural_network import MLPClassifier\n",
    "\n",
    "# network2 = MLPClassifier(max_iter=400, random_state=0, early_stopping=True)\n",
    "# network2.fit(x_train2, y_train2)\n",
    "# print(\"Train accuracy: %.4f\" % network2.score(x_train2, y_train2))\n",
    "# print(\" Test accuracy: %.4f\" % network2.score(x_test2, y_test2))\n",
    "# Train accuracy: 0.9248\n",
    "#  Test accuracy: 0.7955"
   ],
   "outputs": [
    {
     "output_type": "stream",
     "name": "stdout",
     "text": [
      "Train accuracy: 0.9565\n",
      " Test accuracy: 0.7879\n"
     ]
    }
   ],
   "metadata": {}
  },
  {
   "cell_type": "code",
   "execution_count": 106,
   "source": [
    "# network2 = MLPClassifier(max_iter=400, random_state=0, early_stopping=True)\n",
    "# gscv2 = RandomizedSearchCV(network2, param_distributions = try_params, cv=3, n_jobs=-1, n_iter=50)\n",
    "# gscv2.fit(x_train2, y_train2)"
   ],
   "outputs": [
    {
     "output_type": "execute_result",
     "data": {
      "text/plain": [
       "RandomizedSearchCV(cv=3,\n",
       "                   estimator=MLPClassifier(early_stopping=True, max_iter=400,\n",
       "                                           random_state=0),\n",
       "                   n_iter=50, n_jobs=-1,\n",
       "                   param_distributions={'activation': ['logistic', 'relu',\n",
       "                                                       'identity', 'tanh'],\n",
       "                                        'alpha': array([100. ,  10. ,   1. ,   0.1]),\n",
       "                                        'hidden_layer_sizes': [(50,), (100,),\n",
       "                                                               (128, 64, 32,\n",
       "                                                                8)],\n",
       "                                        'learning_rate': ['constant',\n",
       "                                                          'invscaling',\n",
       "                                                          'adaptive'],\n",
       "                                        'solver': ['lbfgs', 'adam', 'sgd']})"
      ]
     },
     "metadata": {},
     "execution_count": 106
    }
   ],
   "metadata": {}
  },
  {
   "cell_type": "code",
   "execution_count": 107,
   "source": [
    "# print('Best parameters found:\\n', gscv2.best_params_)\n",
    "# print(\"Train accuracy: %.4f\" % gscv2.score(x_train2, y_train2))\n",
    "# print(\" Test accuracy: %.4f\" % gscv2.score(x_test2, y_test2))\n",
    "# Best parameters found:\n",
    "#  {'hidden_layer_sizes': (100,), 'alpha': 1.0, 'activation': 'relu'}\n",
    "# Train accuracy: 0.8843\n",
    "#  Test accuracy: 0.7702"
   ],
   "outputs": [
    {
     "output_type": "stream",
     "name": "stdout",
     "text": [
      "Best parameters found:\n",
      " {'solver': 'lbfgs', 'learning_rate': 'constant', 'hidden_layer_sizes': (50,), 'alpha': 10.0, 'activation': 'relu'}\n",
      "Train accuracy: 0.9608\n",
      " Test accuracy: 0.7955\n"
     ]
    }
   ],
   "metadata": {}
  },
  {
   "cell_type": "markdown",
   "source": [
    "## RF - not great"
   ],
   "metadata": {}
  },
  {
   "cell_type": "code",
   "execution_count": 102,
   "source": [
    "from sklearn.ensemble import RandomForestClassifier\n",
    "base_rfc = RandomForestClassifier(random_state = 0)\n",
    "base_rfc.fit(x_train, y_train)\n",
    "print(base_rfc.score(x_train, y_train))\n",
    "print(base_rfc.score(x_test, y_test))"
   ],
   "outputs": [
    {
     "output_type": "stream",
     "name": "stdout",
     "text": [
      "0.9987562189054726\n",
      "0.773989898989899\n"
     ]
    }
   ],
   "metadata": {}
  },
  {
   "cell_type": "code",
   "execution_count": 105,
   "source": [
    "n_estimators = [int(x) for x in np.linspace(start = 200, stop = 1000, num = 5)]\n",
    "max_features = ['auto', 'sqrt']\n",
    "min_samples_split = [2, 5, 10]\n",
    "max_depth = [int(x) for x in np.linspace(20, 100, num = 5)]\n",
    "max_depth.append(None)\n",
    "min_samples_leaf = [1, 2, 4]\n",
    "bootstrap = [True, False]\n",
    "\n",
    "rfc_grid = {'n_estimators': n_estimators,\n",
    "               'max_features': max_features,\n",
    "               'max_depth': max_depth,\n",
    "               'min_samples_split': min_samples_split,\n",
    "               'min_samples_leaf': min_samples_leaf,\n",
    "               'bootstrap': bootstrap}\n",
    "\n",
    "tune_rfc = RandomForestClassifier(random_state = 0)\n",
    "rfc_search = RandomizedSearchCV(tune_rfc, param_distributions = rfc_grid, scoring='accuracy',cv=3,verbose=1, n_jobs=-1)\n",
    "rfc_search.fit(x_train, y_train)"
   ],
   "outputs": [
    {
     "output_type": "stream",
     "name": "stdout",
     "text": [
      "Fitting 3 folds for each of 10 candidates, totalling 30 fits\n"
     ]
    },
    {
     "output_type": "execute_result",
     "data": {
      "text/plain": [
       "RandomizedSearchCV(cv=3, estimator=RandomForestClassifier(random_state=0),\n",
       "                   n_jobs=-1,\n",
       "                   param_distributions={'bootstrap': [True, False],\n",
       "                                        'max_depth': [20, 40, 60, 80, 100,\n",
       "                                                      None],\n",
       "                                        'max_features': ['auto', 'sqrt'],\n",
       "                                        'min_samples_leaf': [1, 2, 4],\n",
       "                                        'min_samples_split': [2, 5, 10],\n",
       "                                        'n_estimators': [200, 400, 600, 800,\n",
       "                                                         1000]},\n",
       "                   scoring='accuracy', verbose=1)"
      ]
     },
     "metadata": {},
     "execution_count": 105
    }
   ],
   "metadata": {}
  },
  {
   "cell_type": "code",
   "execution_count": 106,
   "source": [
    "print('Best parameters found:\\n', rfc_search.best_params_)\n",
    "print(\"Train accuracy: %.4f\" % rfc_search.score(x_train, y_train))\n",
    "print(\" Test accuracy: %.4f\" % rfc_search.score(x_test, y_test))"
   ],
   "outputs": [
    {
     "output_type": "stream",
     "name": "stdout",
     "text": [
      "Best parameters found:\n",
      " {'n_estimators': 600, 'min_samples_split': 10, 'min_samples_leaf': 1, 'max_features': 'auto', 'max_depth': 100, 'bootstrap': False}\n",
      "Train accuracy: 0.9633\n",
      " Test accuracy: 0.7765\n"
     ]
    }
   ],
   "metadata": {}
  },
  {
   "cell_type": "code",
   "execution_count": 103,
   "source": [
    "from sklearn.ensemble import RandomForestClassifier\n",
    "base_rfc = RandomForestClassifier(random_state = 0)\n",
    "base_rfc.fit(x_train2, y_train2)\n",
    "print(base_rfc.score(x_train2, y_train2))\n",
    "print(base_rfc.score(x_test2, y_test2))"
   ],
   "outputs": [
    {
     "output_type": "stream",
     "name": "stdout",
     "text": [
      "1.0\n",
      "0.7613636363636364\n"
     ]
    }
   ],
   "metadata": {}
  },
  {
   "cell_type": "markdown",
   "source": [
    "## Gradient boostng - not great"
   ],
   "metadata": {}
  },
  {
   "cell_type": "code",
   "execution_count": 107,
   "source": [
    "from sklearn.ensemble import GradientBoostingClassifier\n",
    "\n",
    "base_gbc = GradientBoostingClassifier(random_state=8)\n",
    "base_gbc.fit(x_train, y_train)\n",
    "print(base_gbc.score(x_train, y_train))\n",
    "print(base_gbc.score(x_test, y_test))"
   ],
   "outputs": [
    {
     "output_type": "stream",
     "name": "stdout",
     "text": [
      "0.8557213930348259\n",
      "0.7664141414141414\n"
     ]
    }
   ],
   "metadata": {}
  },
  {
   "cell_type": "code",
   "execution_count": 108,
   "source": [
    "base_gbc = GradientBoostingClassifier(random_state=8)\n",
    "base_gbc.fit(x_train2, y_train2)\n",
    "print(base_gbc.score(x_train2, y_train2))\n",
    "print(base_gbc.score(x_test2, y_test2))"
   ],
   "outputs": [
    {
     "output_type": "stream",
     "name": "stdout",
     "text": [
      "0.8606965174129353\n",
      "0.7386363636363636\n"
     ]
    }
   ],
   "metadata": {}
  },
  {
   "cell_type": "code",
   "execution_count": 109,
   "source": [
    "n_estimators = [200, 800]\n",
    "max_features = ['auto', 'sqrt']\n",
    "max_depth = [10, 40]\n",
    "max_depth.append(None)\n",
    "min_samples_split = [10, 30, 50]\n",
    "min_samples_leaf = [1, 2, 4]\n",
    "learning_rate = [.1, .5]\n",
    "subsample = [.5, 1.]\n",
    "\n",
    "# Create the random grid\n",
    "random_grid = {'n_estimators': n_estimators,\n",
    "               'max_features': max_features,\n",
    "               'max_depth': max_depth,\n",
    "               'min_samples_split': min_samples_split,\n",
    "               'min_samples_leaf': min_samples_leaf,\n",
    "               'learning_rate': learning_rate,\n",
    "               'subsample': subsample}\n",
    "base_gbc = GradientBoostingClassifier(random_state=8)\n",
    "random_search = RandomizedSearchCV(estimator=base_gbc,param_distributions=random_grid, n_iter=50, scoring='accuracy', cv=3, verbose=1, n_jobs=-1, random_state=8)\n",
    "random_search.fit(x_train, y_train)"
   ],
   "outputs": [
    {
     "output_type": "stream",
     "name": "stdout",
     "text": [
      "Fitting 3 folds for each of 50 candidates, totalling 150 fits\n"
     ]
    },
    {
     "output_type": "execute_result",
     "data": {
      "text/plain": [
       "RandomizedSearchCV(cv=3, estimator=GradientBoostingClassifier(random_state=8),\n",
       "                   n_iter=50, n_jobs=-1,\n",
       "                   param_distributions={'learning_rate': [0.1, 0.5],\n",
       "                                        'max_depth': [10, 40, None],\n",
       "                                        'max_features': ['auto', 'sqrt'],\n",
       "                                        'min_samples_leaf': [1, 2, 4],\n",
       "                                        'min_samples_split': [10, 30, 50],\n",
       "                                        'n_estimators': [200, 800],\n",
       "                                        'subsample': [0.5, 1.0]},\n",
       "                   random_state=8, scoring='accuracy', verbose=1)"
      ]
     },
     "metadata": {},
     "execution_count": 109
    }
   ],
   "metadata": {}
  },
  {
   "cell_type": "code",
   "execution_count": 110,
   "source": [
    "print('Best parameters found:\\n', random_search.best_params_)\n",
    "print(\"Train accuracy: %.4f\" % random_search.score(x_train, y_train))\n",
    "print(\" Test accuracy: %.4f\" % random_search.score(x_test, y_test))"
   ],
   "outputs": [
    {
     "output_type": "stream",
     "name": "stdout",
     "text": [
      "Best parameters found:\n",
      " {'subsample': 1.0, 'n_estimators': 800, 'min_samples_split': 50, 'min_samples_leaf': 1, 'max_features': 'auto', 'max_depth': 10, 'learning_rate': 0.5}\n",
      "Train accuracy: 0.9988\n",
      " Test accuracy: 0.7891\n"
     ]
    }
   ],
   "metadata": {}
  },
  {
   "cell_type": "markdown",
   "source": [
    "## LR Bigrams without stopwords"
   ],
   "metadata": {}
  },
  {
   "cell_type": "code",
   "execution_count": 111,
   "source": [
    "tfidf = TfidfVectorizer(ngram_range=(1,2), min_df = 2)\n",
    "model = tfidf.fit_transform(df_clean['text'].values.tolist())\n",
    "features = tfidf.get_feature_names()\n",
    "dnse = model.todense()\n",
    "dnselist = dnse.tolist()\n",
    "\n",
    "features = tfidf.get_feature_names()\n",
    "df = pd.DataFrame(dnselist, columns=features)\n",
    "\n",
    "# with stopwords\n",
    "x_train3, x_test3, y_train3, y_test3 = train_test_split(df, y_train_df['is_positive_sentiment'], test_size=0.33, random_state = 0)"
   ],
   "outputs": [],
   "metadata": {}
  },
  {
   "cell_type": "code",
   "execution_count": 116,
   "source": [
    "tfidf2 = TfidfVectorizer(ngram_range=(1,2), min_df = 2, stop_words=stop_words)\n",
    "model2 = tfidf2.fit_transform(df_clean['text'].values.tolist())\n",
    "features2 = tfidf2.get_feature_names()\n",
    "dnse2 = model2.todense()\n",
    "dnselist2 = dnse2.tolist()\n",
    "\n",
    "df2 = pd.DataFrame(dnselist2, columns=features2)\n",
    "\n",
    "# with stopwords\n",
    "x_train4, x_test4, y_train4, y_test4 = train_test_split(df2, y_train_df['is_positive_sentiment'], test_size=0.33, random_state = 0)"
   ],
   "outputs": [],
   "metadata": {}
  },
  {
   "cell_type": "code",
   "execution_count": 123,
   "source": [
    "# base_lr = LogisticRegression()\n",
    "# base_lr.fit(x_train3, y_train3)\n",
    "# print(base_lr.score(x_train3, y_train3))\n",
    "# print(base_lr.score(x_test3, y_test3))\n",
    "# 0.9651741293532339\n",
    "# 0.7765151515151515"
   ],
   "outputs": [],
   "metadata": {}
  },
  {
   "cell_type": "code",
   "execution_count": 117,
   "source": [
    "base_lr = LogisticRegression()\n",
    "base_lr.fit(x_train4, y_train4)\n",
    "print(base_lr.score(x_train4, y_train4))\n",
    "print(base_lr.score(x_test4, y_test4))"
   ],
   "outputs": [
    {
     "output_type": "stream",
     "name": "stdout",
     "text": [
      "0.9527363184079602\n",
      "0.8042929292929293\n"
     ]
    }
   ],
   "metadata": {}
  },
  {
   "cell_type": "code",
   "execution_count": 122,
   "source": [
    "# param_grid = {\"C\":np.logspace(-3,3,10), \"max_iter\":[50, 150, 250, 350, 450, 500]}\n",
    "# tune_lr3 = LogisticRegression()\n",
    "# grid_search3 = RandomizedSearchCV(tune_lr3, param_distributions = param_grid, scoring='accuracy',cv=3,verbose=1, n_jobs=-1, n_iter=50)\n",
    "# grid_search3.fit(x_train3, y_train3)"
   ],
   "outputs": [],
   "metadata": {}
  },
  {
   "cell_type": "code",
   "execution_count": 114,
   "source": [
    "# print('Best parameters found:\\n', grid_search3.best_params_)\n",
    "# print(\"Train accuracy: %.4f\" % grid_search3.score(x_train3, y_train3))\n",
    "# print(\" Test accuracy: %.4f\" % grid_search3.score(x_test3, y_test3))\n",
    "# Best parameters found:\n",
    "#  {'max_iter': 350, 'C': 10.0}\n",
    "# Train accuracy: 0.9969\n",
    "#  Test accuracy: 0.7980"
   ],
   "outputs": [
    {
     "output_type": "stream",
     "name": "stdout",
     "text": [
      "Best parameters found:\n",
      " {'max_iter': 350, 'C': 10.0}\n",
      "Train accuracy: 0.9969\n",
      " Test accuracy: 0.7980\n"
     ]
    }
   ],
   "metadata": {}
  },
  {
   "cell_type": "code",
   "execution_count": 118,
   "source": [
    "tune_lr4 = LogisticRegression()\n",
    "grid_search4 = RandomizedSearchCV(tune_lr4, param_distributions = param_grid, scoring='accuracy',cv=3,verbose=1, n_jobs=-1, n_iter=50)\n",
    "grid_search4.fit(x_train4, y_train4)"
   ],
   "outputs": [
    {
     "output_type": "stream",
     "name": "stdout",
     "text": [
      "Fitting 3 folds for each of 50 candidates, totalling 150 fits\n"
     ]
    },
    {
     "output_type": "execute_result",
     "data": {
      "text/plain": [
       "RandomizedSearchCV(cv=3, estimator=LogisticRegression(), n_iter=50, n_jobs=-1,\n",
       "                   param_distributions={'C': array([1.00000000e-03, 4.64158883e-03, 2.15443469e-02, 1.00000000e-01,\n",
       "       4.64158883e-01, 2.15443469e+00, 1.00000000e+01, 4.64158883e+01,\n",
       "       2.15443469e+02, 1.00000000e+03]),\n",
       "                                        'max_iter': [50, 150, 250, 350, 450,\n",
       "                                                     500]},\n",
       "                   scoring='accuracy', verbose=1)"
      ]
     },
     "metadata": {},
     "execution_count": 118
    }
   ],
   "metadata": {}
  },
  {
   "cell_type": "code",
   "execution_count": 119,
   "source": [
    "print('Best parameters found:\\n', grid_search4.best_params_)\n",
    "print(\"Train accuracy: %.4f\" % grid_search4.score(x_train4, y_train4))\n",
    "print(\" Test accuracy: %.4f\" % grid_search4.score(x_test4, y_test4))"
   ],
   "outputs": [
    {
     "output_type": "stream",
     "name": "stdout",
     "text": [
      "Best parameters found:\n",
      " {'max_iter': 500, 'C': 0.46415888336127775}\n",
      "Train accuracy: 0.9291\n",
      " Test accuracy: 0.8030\n"
     ]
    }
   ],
   "metadata": {}
  },
  {
   "cell_type": "code",
   "execution_count": 121,
   "source": [
    "# df2.to_csv('important_words.csv', index=False)\n",
    "test_set = pd.read_csv('test_data.csv')\n",
    "prediction = grid_search4.predict_proba(test_set)[:,1]\n",
    "np.savetxt('yproba1_test.txt', prediction)"
   ],
   "outputs": [],
   "metadata": {}
  },
  {
   "cell_type": "markdown",
   "source": [
    "## SVM Bigrams -- not as good"
   ],
   "metadata": {}
  },
  {
   "cell_type": "code",
   "execution_count": 124,
   "source": [
    "base_svm = SVC()\n",
    "base_svm.fit(x_train3, y_train3)\n",
    "print(base_svm.score(x_train3, y_train3))\n",
    "print(base_svm.score(x_test3, y_test3))"
   ],
   "outputs": [
    {
     "output_type": "stream",
     "name": "stdout",
     "text": [
      "0.9968905472636815\n",
      "0.7941919191919192\n"
     ]
    }
   ],
   "metadata": {}
  },
  {
   "cell_type": "code",
   "execution_count": 125,
   "source": [
    "base_svm = SVC()\n",
    "base_svm.fit(x_train4, y_train4)\n",
    "print(base_svm.score(x_train4, y_train4))\n",
    "print(base_svm.score(x_test4, y_test4))"
   ],
   "outputs": [
    {
     "output_type": "stream",
     "name": "stdout",
     "text": [
      "0.9925373134328358\n",
      "0.8005050505050505\n"
     ]
    }
   ],
   "metadata": {}
  },
  {
   "cell_type": "code",
   "execution_count": 126,
   "source": [
    "tune_svc3 = SVC(random_state = 0, probability=True)\n",
    "svc_search3 = RandomizedSearchCV(tune_svc3, param_distributions = svc_grid, scoring='accuracy',cv=3,verbose=1, n_jobs=-1, n_iter=50)\n",
    "svc_search3.fit(x_train3, y_train3)"
   ],
   "outputs": [
    {
     "output_type": "stream",
     "name": "stdout",
     "text": [
      "Fitting 3 folds for each of 50 candidates, totalling 150 fits\n"
     ]
    },
    {
     "output_type": "execute_result",
     "data": {
      "text/plain": [
       "RandomizedSearchCV(cv=3, estimator=SVC(probability=True, random_state=0),\n",
       "                   n_iter=50, n_jobs=-1,\n",
       "                   param_distributions={'C': [0.0001, 0.001, 0.01],\n",
       "                                        'degree': [1, 2, 3, 4, 5],\n",
       "                                        'gamma': [0.001, 0.01, 0.1, 1, 10, 100],\n",
       "                                        'kernel': ['linear', 'rbf', 'poly']},\n",
       "                   scoring='accuracy', verbose=1)"
      ]
     },
     "metadata": {},
     "execution_count": 126
    }
   ],
   "metadata": {}
  },
  {
   "cell_type": "code",
   "execution_count": 127,
   "source": [
    "print('Best parameters found:\\n', svc_search3.best_params_)\n",
    "print(\"Train accuracy: %.4f\" % svc_search3.score(x_train3, y_train3))\n",
    "print(\" Test accuracy: %.4f\" % svc_search3.score(x_test3, y_test3))"
   ],
   "outputs": [
    {
     "output_type": "stream",
     "name": "stdout",
     "text": [
      "Best parameters found:\n",
      " {'kernel': 'poly', 'gamma': 10, 'degree': 2, 'C': 0.01}\n",
      "Train accuracy: 0.9994\n",
      " Test accuracy: 0.7967\n"
     ]
    }
   ],
   "metadata": {}
  },
  {
   "cell_type": "code",
   "execution_count": 128,
   "source": [
    "tune_svc4 = SVC(random_state = 0, probability=True)\n",
    "svc_search4 = RandomizedSearchCV(tune_svc4, param_distributions = svc_grid, scoring='accuracy',cv=3,verbose=1, n_jobs=-1, n_iter=50)\n",
    "svc_search4.fit(x_train4, y_train4)"
   ],
   "outputs": [
    {
     "output_type": "stream",
     "name": "stdout",
     "text": [
      "Fitting 3 folds for each of 50 candidates, totalling 150 fits\n"
     ]
    },
    {
     "output_type": "execute_result",
     "data": {
      "text/plain": [
       "RandomizedSearchCV(cv=3, estimator=SVC(probability=True, random_state=0),\n",
       "                   n_iter=50, n_jobs=-1,\n",
       "                   param_distributions={'C': [0.0001, 0.001, 0.01],\n",
       "                                        'degree': [1, 2, 3, 4, 5],\n",
       "                                        'gamma': [0.001, 0.01, 0.1, 1, 10, 100],\n",
       "                                        'kernel': ['linear', 'rbf', 'poly']},\n",
       "                   scoring='accuracy', verbose=1)"
      ]
     },
     "metadata": {},
     "execution_count": 128
    }
   ],
   "metadata": {}
  },
  {
   "cell_type": "code",
   "execution_count": 129,
   "source": [
    "print('Best parameters found:\\n', svc_search4.best_params_)\n",
    "print(\"Train accuracy: %.4f\" % svc_search4.score(x_train4, y_train4))\n",
    "print(\" Test accuracy: %.4f\" % svc_search4.score(x_test4, y_test4))"
   ],
   "outputs": [
    {
     "output_type": "stream",
     "name": "stdout",
     "text": [
      "Best parameters found:\n",
      " {'kernel': 'poly', 'gamma': 100, 'degree': 2, 'C': 0.001}\n",
      "Train accuracy: 0.9988\n",
      " Test accuracy: 0.7904\n"
     ]
    }
   ],
   "metadata": {}
  },
  {
   "cell_type": "markdown",
   "source": [
    "## Next model"
   ],
   "metadata": {}
  },
  {
   "cell_type": "code",
   "execution_count": 130,
   "source": [
    "network3 = MLPClassifier(max_iter=400, random_state=13, early_stopping=True)\n",
    "network3.fit(x_train3, y_train3)\n",
    "print(\"Train accuracy: %.4f\" % network3.score(x_train3, y_train3))\n",
    "print(\" Test accuracy: %.4f\" % network3.score(x_test3, y_test3))"
   ],
   "outputs": [
    {
     "output_type": "stream",
     "name": "stdout",
     "text": [
      "Train accuracy: 0.9695\n",
      " Test accuracy: 0.7929\n"
     ]
    }
   ],
   "metadata": {}
  },
  {
   "cell_type": "code",
   "execution_count": 132,
   "source": [
    "network3 = MLPClassifier(max_iter=400, random_state=13, early_stopping=True)\n",
    "gscv3 = RandomizedSearchCV(network3, param_distributions = try_params, cv=3, n_jobs=-1, n_iter=50)\n",
    "gscv3.fit(x_train3, y_train3)"
   ],
   "outputs": [
    {
     "output_type": "stream",
     "name": "stderr",
     "text": [
      "/opt/anaconda3/lib/python3.7/site-packages/sklearn/model_selection/_search.py:289: UserWarning: The total space of parameters 24 is smaller than n_iter=50. Running 24 iterations. For exhaustive searches, use GridSearchCV.\n",
      "  % (grid_size, self.n_iter, grid_size), UserWarning)\n"
     ]
    },
    {
     "output_type": "execute_result",
     "data": {
      "text/plain": [
       "RandomizedSearchCV(cv=3,\n",
       "                   estimator=MLPClassifier(early_stopping=True, max_iter=400,\n",
       "                                           random_state=13),\n",
       "                   n_iter=50, n_jobs=-1,\n",
       "                   param_distributions={'activation': ['logistic', 'relu'],\n",
       "                                        'alpha': array([100. ,  10. ,   1. ,   0.1]),\n",
       "                                        'hidden_layer_sizes': [(50,), (100,),\n",
       "                                                               (128, 64, 32,\n",
       "                                                                8)]})"
      ]
     },
     "metadata": {},
     "execution_count": 132
    }
   ],
   "metadata": {}
  },
  {
   "cell_type": "code",
   "execution_count": 134,
   "source": [
    "print('Best parameters found:\\n', gscv3.best_params_)\n",
    "print(\"Train accuracy: %.4f\" % gscv3.score(x_train3, y_train3))\n",
    "print(\" Test accuracy: %.4f\" % gscv3.score(x_test3, y_test3))"
   ],
   "outputs": [
    {
     "output_type": "stream",
     "name": "stdout",
     "text": [
      "Best parameters found:\n",
      " {'hidden_layer_sizes': (50,), 'alpha': 1.0, 'activation': 'relu'}\n",
      "Train accuracy: 0.9322\n",
      " Test accuracy: 0.7727\n"
     ]
    }
   ],
   "metadata": {}
  },
  {
   "cell_type": "code",
   "execution_count": 131,
   "source": [
    "# network4 = MLPClassifier(max_iter=400, random_state=13, early_stopping=True)\n",
    "# network4.fit(x_train4, y_train4)\n",
    "# print(\"Train accuracy: %.4f\" % network4.score(x_train4, y_train4))\n",
    "# print(\" Test accuracy: %.4f\" % network4.score(x_test4, y_test4))\n",
    "# Train accuracy: 0.9403\n",
    "#  Test accuracy: 0.7790"
   ],
   "outputs": [
    {
     "output_type": "stream",
     "name": "stdout",
     "text": [
      "Train accuracy: 0.9403\n",
      " Test accuracy: 0.7790\n"
     ]
    }
   ],
   "metadata": {}
  }
 ],
 "metadata": {
  "orig_nbformat": 4,
  "language_info": {
   "name": "python",
   "version": "3.7.6",
   "mimetype": "text/x-python",
   "codemirror_mode": {
    "name": "ipython",
    "version": 3
   },
   "pygments_lexer": "ipython3",
   "nbconvert_exporter": "python",
   "file_extension": ".py"
  },
  "kernelspec": {
   "name": "python3",
   "display_name": "Python 3.7.6 64-bit ('base': conda)"
  },
  "interpreter": {
   "hash": "dca0ade3e726a953b501b15e8e990130d2b7799f14cfd9f4271676035ebe5511"
  }
 },
 "nbformat": 4,
 "nbformat_minor": 2
}