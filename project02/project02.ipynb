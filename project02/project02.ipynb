{
 "cells": [
  {
   "cell_type": "code",
   "execution_count": 49,
   "source": [
    "import numpy as np\n",
    "import pandas as pd\n",
    "\n",
    "import nltk\n",
    "from nltk.corpus import stopwords, wordnet\n",
    "from nltk.stem import WordNetLemmatizer\n",
    "from sklearn.feature_extraction.text import TfidfVectorizer\n",
    "from sklearn.model_selection import train_test_split\n",
    "import re"
   ],
   "outputs": [],
   "metadata": {}
  },
  {
   "cell_type": "code",
   "execution_count": 2,
   "source": [
    "x_train_df = pd.read_csv('data_reviews/x_train.csv')\n",
    "y_train_df = pd.read_csv('data_reviews/y_train.csv')\n",
    "\n",
    "tr_text_list = x_train_df['text'].values.tolist()"
   ],
   "outputs": [],
   "metadata": {}
  },
  {
   "cell_type": "code",
   "execution_count": 51,
   "source": [
    "# Special characters and punctuation\n",
    "df = x_train_df.copy()\n",
    "punc_list = list(\"?:!.,;()\")\n",
    "df[\"text_1\"] = df[\"text\"].str.replace(\"\\n\", \" \")\n",
    "df[\"text_1\"] = df[\"text_1\"].str.replace('\"', \" \")\n",
    "df[\"text_1\"] = df[\"text_1\"].str.replace(\"'s\", \" \")\n",
    "for punc in punc_list:\n",
    "    df[\"text_1\"] = df[\"text_1\"].str.replace(punc, \" \")\n",
    "    \n",
    "#lowering cases\n",
    "df[\"text_1\"] = df[\"text_1\"].str.lower()\n",
    "df.head()"
   ],
   "outputs": [
    {
     "output_type": "stream",
     "name": "stderr",
     "text": [
      "<ipython-input-51-73e324753e51>:8: FutureWarning: The default value of regex will change from True to False in a future version. In addition, single character regular expressions will*not* be treated as literal strings when regex=True.\n",
      "  df[\"text_1\"] = df[\"text_1\"].str.replace(punc, \" \")\n"
     ]
    },
    {
     "output_type": "execute_result",
     "data": {
      "text/plain": [
       "  website_name                                               text  \\\n",
       "0       amazon  Oh and I forgot to also mention the weird colo...   \n",
       "1       amazon                       THAT one didn't work either.   \n",
       "2       amazon                                 Waste of 13 bucks.   \n",
       "3       amazon  Product is useless, since it does not have eno...   \n",
       "4       amazon  None of the three sizes they sent with the hea...   \n",
       "\n",
       "                                              text_1  \n",
       "0  oh and i forgot to also mention the weird colo...  \n",
       "1                       that one didn't work either   \n",
       "2                                 waste of 13 bucks   \n",
       "3  product is useless  since it does not have eno...  \n",
       "4  none of the three sizes they sent with the hea...  "
      ],
      "text/html": [
       "<div>\n",
       "<style scoped>\n",
       "    .dataframe tbody tr th:only-of-type {\n",
       "        vertical-align: middle;\n",
       "    }\n",
       "\n",
       "    .dataframe tbody tr th {\n",
       "        vertical-align: top;\n",
       "    }\n",
       "\n",
       "    .dataframe thead th {\n",
       "        text-align: right;\n",
       "    }\n",
       "</style>\n",
       "<table border=\"1\" class=\"dataframe\">\n",
       "  <thead>\n",
       "    <tr style=\"text-align: right;\">\n",
       "      <th></th>\n",
       "      <th>website_name</th>\n",
       "      <th>text</th>\n",
       "      <th>text_1</th>\n",
       "    </tr>\n",
       "  </thead>\n",
       "  <tbody>\n",
       "    <tr>\n",
       "      <th>0</th>\n",
       "      <td>amazon</td>\n",
       "      <td>Oh and I forgot to also mention the weird colo...</td>\n",
       "      <td>oh and i forgot to also mention the weird colo...</td>\n",
       "    </tr>\n",
       "    <tr>\n",
       "      <th>1</th>\n",
       "      <td>amazon</td>\n",
       "      <td>THAT one didn't work either.</td>\n",
       "      <td>that one didn't work either</td>\n",
       "    </tr>\n",
       "    <tr>\n",
       "      <th>2</th>\n",
       "      <td>amazon</td>\n",
       "      <td>Waste of 13 bucks.</td>\n",
       "      <td>waste of 13 bucks</td>\n",
       "    </tr>\n",
       "    <tr>\n",
       "      <th>3</th>\n",
       "      <td>amazon</td>\n",
       "      <td>Product is useless, since it does not have eno...</td>\n",
       "      <td>product is useless  since it does not have eno...</td>\n",
       "    </tr>\n",
       "    <tr>\n",
       "      <th>4</th>\n",
       "      <td>amazon</td>\n",
       "      <td>None of the three sizes they sent with the hea...</td>\n",
       "      <td>none of the three sizes they sent with the hea...</td>\n",
       "    </tr>\n",
       "  </tbody>\n",
       "</table>\n",
       "</div>"
      ]
     },
     "metadata": {},
     "execution_count": 51
    }
   ],
   "metadata": {}
  },
  {
   "cell_type": "code",
   "execution_count": 52,
   "source": [
    "#stemming and lemmatization\n",
    "nltk.download('punkt')\n",
    "nltk.download('wordnet')\n",
    "\n",
    "def get_wordnet_pos(word):\n",
    "    \"\"\"Map POS tag to first character lemmatize() accepts\"\"\"\n",
    "    tag = nltk.pos_tag([word])[0][1][0].upper()\n",
    "    tag_dict = {\"J\": wordnet.ADJ,\n",
    "                \"N\": wordnet.NOUN,\n",
    "                \"V\": wordnet.VERB,\n",
    "                \"R\": wordnet.ADV}\n",
    "\n",
    "    return tag_dict.get(tag, wordnet.NOUN)\n",
    "\n",
    "wordnet_lemmatizer = WordNetLemmatizer()\n",
    "nrows = len(df)\n",
    "lemmatized_text_list = []\n",
    "\n",
    "for row in range(0, nrows):\n",
    "    \n",
    "    # Create an empty list containing lemmatized words\n",
    "    lemmatized_list = []\n",
    "    \n",
    "    # Save the text and its words into an object\n",
    "    text = df.loc[row]['text_1']\n",
    "    text_words = text.split(\" \")\n",
    "\n",
    "    if row < 10:\n",
    "        print(text)\n",
    "\n",
    "    # Iterate through every word to lemmatize\n",
    "    for word in text_words:\n",
    "        lemmatized_list.append(wordnet_lemmatizer.lemmatize(word, get_wordnet_pos(word)))\n",
    "        \n",
    "    # Join the list\n",
    "    lemmatized_text = \" \".join(lemmatized_list)\n",
    "    if row < 10:\n",
    "        print(lemmatized_text)\n",
    "        print(\"\")\n",
    "    # Append to the list containing the texts\n",
    "    lemmatized_text_list.append(lemmatized_text)\n",
    "\n",
    "df['text_2'] = lemmatized_text_list\n",
    "df.head()"
   ],
   "outputs": [
    {
     "output_type": "stream",
     "name": "stderr",
     "text": [
      "[nltk_data] Downloading package punkt to\n",
      "[nltk_data]     /Users/irenechang/nltk_data...\n",
      "[nltk_data]   Package punkt is already up-to-date!\n",
      "[nltk_data] Downloading package wordnet to\n",
      "[nltk_data]     /Users/irenechang/nltk_data...\n",
      "[nltk_data]   Package wordnet is already up-to-date!\n"
     ]
    },
    {
     "output_type": "stream",
     "name": "stdout",
     "text": [
      "oh and i forgot to also mention the weird color effect it has on your phone \n",
      "oh and i forgot to also mention the weird color effect it have on your phone \n",
      "\n",
      "that one didn't work either \n",
      "that one didn't work either \n",
      "\n",
      "waste of 13 bucks \n",
      "waste of 13 buck \n",
      "\n",
      "product is useless  since it does not have enough charging current to charge the 2 cellphones i was planning to use it with \n",
      "product be useless  since it do not have enough charge current to charge the 2 cellphone i be planning to use it with \n",
      "\n",
      "none of the three sizes they sent with the headset would stay in my ears \n",
      "none of the three size they sent with the headset would stay in my ear \n",
      "\n",
      "worst customer service \n",
      "bad customer service \n",
      "\n",
      "the ngage is still lacking in earbuds \n",
      "the ngage be still lack in earbuds \n",
      "\n",
      "it always cuts out and makes a beep beep beep sound then says signal failed \n",
      "it always cut out and make a beep beep beep sound then say signal fail \n",
      "\n",
      "the only very disappointing thing was there was no speakerphone    \n",
      "the only very disappoint thing be there be no speakerphone    \n",
      "\n",
      "very disappointed in accessoryone \n",
      "very disappointed in accessoryone \n",
      "\n"
     ]
    },
    {
     "output_type": "execute_result",
     "data": {
      "text/plain": [
       "  website_name                                               text  \\\n",
       "0       amazon  Oh and I forgot to also mention the weird colo...   \n",
       "1       amazon                       THAT one didn't work either.   \n",
       "2       amazon                                 Waste of 13 bucks.   \n",
       "3       amazon  Product is useless, since it does not have eno...   \n",
       "4       amazon  None of the three sizes they sent with the hea...   \n",
       "\n",
       "                                              text_1  \\\n",
       "0  oh and i forgot to also mention the weird colo...   \n",
       "1                       that one didn't work either    \n",
       "2                                 waste of 13 bucks    \n",
       "3  product is useless  since it does not have eno...   \n",
       "4  none of the three sizes they sent with the hea...   \n",
       "\n",
       "                                              text_2  \n",
       "0  oh and i forgot to also mention the weird colo...  \n",
       "1                       that one didn't work either   \n",
       "2                                  waste of 13 buck   \n",
       "3  product be useless  since it do not have enoug...  \n",
       "4  none of the three size they sent with the head...  "
      ],
      "text/html": [
       "<div>\n",
       "<style scoped>\n",
       "    .dataframe tbody tr th:only-of-type {\n",
       "        vertical-align: middle;\n",
       "    }\n",
       "\n",
       "    .dataframe tbody tr th {\n",
       "        vertical-align: top;\n",
       "    }\n",
       "\n",
       "    .dataframe thead th {\n",
       "        text-align: right;\n",
       "    }\n",
       "</style>\n",
       "<table border=\"1\" class=\"dataframe\">\n",
       "  <thead>\n",
       "    <tr style=\"text-align: right;\">\n",
       "      <th></th>\n",
       "      <th>website_name</th>\n",
       "      <th>text</th>\n",
       "      <th>text_1</th>\n",
       "      <th>text_2</th>\n",
       "    </tr>\n",
       "  </thead>\n",
       "  <tbody>\n",
       "    <tr>\n",
       "      <th>0</th>\n",
       "      <td>amazon</td>\n",
       "      <td>Oh and I forgot to also mention the weird colo...</td>\n",
       "      <td>oh and i forgot to also mention the weird colo...</td>\n",
       "      <td>oh and i forgot to also mention the weird colo...</td>\n",
       "    </tr>\n",
       "    <tr>\n",
       "      <th>1</th>\n",
       "      <td>amazon</td>\n",
       "      <td>THAT one didn't work either.</td>\n",
       "      <td>that one didn't work either</td>\n",
       "      <td>that one didn't work either</td>\n",
       "    </tr>\n",
       "    <tr>\n",
       "      <th>2</th>\n",
       "      <td>amazon</td>\n",
       "      <td>Waste of 13 bucks.</td>\n",
       "      <td>waste of 13 bucks</td>\n",
       "      <td>waste of 13 buck</td>\n",
       "    </tr>\n",
       "    <tr>\n",
       "      <th>3</th>\n",
       "      <td>amazon</td>\n",
       "      <td>Product is useless, since it does not have eno...</td>\n",
       "      <td>product is useless  since it does not have eno...</td>\n",
       "      <td>product be useless  since it do not have enoug...</td>\n",
       "    </tr>\n",
       "    <tr>\n",
       "      <th>4</th>\n",
       "      <td>amazon</td>\n",
       "      <td>None of the three sizes they sent with the hea...</td>\n",
       "      <td>none of the three sizes they sent with the hea...</td>\n",
       "      <td>none of the three size they sent with the head...</td>\n",
       "    </tr>\n",
       "  </tbody>\n",
       "</table>\n",
       "</div>"
      ]
     },
     "metadata": {},
     "execution_count": 52
    }
   ],
   "metadata": {}
  },
  {
   "cell_type": "code",
   "execution_count": 79,
   "source": [
    "#stopwords\n",
    "# nltk.download('stopwords')\n",
    "# stop_words = list(stopwords.words('english'))\n",
    "# re_stop_words = re.compile(r\"\\b(\" + \"|\".join(stop_words) + \")\\\\W\", re.I)\n",
    "# def removeStopWords(sentence):\n",
    "#     # removing stop words\n",
    "#     global re_stop_words\n",
    "#     return re_stop_words.sub(\" \", sentence)\n",
    "# df['text_3'] = df['text_2'].apply(removeStopWords)\n",
    "# for stop_word in stop_words:\n",
    "#     regex_stopword = r\"\\b\" + stop_word + r\"\\b\"\n",
    "#     df['text_3'] = df['text_2'].str.replace(regex_stopword, '')\n",
    "\n",
    "#remove numbers\n",
    "pattern = r'[0-9]'\n",
    "remove_number = []\n",
    "for text in df[\"text_2\"].tolist():\n",
    "    remove_number.append(re.sub(pattern, '', text))\n",
    "    \n",
    "df[\"text_3\"] = remove_number\n",
    "df"
   ],
   "outputs": [
    {
     "output_type": "execute_result",
     "data": {
      "text/plain": [
       "     website_name                                               text  \\\n",
       "0          amazon  Oh and I forgot to also mention the weird colo...   \n",
       "1          amazon                       THAT one didn't work either.   \n",
       "2          amazon                                 Waste of 13 bucks.   \n",
       "3          amazon  Product is useless, since it does not have eno...   \n",
       "4          amazon  None of the three sizes they sent with the hea...   \n",
       "...           ...                                                ...   \n",
       "2395         yelp  The sweet potato fries were very good and seas...   \n",
       "2396         yelp  I could eat their bruschetta all day it is dev...   \n",
       "2397         yelp                               Ambience is perfect.   \n",
       "2398         yelp  We ordered the duck rare and it was pink and t...   \n",
       "2399         yelp       Service was good and the company was better!   \n",
       "\n",
       "                                                 text_1  \\\n",
       "0     oh and i forgot to also mention the weird colo...   \n",
       "1                          that one didn't work either    \n",
       "2                                    waste of 13 bucks    \n",
       "3     product is useless  since it does not have eno...   \n",
       "4     none of the three sizes they sent with the hea...   \n",
       "...                                                 ...   \n",
       "2395  the sweet potato fries were very good and seas...   \n",
       "2396  i could eat their bruschetta all day it is dev...   \n",
       "2397                               ambience is perfect    \n",
       "2398  we ordered the duck rare and it was pink and t...   \n",
       "2399       service was good and the company was better    \n",
       "\n",
       "                                                 text_2  \\\n",
       "0     oh and i forgot to also mention the weird colo...   \n",
       "1                          that one didn't work either    \n",
       "2                                     waste of 13 buck    \n",
       "3     product be useless  since it do not have enoug...   \n",
       "4     none of the three size they sent with the head...   \n",
       "...                                                 ...   \n",
       "2395  the sweet potato fry be very good and season w...   \n",
       "2396  i could eat their bruschetta all day it be dev...   \n",
       "2397                               ambience be perfect    \n",
       "2398  we order the duck rare and it be pink and tend...   \n",
       "2399           service be good and the company be well    \n",
       "\n",
       "                                                 text_3  \n",
       "0     oh and i forgot to also mention the weird colo...  \n",
       "1                          that one didn't work either   \n",
       "2                                       waste of  buck   \n",
       "3     product be useless  since it do not have enoug...  \n",
       "4     none of the three size they sent with the head...  \n",
       "...                                                 ...  \n",
       "2395  the sweet potato fry be very good and season w...  \n",
       "2396  i could eat their bruschetta all day it be dev...  \n",
       "2397                               ambience be perfect   \n",
       "2398  we order the duck rare and it be pink and tend...  \n",
       "2399           service be good and the company be well   \n",
       "\n",
       "[2400 rows x 5 columns]"
      ],
      "text/html": [
       "<div>\n",
       "<style scoped>\n",
       "    .dataframe tbody tr th:only-of-type {\n",
       "        vertical-align: middle;\n",
       "    }\n",
       "\n",
       "    .dataframe tbody tr th {\n",
       "        vertical-align: top;\n",
       "    }\n",
       "\n",
       "    .dataframe thead th {\n",
       "        text-align: right;\n",
       "    }\n",
       "</style>\n",
       "<table border=\"1\" class=\"dataframe\">\n",
       "  <thead>\n",
       "    <tr style=\"text-align: right;\">\n",
       "      <th></th>\n",
       "      <th>website_name</th>\n",
       "      <th>text</th>\n",
       "      <th>text_1</th>\n",
       "      <th>text_2</th>\n",
       "      <th>text_3</th>\n",
       "    </tr>\n",
       "  </thead>\n",
       "  <tbody>\n",
       "    <tr>\n",
       "      <th>0</th>\n",
       "      <td>amazon</td>\n",
       "      <td>Oh and I forgot to also mention the weird colo...</td>\n",
       "      <td>oh and i forgot to also mention the weird colo...</td>\n",
       "      <td>oh and i forgot to also mention the weird colo...</td>\n",
       "      <td>oh and i forgot to also mention the weird colo...</td>\n",
       "    </tr>\n",
       "    <tr>\n",
       "      <th>1</th>\n",
       "      <td>amazon</td>\n",
       "      <td>THAT one didn't work either.</td>\n",
       "      <td>that one didn't work either</td>\n",
       "      <td>that one didn't work either</td>\n",
       "      <td>that one didn't work either</td>\n",
       "    </tr>\n",
       "    <tr>\n",
       "      <th>2</th>\n",
       "      <td>amazon</td>\n",
       "      <td>Waste of 13 bucks.</td>\n",
       "      <td>waste of 13 bucks</td>\n",
       "      <td>waste of 13 buck</td>\n",
       "      <td>waste of  buck</td>\n",
       "    </tr>\n",
       "    <tr>\n",
       "      <th>3</th>\n",
       "      <td>amazon</td>\n",
       "      <td>Product is useless, since it does not have eno...</td>\n",
       "      <td>product is useless  since it does not have eno...</td>\n",
       "      <td>product be useless  since it do not have enoug...</td>\n",
       "      <td>product be useless  since it do not have enoug...</td>\n",
       "    </tr>\n",
       "    <tr>\n",
       "      <th>4</th>\n",
       "      <td>amazon</td>\n",
       "      <td>None of the three sizes they sent with the hea...</td>\n",
       "      <td>none of the three sizes they sent with the hea...</td>\n",
       "      <td>none of the three size they sent with the head...</td>\n",
       "      <td>none of the three size they sent with the head...</td>\n",
       "    </tr>\n",
       "    <tr>\n",
       "      <th>...</th>\n",
       "      <td>...</td>\n",
       "      <td>...</td>\n",
       "      <td>...</td>\n",
       "      <td>...</td>\n",
       "      <td>...</td>\n",
       "    </tr>\n",
       "    <tr>\n",
       "      <th>2395</th>\n",
       "      <td>yelp</td>\n",
       "      <td>The sweet potato fries were very good and seas...</td>\n",
       "      <td>the sweet potato fries were very good and seas...</td>\n",
       "      <td>the sweet potato fry be very good and season w...</td>\n",
       "      <td>the sweet potato fry be very good and season w...</td>\n",
       "    </tr>\n",
       "    <tr>\n",
       "      <th>2396</th>\n",
       "      <td>yelp</td>\n",
       "      <td>I could eat their bruschetta all day it is dev...</td>\n",
       "      <td>i could eat their bruschetta all day it is dev...</td>\n",
       "      <td>i could eat their bruschetta all day it be dev...</td>\n",
       "      <td>i could eat their bruschetta all day it be dev...</td>\n",
       "    </tr>\n",
       "    <tr>\n",
       "      <th>2397</th>\n",
       "      <td>yelp</td>\n",
       "      <td>Ambience is perfect.</td>\n",
       "      <td>ambience is perfect</td>\n",
       "      <td>ambience be perfect</td>\n",
       "      <td>ambience be perfect</td>\n",
       "    </tr>\n",
       "    <tr>\n",
       "      <th>2398</th>\n",
       "      <td>yelp</td>\n",
       "      <td>We ordered the duck rare and it was pink and t...</td>\n",
       "      <td>we ordered the duck rare and it was pink and t...</td>\n",
       "      <td>we order the duck rare and it be pink and tend...</td>\n",
       "      <td>we order the duck rare and it be pink and tend...</td>\n",
       "    </tr>\n",
       "    <tr>\n",
       "      <th>2399</th>\n",
       "      <td>yelp</td>\n",
       "      <td>Service was good and the company was better!</td>\n",
       "      <td>service was good and the company was better</td>\n",
       "      <td>service be good and the company be well</td>\n",
       "      <td>service be good and the company be well</td>\n",
       "    </tr>\n",
       "  </tbody>\n",
       "</table>\n",
       "<p>2400 rows × 5 columns</p>\n",
       "</div>"
      ]
     },
     "metadata": {},
     "execution_count": 79
    }
   ],
   "metadata": {}
  },
  {
   "cell_type": "code",
   "execution_count": 80,
   "source": [
    "list_columns = [\"website_name\", \"text_3\"]\n",
    "df_clean = df.copy()\n",
    "df_clean = df_clean[list_columns]\n",
    "df_clean = df_clean.rename(columns={'text_3': 'text'})\n",
    "df_clean.head()"
   ],
   "outputs": [
    {
     "output_type": "execute_result",
     "data": {
      "text/plain": [
       "  website_name                                               text\n",
       "0       amazon  oh and i forgot to also mention the weird colo...\n",
       "1       amazon                       that one didn't work either \n",
       "2       amazon                                    waste of  buck \n",
       "3       amazon  product be useless  since it do not have enoug...\n",
       "4       amazon  none of the three size they sent with the head..."
      ],
      "text/html": [
       "<div>\n",
       "<style scoped>\n",
       "    .dataframe tbody tr th:only-of-type {\n",
       "        vertical-align: middle;\n",
       "    }\n",
       "\n",
       "    .dataframe tbody tr th {\n",
       "        vertical-align: top;\n",
       "    }\n",
       "\n",
       "    .dataframe thead th {\n",
       "        text-align: right;\n",
       "    }\n",
       "</style>\n",
       "<table border=\"1\" class=\"dataframe\">\n",
       "  <thead>\n",
       "    <tr style=\"text-align: right;\">\n",
       "      <th></th>\n",
       "      <th>website_name</th>\n",
       "      <th>text</th>\n",
       "    </tr>\n",
       "  </thead>\n",
       "  <tbody>\n",
       "    <tr>\n",
       "      <th>0</th>\n",
       "      <td>amazon</td>\n",
       "      <td>oh and i forgot to also mention the weird colo...</td>\n",
       "    </tr>\n",
       "    <tr>\n",
       "      <th>1</th>\n",
       "      <td>amazon</td>\n",
       "      <td>that one didn't work either</td>\n",
       "    </tr>\n",
       "    <tr>\n",
       "      <th>2</th>\n",
       "      <td>amazon</td>\n",
       "      <td>waste of  buck</td>\n",
       "    </tr>\n",
       "    <tr>\n",
       "      <th>3</th>\n",
       "      <td>amazon</td>\n",
       "      <td>product be useless  since it do not have enoug...</td>\n",
       "    </tr>\n",
       "    <tr>\n",
       "      <th>4</th>\n",
       "      <td>amazon</td>\n",
       "      <td>none of the three size they sent with the head...</td>\n",
       "    </tr>\n",
       "  </tbody>\n",
       "</table>\n",
       "</div>"
      ]
     },
     "metadata": {},
     "execution_count": 80
    }
   ],
   "metadata": {}
  },
  {
   "cell_type": "code",
   "execution_count": 81,
   "source": [
    "from spellchecker import SpellChecker\n",
    "spell = SpellChecker(distance=4)\n",
    "list_words = []\n",
    "for index, txt in enumerate(df_clean.text):\n",
    "    words = spell.split_words(txt)\n",
    "    list_words = [spell.correction(word) for word in words]\n",
    "    df_clean.loc[index, 'text'] = ' '.join(list_words)"
   ],
   "outputs": [],
   "metadata": {}
  },
  {
   "cell_type": "code",
   "execution_count": 86,
   "source": [
    "stopwords"
   ],
   "outputs": [
    {
     "output_type": "execute_result",
     "data": {
      "text/plain": [
       "<WordListCorpusReader in '/Users/irenechang/nltk_data/corpora/stopwords'>"
      ]
     },
     "metadata": {},
     "execution_count": 86
    }
   ],
   "metadata": {}
  },
  {
   "cell_type": "code",
   "execution_count": 82,
   "source": [
    "vectorizer = TfidfVectorizer()\n",
    "vectors = vectorizer.fit_transform(df_clean['text'].values.tolist())\n",
    "feature_names = vectorizer.get_feature_names()\n",
    "dense = vectors.todense()\n",
    "denselist = dense.tolist()\n",
    "pd.DataFrame(denselist, columns=feature_names)"
   ],
   "outputs": [
    {
     "output_type": "execute_result",
     "data": {
      "text/plain": [
       "      abandon  abhor  ability  able  abound  about  above  abroad  absolute  \\\n",
       "0         0.0    0.0      0.0   0.0     0.0    0.0    0.0     0.0       0.0   \n",
       "1         0.0    0.0      0.0   0.0     0.0    0.0    0.0     0.0       0.0   \n",
       "2         0.0    0.0      0.0   0.0     0.0    0.0    0.0     0.0       0.0   \n",
       "3         0.0    0.0      0.0   0.0     0.0    0.0    0.0     0.0       0.0   \n",
       "4         0.0    0.0      0.0   0.0     0.0    0.0    0.0     0.0       0.0   \n",
       "...       ...    ...      ...   ...     ...    ...    ...     ...       ...   \n",
       "2395      0.0    0.0      0.0   0.0     0.0    0.0    0.0     0.0       0.0   \n",
       "2396      0.0    0.0      0.0   0.0     0.0    0.0    0.0     0.0       0.0   \n",
       "2397      0.0    0.0      0.0   0.0     0.0    0.0    0.0     0.0       0.0   \n",
       "2398      0.0    0.0      0.0   0.0     0.0    0.0    0.0     0.0       0.0   \n",
       "2399      0.0    0.0      0.0   0.0     0.0    0.0    0.0     0.0       0.0   \n",
       "\n",
       "      absolutely  ...  youtube  yucky  yukon  yum  yummy  yun   za  zero  \\\n",
       "0            0.0  ...      0.0    0.0    0.0  0.0    0.0  0.0  0.0   0.0   \n",
       "1            0.0  ...      0.0    0.0    0.0  0.0    0.0  0.0  0.0   0.0   \n",
       "2            0.0  ...      0.0    0.0    0.0  0.0    0.0  0.0  0.0   0.0   \n",
       "3            0.0  ...      0.0    0.0    0.0  0.0    0.0  0.0  0.0   0.0   \n",
       "4            0.0  ...      0.0    0.0    0.0  0.0    0.0  0.0  0.0   0.0   \n",
       "...          ...  ...      ...    ...    ...  ...    ...  ...  ...   ...   \n",
       "2395         0.0  ...      0.0    0.0    0.0  0.0    0.0  0.0  0.0   0.0   \n",
       "2396         0.0  ...      0.0    0.0    0.0  0.0    0.0  0.0  0.0   0.0   \n",
       "2397         0.0  ...      0.0    0.0    0.0  0.0    0.0  0.0  0.0   0.0   \n",
       "2398         0.0  ...      0.0    0.0    0.0  0.0    0.0  0.0  0.0   0.0   \n",
       "2399         0.0  ...      0.0    0.0    0.0  0.0    0.0  0.0  0.0   0.0   \n",
       "\n",
       "      zillion  zombie  \n",
       "0         0.0     0.0  \n",
       "1         0.0     0.0  \n",
       "2         0.0     0.0  \n",
       "3         0.0     0.0  \n",
       "4         0.0     0.0  \n",
       "...       ...     ...  \n",
       "2395      0.0     0.0  \n",
       "2396      0.0     0.0  \n",
       "2397      0.0     0.0  \n",
       "2398      0.0     0.0  \n",
       "2399      0.0     0.0  \n",
       "\n",
       "[2400 rows x 3733 columns]"
      ],
      "text/html": [
       "<div>\n",
       "<style scoped>\n",
       "    .dataframe tbody tr th:only-of-type {\n",
       "        vertical-align: middle;\n",
       "    }\n",
       "\n",
       "    .dataframe tbody tr th {\n",
       "        vertical-align: top;\n",
       "    }\n",
       "\n",
       "    .dataframe thead th {\n",
       "        text-align: right;\n",
       "    }\n",
       "</style>\n",
       "<table border=\"1\" class=\"dataframe\">\n",
       "  <thead>\n",
       "    <tr style=\"text-align: right;\">\n",
       "      <th></th>\n",
       "      <th>abandon</th>\n",
       "      <th>abhor</th>\n",
       "      <th>ability</th>\n",
       "      <th>able</th>\n",
       "      <th>abound</th>\n",
       "      <th>about</th>\n",
       "      <th>above</th>\n",
       "      <th>abroad</th>\n",
       "      <th>absolute</th>\n",
       "      <th>absolutely</th>\n",
       "      <th>...</th>\n",
       "      <th>youtube</th>\n",
       "      <th>yucky</th>\n",
       "      <th>yukon</th>\n",
       "      <th>yum</th>\n",
       "      <th>yummy</th>\n",
       "      <th>yun</th>\n",
       "      <th>za</th>\n",
       "      <th>zero</th>\n",
       "      <th>zillion</th>\n",
       "      <th>zombie</th>\n",
       "    </tr>\n",
       "  </thead>\n",
       "  <tbody>\n",
       "    <tr>\n",
       "      <th>0</th>\n",
       "      <td>0.0</td>\n",
       "      <td>0.0</td>\n",
       "      <td>0.0</td>\n",
       "      <td>0.0</td>\n",
       "      <td>0.0</td>\n",
       "      <td>0.0</td>\n",
       "      <td>0.0</td>\n",
       "      <td>0.0</td>\n",
       "      <td>0.0</td>\n",
       "      <td>0.0</td>\n",
       "      <td>...</td>\n",
       "      <td>0.0</td>\n",
       "      <td>0.0</td>\n",
       "      <td>0.0</td>\n",
       "      <td>0.0</td>\n",
       "      <td>0.0</td>\n",
       "      <td>0.0</td>\n",
       "      <td>0.0</td>\n",
       "      <td>0.0</td>\n",
       "      <td>0.0</td>\n",
       "      <td>0.0</td>\n",
       "    </tr>\n",
       "    <tr>\n",
       "      <th>1</th>\n",
       "      <td>0.0</td>\n",
       "      <td>0.0</td>\n",
       "      <td>0.0</td>\n",
       "      <td>0.0</td>\n",
       "      <td>0.0</td>\n",
       "      <td>0.0</td>\n",
       "      <td>0.0</td>\n",
       "      <td>0.0</td>\n",
       "      <td>0.0</td>\n",
       "      <td>0.0</td>\n",
       "      <td>...</td>\n",
       "      <td>0.0</td>\n",
       "      <td>0.0</td>\n",
       "      <td>0.0</td>\n",
       "      <td>0.0</td>\n",
       "      <td>0.0</td>\n",
       "      <td>0.0</td>\n",
       "      <td>0.0</td>\n",
       "      <td>0.0</td>\n",
       "      <td>0.0</td>\n",
       "      <td>0.0</td>\n",
       "    </tr>\n",
       "    <tr>\n",
       "      <th>2</th>\n",
       "      <td>0.0</td>\n",
       "      <td>0.0</td>\n",
       "      <td>0.0</td>\n",
       "      <td>0.0</td>\n",
       "      <td>0.0</td>\n",
       "      <td>0.0</td>\n",
       "      <td>0.0</td>\n",
       "      <td>0.0</td>\n",
       "      <td>0.0</td>\n",
       "      <td>0.0</td>\n",
       "      <td>...</td>\n",
       "      <td>0.0</td>\n",
       "      <td>0.0</td>\n",
       "      <td>0.0</td>\n",
       "      <td>0.0</td>\n",
       "      <td>0.0</td>\n",
       "      <td>0.0</td>\n",
       "      <td>0.0</td>\n",
       "      <td>0.0</td>\n",
       "      <td>0.0</td>\n",
       "      <td>0.0</td>\n",
       "    </tr>\n",
       "    <tr>\n",
       "      <th>3</th>\n",
       "      <td>0.0</td>\n",
       "      <td>0.0</td>\n",
       "      <td>0.0</td>\n",
       "      <td>0.0</td>\n",
       "      <td>0.0</td>\n",
       "      <td>0.0</td>\n",
       "      <td>0.0</td>\n",
       "      <td>0.0</td>\n",
       "      <td>0.0</td>\n",
       "      <td>0.0</td>\n",
       "      <td>...</td>\n",
       "      <td>0.0</td>\n",
       "      <td>0.0</td>\n",
       "      <td>0.0</td>\n",
       "      <td>0.0</td>\n",
       "      <td>0.0</td>\n",
       "      <td>0.0</td>\n",
       "      <td>0.0</td>\n",
       "      <td>0.0</td>\n",
       "      <td>0.0</td>\n",
       "      <td>0.0</td>\n",
       "    </tr>\n",
       "    <tr>\n",
       "      <th>4</th>\n",
       "      <td>0.0</td>\n",
       "      <td>0.0</td>\n",
       "      <td>0.0</td>\n",
       "      <td>0.0</td>\n",
       "      <td>0.0</td>\n",
       "      <td>0.0</td>\n",
       "      <td>0.0</td>\n",
       "      <td>0.0</td>\n",
       "      <td>0.0</td>\n",
       "      <td>0.0</td>\n",
       "      <td>...</td>\n",
       "      <td>0.0</td>\n",
       "      <td>0.0</td>\n",
       "      <td>0.0</td>\n",
       "      <td>0.0</td>\n",
       "      <td>0.0</td>\n",
       "      <td>0.0</td>\n",
       "      <td>0.0</td>\n",
       "      <td>0.0</td>\n",
       "      <td>0.0</td>\n",
       "      <td>0.0</td>\n",
       "    </tr>\n",
       "    <tr>\n",
       "      <th>...</th>\n",
       "      <td>...</td>\n",
       "      <td>...</td>\n",
       "      <td>...</td>\n",
       "      <td>...</td>\n",
       "      <td>...</td>\n",
       "      <td>...</td>\n",
       "      <td>...</td>\n",
       "      <td>...</td>\n",
       "      <td>...</td>\n",
       "      <td>...</td>\n",
       "      <td>...</td>\n",
       "      <td>...</td>\n",
       "      <td>...</td>\n",
       "      <td>...</td>\n",
       "      <td>...</td>\n",
       "      <td>...</td>\n",
       "      <td>...</td>\n",
       "      <td>...</td>\n",
       "      <td>...</td>\n",
       "      <td>...</td>\n",
       "      <td>...</td>\n",
       "    </tr>\n",
       "    <tr>\n",
       "      <th>2395</th>\n",
       "      <td>0.0</td>\n",
       "      <td>0.0</td>\n",
       "      <td>0.0</td>\n",
       "      <td>0.0</td>\n",
       "      <td>0.0</td>\n",
       "      <td>0.0</td>\n",
       "      <td>0.0</td>\n",
       "      <td>0.0</td>\n",
       "      <td>0.0</td>\n",
       "      <td>0.0</td>\n",
       "      <td>...</td>\n",
       "      <td>0.0</td>\n",
       "      <td>0.0</td>\n",
       "      <td>0.0</td>\n",
       "      <td>0.0</td>\n",
       "      <td>0.0</td>\n",
       "      <td>0.0</td>\n",
       "      <td>0.0</td>\n",
       "      <td>0.0</td>\n",
       "      <td>0.0</td>\n",
       "      <td>0.0</td>\n",
       "    </tr>\n",
       "    <tr>\n",
       "      <th>2396</th>\n",
       "      <td>0.0</td>\n",
       "      <td>0.0</td>\n",
       "      <td>0.0</td>\n",
       "      <td>0.0</td>\n",
       "      <td>0.0</td>\n",
       "      <td>0.0</td>\n",
       "      <td>0.0</td>\n",
       "      <td>0.0</td>\n",
       "      <td>0.0</td>\n",
       "      <td>0.0</td>\n",
       "      <td>...</td>\n",
       "      <td>0.0</td>\n",
       "      <td>0.0</td>\n",
       "      <td>0.0</td>\n",
       "      <td>0.0</td>\n",
       "      <td>0.0</td>\n",
       "      <td>0.0</td>\n",
       "      <td>0.0</td>\n",
       "      <td>0.0</td>\n",
       "      <td>0.0</td>\n",
       "      <td>0.0</td>\n",
       "    </tr>\n",
       "    <tr>\n",
       "      <th>2397</th>\n",
       "      <td>0.0</td>\n",
       "      <td>0.0</td>\n",
       "      <td>0.0</td>\n",
       "      <td>0.0</td>\n",
       "      <td>0.0</td>\n",
       "      <td>0.0</td>\n",
       "      <td>0.0</td>\n",
       "      <td>0.0</td>\n",
       "      <td>0.0</td>\n",
       "      <td>0.0</td>\n",
       "      <td>...</td>\n",
       "      <td>0.0</td>\n",
       "      <td>0.0</td>\n",
       "      <td>0.0</td>\n",
       "      <td>0.0</td>\n",
       "      <td>0.0</td>\n",
       "      <td>0.0</td>\n",
       "      <td>0.0</td>\n",
       "      <td>0.0</td>\n",
       "      <td>0.0</td>\n",
       "      <td>0.0</td>\n",
       "    </tr>\n",
       "    <tr>\n",
       "      <th>2398</th>\n",
       "      <td>0.0</td>\n",
       "      <td>0.0</td>\n",
       "      <td>0.0</td>\n",
       "      <td>0.0</td>\n",
       "      <td>0.0</td>\n",
       "      <td>0.0</td>\n",
       "      <td>0.0</td>\n",
       "      <td>0.0</td>\n",
       "      <td>0.0</td>\n",
       "      <td>0.0</td>\n",
       "      <td>...</td>\n",
       "      <td>0.0</td>\n",
       "      <td>0.0</td>\n",
       "      <td>0.0</td>\n",
       "      <td>0.0</td>\n",
       "      <td>0.0</td>\n",
       "      <td>0.0</td>\n",
       "      <td>0.0</td>\n",
       "      <td>0.0</td>\n",
       "      <td>0.0</td>\n",
       "      <td>0.0</td>\n",
       "    </tr>\n",
       "    <tr>\n",
       "      <th>2399</th>\n",
       "      <td>0.0</td>\n",
       "      <td>0.0</td>\n",
       "      <td>0.0</td>\n",
       "      <td>0.0</td>\n",
       "      <td>0.0</td>\n",
       "      <td>0.0</td>\n",
       "      <td>0.0</td>\n",
       "      <td>0.0</td>\n",
       "      <td>0.0</td>\n",
       "      <td>0.0</td>\n",
       "      <td>...</td>\n",
       "      <td>0.0</td>\n",
       "      <td>0.0</td>\n",
       "      <td>0.0</td>\n",
       "      <td>0.0</td>\n",
       "      <td>0.0</td>\n",
       "      <td>0.0</td>\n",
       "      <td>0.0</td>\n",
       "      <td>0.0</td>\n",
       "      <td>0.0</td>\n",
       "      <td>0.0</td>\n",
       "    </tr>\n",
       "  </tbody>\n",
       "</table>\n",
       "<p>2400 rows × 3733 columns</p>\n",
       "</div>"
      ]
     },
     "metadata": {},
     "execution_count": 82
    }
   ],
   "metadata": {}
  },
  {
   "cell_type": "code",
   "execution_count": 83,
   "source": [
    "all_important_words = []\n",
    "score_list = []\n",
    "for index, item in enumerate(denselist):\n",
    "    scores = {feature: tfidf for feature, tfidf in zip(feature_names, item)}\n",
    "    sorted_words = sorted(scores.items(), key=lambda x: x[1], reverse=True)\n",
    "    for word, score in sorted_words: \n",
    "        if score > 0.3:\n",
    "            all_important_words.append((word, score))\n",
    "\n",
    "# all_important_words"
   ],
   "outputs": [],
   "metadata": {}
  },
  {
   "cell_type": "code",
   "execution_count": 46,
   "source": [
    "import matplotlib.pyplot as plt\n",
    "%matplotlib inline\n",
    "import seaborn as sns\n",
    "\n",
    "sns.histplot(score_list)"
   ],
   "outputs": [
    {
     "output_type": "execute_result",
     "data": {
      "text/plain": [
       "<AxesSubplot:ylabel='Count'>"
      ]
     },
     "metadata": {},
     "execution_count": 46
    },
    {
     "output_type": "display_data",
     "data": {
      "text/plain": [
       "<Figure size 432x288 with 1 Axes>"
      ],
      "image/png": "[encoded data removed]"
     },
     "metadata": {
      "needs_background": "light"
     }
    }
   ],
   "metadata": {}
  },
  {
   "cell_type": "code",
   "execution_count": 84,
   "source": [
    "# len(set(all_important_words))\n",
    "top_words = pd.DataFrame(denselist, columns=feature_names)\n",
    "# top_words[all]\n",
    "important_words = [x for x,_ in all_important_words]\n",
    "trainset = top_words[list(set(important_words))]\n",
    "\n",
    "x_train, x_test, y_train, y_test = train_test_split(trainset, y_train_df['is_positive_sentiment'], test_size=0.33, random_state = 0)"
   ],
   "outputs": [],
   "metadata": {}
  },
  {
   "cell_type": "code",
   "execution_count": 78,
   "source": [
    "trainset"
   ],
   "outputs": [
    {
     "output_type": "execute_result",
     "data": {
      "text/plain": [
       "      exchange  imagination  goat  sensibility   ri  yum  regardless  \\\n",
       "0          0.0          0.0   0.0          0.0  0.0  0.0         0.0   \n",
       "1          0.0          0.0   0.0          0.0  0.0  0.0         0.0   \n",
       "2          0.0          0.0   0.0          0.0  0.0  0.0         0.0   \n",
       "3          0.0          0.0   0.0          0.0  0.0  0.0         0.0   \n",
       "4          0.0          0.0   0.0          0.0  0.0  0.0         0.0   \n",
       "...        ...          ...   ...          ...  ...  ...         ...   \n",
       "2395       0.0          0.0   0.0          0.0  0.0  0.0         0.0   \n",
       "2396       0.0          0.0   0.0          0.0  0.0  0.0         0.0   \n",
       "2397       0.0          0.0   0.0          0.0  0.0  0.0         0.0   \n",
       "2398       0.0          0.0   0.0          0.0  0.0  0.0         0.0   \n",
       "2399       0.0          0.0   0.0          0.0  0.0  0.0         0.0   \n",
       "\n",
       "      recognition       eat  expert  ...  render  yet  unhappy  pneumatic  \\\n",
       "0             0.0  0.000000     0.0  ...     0.0  0.0      0.0        0.0   \n",
       "1             0.0  0.000000     0.0  ...     0.0  0.0      0.0        0.0   \n",
       "2             0.0  0.000000     0.0  ...     0.0  0.0      0.0        0.0   \n",
       "3             0.0  0.000000     0.0  ...     0.0  0.0      0.0        0.0   \n",
       "4             0.0  0.000000     0.0  ...     0.0  0.0      0.0        0.0   \n",
       "...           ...       ...     ...  ...     ...  ...      ...        ...   \n",
       "2395          0.0  0.000000     0.0  ...     0.0  0.0      0.0        0.0   \n",
       "2396          0.0  0.369831     0.0  ...     0.0  0.0      0.0        0.0   \n",
       "2397          0.0  0.000000     0.0  ...     0.0  0.0      0.0        0.0   \n",
       "2398          0.0  0.000000     0.0  ...     0.0  0.0      0.0        0.0   \n",
       "2399          0.0  0.000000     0.0  ...     0.0  0.0      0.0        0.0   \n",
       "\n",
       "      concrete  childhood  san  post  articulate  behind  \n",
       "0          0.0        0.0  0.0   0.0         0.0     0.0  \n",
       "1          0.0        0.0  0.0   0.0         0.0     0.0  \n",
       "2          0.0        0.0  0.0   0.0         0.0     0.0  \n",
       "3          0.0        0.0  0.0   0.0         0.0     0.0  \n",
       "4          0.0        0.0  0.0   0.0         0.0     0.0  \n",
       "...        ...        ...  ...   ...         ...     ...  \n",
       "2395       0.0        0.0  0.0   0.0         0.0     0.0  \n",
       "2396       0.0        0.0  0.0   0.0         0.0     0.0  \n",
       "2397       0.0        0.0  0.0   0.0         0.0     0.0  \n",
       "2398       0.0        0.0  0.0   0.0         0.0     0.0  \n",
       "2399       0.0        0.0  0.0   0.0         0.0     0.0  \n",
       "\n",
       "[2400 rows x 3272 columns]"
      ],
      "text/html": [
       "<div>\n",
       "<style scoped>\n",
       "    .dataframe tbody tr th:only-of-type {\n",
       "        vertical-align: middle;\n",
       "    }\n",
       "\n",
       "    .dataframe tbody tr th {\n",
       "        vertical-align: top;\n",
       "    }\n",
       "\n",
       "    .dataframe thead th {\n",
       "        text-align: right;\n",
       "    }\n",
       "</style>\n",
       "<table border=\"1\" class=\"dataframe\">\n",
       "  <thead>\n",
       "    <tr style=\"text-align: right;\">\n",
       "      <th></th>\n",
       "      <th>exchange</th>\n",
       "      <th>imagination</th>\n",
       "      <th>goat</th>\n",
       "      <th>sensibility</th>\n",
       "      <th>ri</th>\n",
       "      <th>yum</th>\n",
       "      <th>regardless</th>\n",
       "      <th>recognition</th>\n",
       "      <th>eat</th>\n",
       "      <th>expert</th>\n",
       "      <th>...</th>\n",
       "      <th>render</th>\n",
       "      <th>yet</th>\n",
       "      <th>unhappy</th>\n",
       "      <th>pneumatic</th>\n",
       "      <th>concrete</th>\n",
       "      <th>childhood</th>\n",
       "      <th>san</th>\n",
       "      <th>post</th>\n",
       "      <th>articulate</th>\n",
       "      <th>behind</th>\n",
       "    </tr>\n",
       "  </thead>\n",
       "  <tbody>\n",
       "    <tr>\n",
       "      <th>0</th>\n",
       "      <td>0.0</td>\n",
       "      <td>0.0</td>\n",
       "      <td>0.0</td>\n",
       "      <td>0.0</td>\n",
       "      <td>0.0</td>\n",
       "      <td>0.0</td>\n",
       "      <td>0.0</td>\n",
       "      <td>0.0</td>\n",
       "      <td>0.000000</td>\n",
       "      <td>0.0</td>\n",
       "      <td>...</td>\n",
       "      <td>0.0</td>\n",
       "      <td>0.0</td>\n",
       "      <td>0.0</td>\n",
       "      <td>0.0</td>\n",
       "      <td>0.0</td>\n",
       "      <td>0.0</td>\n",
       "      <td>0.0</td>\n",
       "      <td>0.0</td>\n",
       "      <td>0.0</td>\n",
       "      <td>0.0</td>\n",
       "    </tr>\n",
       "    <tr>\n",
       "      <th>1</th>\n",
       "      <td>0.0</td>\n",
       "      <td>0.0</td>\n",
       "      <td>0.0</td>\n",
       "      <td>0.0</td>\n",
       "      <td>0.0</td>\n",
       "      <td>0.0</td>\n",
       "      <td>0.0</td>\n",
       "      <td>0.0</td>\n",
       "      <td>0.000000</td>\n",
       "      <td>0.0</td>\n",
       "      <td>...</td>\n",
       "      <td>0.0</td>\n",
       "      <td>0.0</td>\n",
       "      <td>0.0</td>\n",
       "      <td>0.0</td>\n",
       "      <td>0.0</td>\n",
       "      <td>0.0</td>\n",
       "      <td>0.0</td>\n",
       "      <td>0.0</td>\n",
       "      <td>0.0</td>\n",
       "      <td>0.0</td>\n",
       "    </tr>\n",
       "    <tr>\n",
       "      <th>2</th>\n",
       "      <td>0.0</td>\n",
       "      <td>0.0</td>\n",
       "      <td>0.0</td>\n",
       "      <td>0.0</td>\n",
       "      <td>0.0</td>\n",
       "      <td>0.0</td>\n",
       "      <td>0.0</td>\n",
       "      <td>0.0</td>\n",
       "      <td>0.000000</td>\n",
       "      <td>0.0</td>\n",
       "      <td>...</td>\n",
       "      <td>0.0</td>\n",
       "      <td>0.0</td>\n",
       "      <td>0.0</td>\n",
       "      <td>0.0</td>\n",
       "      <td>0.0</td>\n",
       "      <td>0.0</td>\n",
       "      <td>0.0</td>\n",
       "      <td>0.0</td>\n",
       "      <td>0.0</td>\n",
       "      <td>0.0</td>\n",
       "    </tr>\n",
       "    <tr>\n",
       "      <th>3</th>\n",
       "      <td>0.0</td>\n",
       "      <td>0.0</td>\n",
       "      <td>0.0</td>\n",
       "      <td>0.0</td>\n",
       "      <td>0.0</td>\n",
       "      <td>0.0</td>\n",
       "      <td>0.0</td>\n",
       "      <td>0.0</td>\n",
       "      <td>0.000000</td>\n",
       "      <td>0.0</td>\n",
       "      <td>...</td>\n",
       "      <td>0.0</td>\n",
       "      <td>0.0</td>\n",
       "      <td>0.0</td>\n",
       "      <td>0.0</td>\n",
       "      <td>0.0</td>\n",
       "      <td>0.0</td>\n",
       "      <td>0.0</td>\n",
       "      <td>0.0</td>\n",
       "      <td>0.0</td>\n",
       "      <td>0.0</td>\n",
       "    </tr>\n",
       "    <tr>\n",
       "      <th>4</th>\n",
       "      <td>0.0</td>\n",
       "      <td>0.0</td>\n",
       "      <td>0.0</td>\n",
       "      <td>0.0</td>\n",
       "      <td>0.0</td>\n",
       "      <td>0.0</td>\n",
       "      <td>0.0</td>\n",
       "      <td>0.0</td>\n",
       "      <td>0.000000</td>\n",
       "      <td>0.0</td>\n",
       "      <td>...</td>\n",
       "      <td>0.0</td>\n",
       "      <td>0.0</td>\n",
       "      <td>0.0</td>\n",
       "      <td>0.0</td>\n",
       "      <td>0.0</td>\n",
       "      <td>0.0</td>\n",
       "      <td>0.0</td>\n",
       "      <td>0.0</td>\n",
       "      <td>0.0</td>\n",
       "      <td>0.0</td>\n",
       "    </tr>\n",
       "    <tr>\n",
       "      <th>...</th>\n",
       "      <td>...</td>\n",
       "      <td>...</td>\n",
       "      <td>...</td>\n",
       "      <td>...</td>\n",
       "      <td>...</td>\n",
       "      <td>...</td>\n",
       "      <td>...</td>\n",
       "      <td>...</td>\n",
       "      <td>...</td>\n",
       "      <td>...</td>\n",
       "      <td>...</td>\n",
       "      <td>...</td>\n",
       "      <td>...</td>\n",
       "      <td>...</td>\n",
       "      <td>...</td>\n",
       "      <td>...</td>\n",
       "      <td>...</td>\n",
       "      <td>...</td>\n",
       "      <td>...</td>\n",
       "      <td>...</td>\n",
       "      <td>...</td>\n",
       "    </tr>\n",
       "    <tr>\n",
       "      <th>2395</th>\n",
       "      <td>0.0</td>\n",
       "      <td>0.0</td>\n",
       "      <td>0.0</td>\n",
       "      <td>0.0</td>\n",
       "      <td>0.0</td>\n",
       "      <td>0.0</td>\n",
       "      <td>0.0</td>\n",
       "      <td>0.0</td>\n",
       "      <td>0.000000</td>\n",
       "      <td>0.0</td>\n",
       "      <td>...</td>\n",
       "      <td>0.0</td>\n",
       "      <td>0.0</td>\n",
       "      <td>0.0</td>\n",
       "      <td>0.0</td>\n",
       "      <td>0.0</td>\n",
       "      <td>0.0</td>\n",
       "      <td>0.0</td>\n",
       "      <td>0.0</td>\n",
       "      <td>0.0</td>\n",
       "      <td>0.0</td>\n",
       "    </tr>\n",
       "    <tr>\n",
       "      <th>2396</th>\n",
       "      <td>0.0</td>\n",
       "      <td>0.0</td>\n",
       "      <td>0.0</td>\n",
       "      <td>0.0</td>\n",
       "      <td>0.0</td>\n",
       "      <td>0.0</td>\n",
       "      <td>0.0</td>\n",
       "      <td>0.0</td>\n",
       "      <td>0.369831</td>\n",
       "      <td>0.0</td>\n",
       "      <td>...</td>\n",
       "      <td>0.0</td>\n",
       "      <td>0.0</td>\n",
       "      <td>0.0</td>\n",
       "      <td>0.0</td>\n",
       "      <td>0.0</td>\n",
       "      <td>0.0</td>\n",
       "      <td>0.0</td>\n",
       "      <td>0.0</td>\n",
       "      <td>0.0</td>\n",
       "      <td>0.0</td>\n",
       "    </tr>\n",
       "    <tr>\n",
       "      <th>2397</th>\n",
       "      <td>0.0</td>\n",
       "      <td>0.0</td>\n",
       "      <td>0.0</td>\n",
       "      <td>0.0</td>\n",
       "      <td>0.0</td>\n",
       "      <td>0.0</td>\n",
       "      <td>0.0</td>\n",
       "      <td>0.0</td>\n",
       "      <td>0.000000</td>\n",
       "      <td>0.0</td>\n",
       "      <td>...</td>\n",
       "      <td>0.0</td>\n",
       "      <td>0.0</td>\n",
       "      <td>0.0</td>\n",
       "      <td>0.0</td>\n",
       "      <td>0.0</td>\n",
       "      <td>0.0</td>\n",
       "      <td>0.0</td>\n",
       "      <td>0.0</td>\n",
       "      <td>0.0</td>\n",
       "      <td>0.0</td>\n",
       "    </tr>\n",
       "    <tr>\n",
       "      <th>2398</th>\n",
       "      <td>0.0</td>\n",
       "      <td>0.0</td>\n",
       "      <td>0.0</td>\n",
       "      <td>0.0</td>\n",
       "      <td>0.0</td>\n",
       "      <td>0.0</td>\n",
       "      <td>0.0</td>\n",
       "      <td>0.0</td>\n",
       "      <td>0.000000</td>\n",
       "      <td>0.0</td>\n",
       "      <td>...</td>\n",
       "      <td>0.0</td>\n",
       "      <td>0.0</td>\n",
       "      <td>0.0</td>\n",
       "      <td>0.0</td>\n",
       "      <td>0.0</td>\n",
       "      <td>0.0</td>\n",
       "      <td>0.0</td>\n",
       "      <td>0.0</td>\n",
       "      <td>0.0</td>\n",
       "      <td>0.0</td>\n",
       "    </tr>\n",
       "    <tr>\n",
       "      <th>2399</th>\n",
       "      <td>0.0</td>\n",
       "      <td>0.0</td>\n",
       "      <td>0.0</td>\n",
       "      <td>0.0</td>\n",
       "      <td>0.0</td>\n",
       "      <td>0.0</td>\n",
       "      <td>0.0</td>\n",
       "      <td>0.0</td>\n",
       "      <td>0.000000</td>\n",
       "      <td>0.0</td>\n",
       "      <td>...</td>\n",
       "      <td>0.0</td>\n",
       "      <td>0.0</td>\n",
       "      <td>0.0</td>\n",
       "      <td>0.0</td>\n",
       "      <td>0.0</td>\n",
       "      <td>0.0</td>\n",
       "      <td>0.0</td>\n",
       "      <td>0.0</td>\n",
       "      <td>0.0</td>\n",
       "      <td>0.0</td>\n",
       "    </tr>\n",
       "  </tbody>\n",
       "</table>\n",
       "<p>2400 rows × 3272 columns</p>\n",
       "</div>"
      ]
     },
     "metadata": {},
     "execution_count": 78
    }
   ],
   "metadata": {}
  },
  {
   "cell_type": "code",
   "execution_count": 76,
   "source": [
    "trainset.to_csv('important_words.csv', index=False)"
   ],
   "outputs": [],
   "metadata": {}
  },
  {
   "cell_type": "markdown",
   "source": [
    "## LR - TDIDF Unigrams (Win)"
   ],
   "metadata": {}
  },
  {
   "cell_type": "code",
   "execution_count": 85,
   "source": [
    "from sklearn.linear_model import LogisticRegression\n",
    "from sklearn.model_selection import train_test_split\n",
    "\n",
    "base_lr = LogisticRegression()\n",
    "base_lr.fit(x_train, y_train)\n",
    "print(base_lr.score(x_train, y_train))\n",
    "print(base_lr.score(x_test, y_test))"
   ],
   "outputs": [
    {
     "output_type": "stream",
     "name": "stdout",
     "text": [
      "0.9440298507462687\n",
      "0.773989898989899\n"
     ]
    }
   ],
   "metadata": {}
  },
  {
   "cell_type": "code",
   "execution_count": 394,
   "source": [
    "from sklearn.linear_model import LogisticRegressionCV\n",
    "import warnings\n",
    "warnings.filterwarnings(\"ignore\")\n",
    "base_lrcv = LogisticRegressionCV(cv=4)\n",
    "base_lrcv.fit(x_train, y_train)\n",
    "print(base_lrcv.score(x_train, y_train))\n",
    "print(base_lrcv.score(x_test, y_test))"
   ],
   "outputs": [
    {
     "output_type": "stream",
     "name": "stdout",
     "text": [
      "0.9676616915422885\n",
      "0.7878787878787878\n"
     ]
    }
   ],
   "metadata": {}
  },
  {
   "cell_type": "code",
   "execution_count": 62,
   "source": [
    "from sklearn.linear_model import LogisticRegressionCV\n",
    "import warnings\n",
    "warnings.filterwarnings(\"ignore\")\n",
    "base_lrcv = LogisticRegressionCV(cv=4)\n",
    "base_lrcv.fit(x_train, y_train)\n",
    "print(base_lrcv.score(x_train, y_train))\n",
    "print(base_lrcv.score(x_test, y_test))"
   ],
   "outputs": [
    {
     "output_type": "stream",
     "name": "stdout",
     "text": [
      "0.9670398009950248\n",
      "0.7828282828282829\n"
     ]
    }
   ],
   "metadata": {}
  },
  {
   "cell_type": "code",
   "execution_count": 60,
   "source": [
    "from sklearn.model_selection import GridSearchCV\n",
    "import numpy as np\n",
    "param_grid = {\"C\":np.logspace(-3,3,10), \"max_iter\":[50, 150, 250, 350, 450, 500]}\n",
    "tune_lr = LogisticRegression()\n",
    "grid_search = GridSearchCV(tune_lr, param_grid = param_grid, scoring='accuracy',cv=3,verbose=1, n_jobs=-1)\n",
    "grid_search.fit(x_train, y_train)"
   ],
   "outputs": [
    {
     "output_type": "stream",
     "name": "stdout",
     "text": [
      "Fitting 3 folds for each of 60 candidates, totalling 180 fits\n"
     ]
    },
    {
     "output_type": "execute_result",
     "data": {
      "text/plain": [
       "GridSearchCV(cv=3, estimator=LogisticRegression(), n_jobs=-1,\n",
       "             param_grid={'C': array([1.00000000e-03, 4.64158883e-03, 2.15443469e-02, 1.00000000e-01,\n",
       "       4.64158883e-01, 2.15443469e+00, 1.00000000e+01, 4.64158883e+01,\n",
       "       2.15443469e+02, 1.00000000e+03]),\n",
       "                         'max_iter': [50, 150, 250, 350, 450, 500]},\n",
       "             scoring='accuracy', verbose=1)"
      ]
     },
     "metadata": {},
     "execution_count": 60
    }
   ],
   "metadata": {}
  },
  {
   "cell_type": "code",
   "execution_count": 61,
   "source": [
    "# print(\"Best parameter (CV score=%0.3f):\" % grid_search.best_score_)\n",
    "# print(grid_search.best_params_)"
   ],
   "outputs": [
    {
     "output_type": "stream",
     "name": "stdout",
     "text": [
      "Best parameter (CV score=0.785):\n",
      "{'C': 2.154434690031882, 'max_iter': 50}\n"
     ]
    }
   ],
   "metadata": {}
  },
  {
   "cell_type": "code",
   "execution_count": 29,
   "source": [
    "print(\"Best parameter (CV score=%0.3f):\" % grid_search.best_score_)\n",
    "print(grid_search.best_params_)"
   ],
   "outputs": [
    {
     "output_type": "stream",
     "name": "stdout",
     "text": [
      "Best parameter (CV score=0.799):\n",
      "{'C': 2.154434690031882, 'max_iter': 50}\n"
     ]
    }
   ],
   "metadata": {}
  },
  {
   "cell_type": "code",
   "execution_count": 74,
   "source": [
    "test_set = pd.read_csv('test_data.csv')"
   ],
   "outputs": [],
   "metadata": {}
  },
  {
   "cell_type": "code",
   "execution_count": 30,
   "source": [
    "prediction = grid_search.predict_proba(test_set)[:,1]\n",
    "np.savetxt('yproba1_test.txt', prediction)"
   ],
   "outputs": [],
   "metadata": {}
  },
  {
   "cell_type": "code",
   "execution_count": 63,
   "source": [
    "from sklearn.metrics import log_loss\n",
    "import matplotlib.pyplot as plt\n",
    "%matplotlib inline\n",
    "def plot_accuracy_and_logLoss(range, train_acc, test_acc, train_logLoss, test_logLoss):\n",
    "    fig, ax = plt.subplots(1, 2, figsize=(8, 6))\n",
    "    ax[0].plot(range, train_acc, color=\"red\", label=\"train\")\n",
    "    ax[0].plot(range, test_acc, color=\"blue\", label=\"test\")\n",
    "    ax[1].plot(range, train_logLoss, color=\"red\", label=\"train\")\n",
    "    ax[1].plot(range, test_logLoss, color=\"blue\", label=\"test\")\n",
    "    plt.legend()\n",
    "    plt.show()\n",
    "\n",
    "def examine_Cs(data_train, label_train, data_test, label_test):\n",
    "    train_acc = []\n",
    "    test_acc = []\n",
    "    train_logLoss = []\n",
    "    test_logLoss = []\n",
    "    for c in np.logspace(-3,3,10):\n",
    "        lr = LogisticRegressionCV(Cs = [c for i in range(4)], cv=4)\n",
    "        lr.fit(data_train, label_train)\n",
    "        train_acc.append(lr.score(data_train, label_train))\n",
    "        test_acc.append(lr.score(data_test, label_test))\n",
    "        train_logLoss.append(log_loss(label_train, lr.predict(data_train)))\n",
    "        test_logLoss.append(log_loss(label_test, lr.predict(data_test)))\n",
    "    plot_accuracy_and_logLoss(np.logspace(-3,3,10), train_acc, test_acc, train_logLoss, test_logLoss)\n"
   ],
   "outputs": [],
   "metadata": {}
  },
  {
   "cell_type": "code",
   "execution_count": 167,
   "source": [
    "examine_Cs(x_train, y_train, x_test, y_test)"
   ],
   "outputs": [
    {
     "output_type": "display_data",
     "data": {
      "text/plain": [
       "<Figure size 576x432 with 2 Axes>"
      ],
      "image/png": "[encoded data removed]"
     },
     "metadata": {
      "needs_background": "light"
     }
    }
   ],
   "metadata": {}
  },
  {
   "cell_type": "markdown",
   "source": [
    "## SVM - TFIDF Unigrams"
   ],
   "metadata": {}
  },
  {
   "cell_type": "code",
   "execution_count": 109,
   "source": [
    "from sklearn.svm import SVC\n",
    "\n",
    "base_svm = SVC()\n",
    "base_svm.fit(x_train, y_train)\n",
    "print(base_svm.score(x_train, y_train))\n",
    "print(base_svm.score(x_test, y_test))"
   ],
   "outputs": [
    {
     "output_type": "stream",
     "name": "stdout",
     "text": [
      "0.9906716417910447\n",
      "0.7815656565656566\n"
     ]
    }
   ],
   "metadata": {}
  },
  {
   "cell_type": "code",
   "execution_count": 65,
   "source": [
    "from sklearn.svm import SVC\n",
    "\n",
    "base_svm = SVC()\n",
    "base_svm.fit(x_train, y_train)\n",
    "print(base_svm.score(x_train, y_train))\n",
    "print(base_svm.score(x_test, y_test))"
   ],
   "outputs": [
    {
     "output_type": "stream",
     "name": "stdout",
     "text": [
      "0.9900497512437811\n",
      "0.7828282828282829\n"
     ]
    }
   ],
   "metadata": {}
  },
  {
   "cell_type": "code",
   "execution_count": 71,
   "source": [
    "from sklearn.model_selection import RandomizedSearchCV\n",
    "gamma = [.001, .01, .1, 1, 10, 100]\n",
    "degree = [1, 2, 3, 4]\n",
    "kernel = ['linear', 'rbf', 'poly']\n",
    "\n",
    "svc_grid = {'kernel': kernel,\n",
    "              'gamma': gamma,\n",
    "              'degree': degree\n",
    "             }\n",
    "\n",
    "tune_svc = SVC(random_state = 0, probability=True)\n",
    "svc_search = RandomizedSearchCV(tune_svc, param_distributions = svc_grid, scoring='accuracy',cv=3,verbose=1, n_jobs=-1, n_iter=50)\n",
    "svc_search.fit(x_train, y_train)"
   ],
   "outputs": [
    {
     "output_type": "stream",
     "name": "stdout",
     "text": [
      "Fitting 3 folds for each of 50 candidates, totalling 150 fits\n"
     ]
    },
    {
     "output_type": "execute_result",
     "data": {
      "text/plain": [
       "RandomizedSearchCV(cv=3, estimator=SVC(probability=True, random_state=0),\n",
       "                   n_iter=50, n_jobs=-1,\n",
       "                   param_distributions={'degree': [1, 2, 3, 4],\n",
       "                                        'gamma': [0.001, 0.01, 0.1, 1, 10, 100],\n",
       "                                        'kernel': ['linear', 'rbf', 'poly']},\n",
       "                   scoring='accuracy', verbose=1)"
      ]
     },
     "metadata": {},
     "execution_count": 71
    }
   ],
   "metadata": {}
  },
  {
   "cell_type": "code",
   "execution_count": 72,
   "source": [
    "print('Best parameters found:\\n', svc_search.best_params_)\n",
    "print(\"Train accuracy: %.4f\" % svc_search.score(x_train, y_train))\n",
    "print(\" Test accuracy: %.4f\" % svc_search.score(x_test, y_test))"
   ],
   "outputs": [
    {
     "output_type": "stream",
     "name": "stdout",
     "text": [
      "Best parameters found:\n",
      " {'kernel': 'rbf', 'gamma': 1, 'degree': 3}\n",
      "Train accuracy: 0.9900\n",
      " Test accuracy: 0.7828\n"
     ]
    }
   ],
   "metadata": {}
  },
  {
   "cell_type": "code",
   "execution_count": 75,
   "source": [
    "prediction = svc_search.predict_proba(test_set)[:,1]\n",
    "np.savetxt('yproba1_test.txt', prediction)"
   ],
   "outputs": [
    {
     "output_type": "error",
     "ename": "ValueError",
     "evalue": "X.shape[1] = 3517 should be equal to 3272, the number of features at training time",
     "traceback": [
      "\u001b[0;31m---------------------------------------------------------------------------\u001b[0m",
      "\u001b[0;31mValueError\u001b[0m                                Traceback (most recent call last)",
      "\u001b[0;32m<ipython-input-75-6b19f32c199d>\u001b[0m in \u001b[0;36m<module>\u001b[0;34m\u001b[0m\n\u001b[0;32m----> 1\u001b[0;31m \u001b[0mprediction\u001b[0m \u001b[0;34m=\u001b[0m \u001b[0msvc_search\u001b[0m\u001b[0;34m.\u001b[0m\u001b[0mpredict_proba\u001b[0m\u001b[0;34m(\u001b[0m\u001b[0mtest_set\u001b[0m\u001b[0;34m)\u001b[0m\u001b[0;34m[\u001b[0m\u001b[0;34m:\u001b[0m\u001b[0;34m,\u001b[0m\u001b[0;36m1\u001b[0m\u001b[0;34m]\u001b[0m\u001b[0;34m\u001b[0m\u001b[0;34m\u001b[0m\u001b[0m\n\u001b[0m\u001b[1;32m      2\u001b[0m \u001b[0mnp\u001b[0m\u001b[0;34m.\u001b[0m\u001b[0msavetxt\u001b[0m\u001b[0;34m(\u001b[0m\u001b[0;34m'yproba1_test.txt'\u001b[0m\u001b[0;34m,\u001b[0m \u001b[0mprediction\u001b[0m\u001b[0;34m)\u001b[0m\u001b[0;34m\u001b[0m\u001b[0;34m\u001b[0m\u001b[0m\n",
      "\u001b[0;32m/opt/anaconda3/envs/ml135_env_sp21/lib/python3.9/site-packages/sklearn/utils/metaestimators.py\u001b[0m in \u001b[0;36m<lambda>\u001b[0;34m(*args, **kwargs)\u001b[0m\n\u001b[1;32m    118\u001b[0m \u001b[0;34m\u001b[0m\u001b[0m\n\u001b[1;32m    119\u001b[0m         \u001b[0;31m# lambda, but not partial, allows help() to work with update_wrapper\u001b[0m\u001b[0;34m\u001b[0m\u001b[0;34m\u001b[0m\u001b[0;34m\u001b[0m\u001b[0m\n\u001b[0;32m--> 120\u001b[0;31m         \u001b[0mout\u001b[0m \u001b[0;34m=\u001b[0m \u001b[0;32mlambda\u001b[0m \u001b[0;34m*\u001b[0m\u001b[0margs\u001b[0m\u001b[0;34m,\u001b[0m \u001b[0;34m**\u001b[0m\u001b[0mkwargs\u001b[0m\u001b[0;34m:\u001b[0m \u001b[0mself\u001b[0m\u001b[0;34m.\u001b[0m\u001b[0mfn\u001b[0m\u001b[0;34m(\u001b[0m\u001b[0mobj\u001b[0m\u001b[0;34m,\u001b[0m \u001b[0;34m*\u001b[0m\u001b[0margs\u001b[0m\u001b[0;34m,\u001b[0m \u001b[0;34m**\u001b[0m\u001b[0mkwargs\u001b[0m\u001b[0;34m)\u001b[0m\u001b[0;34m\u001b[0m\u001b[0;34m\u001b[0m\u001b[0m\n\u001b[0m\u001b[1;32m    121\u001b[0m         \u001b[0;31m# update the docstring of the returned function\u001b[0m\u001b[0;34m\u001b[0m\u001b[0;34m\u001b[0m\u001b[0;34m\u001b[0m\u001b[0m\n\u001b[1;32m    122\u001b[0m         \u001b[0mupdate_wrapper\u001b[0m\u001b[0;34m(\u001b[0m\u001b[0mout\u001b[0m\u001b[0;34m,\u001b[0m \u001b[0mself\u001b[0m\u001b[0;34m.\u001b[0m\u001b[0mfn\u001b[0m\u001b[0;34m)\u001b[0m\u001b[0;34m\u001b[0m\u001b[0;34m\u001b[0m\u001b[0m\n",
      "\u001b[0;32m/opt/anaconda3/envs/ml135_env_sp21/lib/python3.9/site-packages/sklearn/model_selection/_search.py\u001b[0m in \u001b[0;36mpredict_proba\u001b[0;34m(self, X)\u001b[0m\n\u001b[1;32m    555\u001b[0m         \"\"\"\n\u001b[1;32m    556\u001b[0m         \u001b[0mself\u001b[0m\u001b[0;34m.\u001b[0m\u001b[0m_check_is_fitted\u001b[0m\u001b[0;34m(\u001b[0m\u001b[0;34m'predict_proba'\u001b[0m\u001b[0;34m)\u001b[0m\u001b[0;34m\u001b[0m\u001b[0;34m\u001b[0m\u001b[0m\n\u001b[0;32m--> 557\u001b[0;31m         \u001b[0;32mreturn\u001b[0m \u001b[0mself\u001b[0m\u001b[0;34m.\u001b[0m\u001b[0mbest_estimator_\u001b[0m\u001b[0;34m.\u001b[0m\u001b[0mpredict_proba\u001b[0m\u001b[0;34m(\u001b[0m\u001b[0mX\u001b[0m\u001b[0;34m)\u001b[0m\u001b[0;34m\u001b[0m\u001b[0;34m\u001b[0m\u001b[0m\n\u001b[0m\u001b[1;32m    558\u001b[0m \u001b[0;34m\u001b[0m\u001b[0m\n\u001b[1;32m    559\u001b[0m     \u001b[0;34m@\u001b[0m\u001b[0mif_delegate_has_method\u001b[0m\u001b[0;34m(\u001b[0m\u001b[0mdelegate\u001b[0m\u001b[0;34m=\u001b[0m\u001b[0;34m(\u001b[0m\u001b[0;34m'best_estimator_'\u001b[0m\u001b[0;34m,\u001b[0m \u001b[0;34m'estimator'\u001b[0m\u001b[0;34m)\u001b[0m\u001b[0;34m)\u001b[0m\u001b[0;34m\u001b[0m\u001b[0;34m\u001b[0m\u001b[0m\n",
      "\u001b[0;32m/opt/anaconda3/envs/ml135_env_sp21/lib/python3.9/site-packages/sklearn/svm/_base.py\u001b[0m in \u001b[0;36m_predict_proba\u001b[0;34m(self, X)\u001b[0m\n\u001b[1;32m    668\u001b[0m \u001b[0;34m\u001b[0m\u001b[0m\n\u001b[1;32m    669\u001b[0m     \u001b[0;32mdef\u001b[0m \u001b[0m_predict_proba\u001b[0m\u001b[0;34m(\u001b[0m\u001b[0mself\u001b[0m\u001b[0;34m,\u001b[0m \u001b[0mX\u001b[0m\u001b[0;34m)\u001b[0m\u001b[0;34m:\u001b[0m\u001b[0;34m\u001b[0m\u001b[0;34m\u001b[0m\u001b[0m\n\u001b[0;32m--> 670\u001b[0;31m         \u001b[0mX\u001b[0m \u001b[0;34m=\u001b[0m \u001b[0mself\u001b[0m\u001b[0;34m.\u001b[0m\u001b[0m_validate_for_predict\u001b[0m\u001b[0;34m(\u001b[0m\u001b[0mX\u001b[0m\u001b[0;34m)\u001b[0m\u001b[0;34m\u001b[0m\u001b[0;34m\u001b[0m\u001b[0m\n\u001b[0m\u001b[1;32m    671\u001b[0m         \u001b[0;32mif\u001b[0m \u001b[0mself\u001b[0m\u001b[0;34m.\u001b[0m\u001b[0mprobA_\u001b[0m\u001b[0;34m.\u001b[0m\u001b[0msize\u001b[0m \u001b[0;34m==\u001b[0m \u001b[0;36m0\u001b[0m \u001b[0;32mor\u001b[0m \u001b[0mself\u001b[0m\u001b[0;34m.\u001b[0m\u001b[0mprobB_\u001b[0m\u001b[0;34m.\u001b[0m\u001b[0msize\u001b[0m \u001b[0;34m==\u001b[0m \u001b[0;36m0\u001b[0m\u001b[0;34m:\u001b[0m\u001b[0;34m\u001b[0m\u001b[0;34m\u001b[0m\u001b[0m\n\u001b[1;32m    672\u001b[0m             raise NotFittedError(\"predict_proba is not available when fitted \"\n",
      "\u001b[0;32m/opt/anaconda3/envs/ml135_env_sp21/lib/python3.9/site-packages/sklearn/svm/_base.py\u001b[0m in \u001b[0;36m_validate_for_predict\u001b[0;34m(self, X)\u001b[0m\n\u001b[1;32m    491\u001b[0m                                  (X.shape[1], self.shape_fit_[0]))\n\u001b[1;32m    492\u001b[0m         \u001b[0;32melif\u001b[0m \u001b[0;32mnot\u001b[0m \u001b[0mcallable\u001b[0m\u001b[0;34m(\u001b[0m\u001b[0mself\u001b[0m\u001b[0;34m.\u001b[0m\u001b[0mkernel\u001b[0m\u001b[0;34m)\u001b[0m \u001b[0;32mand\u001b[0m \u001b[0mX\u001b[0m\u001b[0;34m.\u001b[0m\u001b[0mshape\u001b[0m\u001b[0;34m[\u001b[0m\u001b[0;36m1\u001b[0m\u001b[0;34m]\u001b[0m \u001b[0;34m!=\u001b[0m \u001b[0mself\u001b[0m\u001b[0;34m.\u001b[0m\u001b[0mshape_fit_\u001b[0m\u001b[0;34m[\u001b[0m\u001b[0;36m1\u001b[0m\u001b[0;34m]\u001b[0m\u001b[0;34m:\u001b[0m\u001b[0;34m\u001b[0m\u001b[0;34m\u001b[0m\u001b[0m\n\u001b[0;32m--> 493\u001b[0;31m             raise ValueError(\"X.shape[1] = %d should be equal to %d, \"\n\u001b[0m\u001b[1;32m    494\u001b[0m                              \u001b[0;34m\"the number of features at training time\"\u001b[0m \u001b[0;34m%\u001b[0m\u001b[0;34m\u001b[0m\u001b[0;34m\u001b[0m\u001b[0m\n\u001b[1;32m    495\u001b[0m                              (X.shape[1], self.shape_fit_[1]))\n",
      "\u001b[0;31mValueError\u001b[0m: X.shape[1] = 3517 should be equal to 3272, the number of features at training time"
     ]
    }
   ],
   "metadata": {}
  },
  {
   "cell_type": "code",
   "execution_count": 193,
   "source": [
    "# print('Best parameters found:\\n', svc_search.best_params_)\n",
    "# print(\"Train accuracy: %.4f\" % svc_search.score(x_train, y_train))\n",
    "# print(\" Test accuracy: %.4f\" % svc_search.score(x_test, y_test))"
   ],
   "outputs": [
    {
     "output_type": "stream",
     "name": "stdout",
     "text": [
      "Best parameters found:\n",
      " {'degree': 1, 'gamma': 1, 'kernel': 'rbf'}\n",
      "Train accuracy: 0.9907\n",
      " Test accuracy: 0.7828\n"
     ]
    }
   ],
   "metadata": {}
  },
  {
   "cell_type": "markdown",
   "source": [
    "## DecisionTree - TDIDF Unigrams"
   ],
   "metadata": {}
  },
  {
   "cell_type": "code",
   "execution_count": 146,
   "source": [
    "from sklearn.tree import DecisionTreeClassifier\n",
    "\n",
    "base_dt = DecisionTreeClassifier(random_state = 0)\n",
    "base_dt.fit(x_train, y_train)\n",
    "print(base_dt.score(x_train, y_train))\n",
    "print(base_dt.score(x_test, y_test))"
   ],
   "outputs": [
    {
     "output_type": "stream",
     "name": "stdout",
     "text": [
      "0.9987562189054726\n",
      "0.7297979797979798\n"
     ]
    }
   ],
   "metadata": {}
  },
  {
   "cell_type": "markdown",
   "source": [
    "## Random Forest - TDIDF Unigrams"
   ],
   "metadata": {}
  },
  {
   "cell_type": "code",
   "execution_count": 145,
   "source": [
    "from sklearn.ensemble import RandomForestClassifier\n",
    "base_rfc = RandomForestClassifier(random_state = 0)\n",
    "base_rfc.fit(x_train, y_train)\n",
    "print(base_rfc.score(x_train, y_train))\n",
    "print(base_rfc.score(x_test, y_test))"
   ],
   "outputs": [
    {
     "output_type": "stream",
     "name": "stdout",
     "text": [
      "0.9987562189054726\n",
      "0.7777777777777778\n"
     ]
    }
   ],
   "metadata": {}
  },
  {
   "cell_type": "code",
   "execution_count": 87,
   "source": [
    "n_estimators = [int(x) for x in np.linspace(start = 200, stop = 1000, num = 5)]\n",
    "max_features = ['auto', 'sqrt']\n",
    "min_samples_split = [2, 5, 10]\n",
    "max_depth = [int(x) for x in np.linspace(20, 100, num = 5)]\n",
    "max_depth.append(None)\n",
    "min_samples_leaf = [1, 2, 4]\n",
    "bootstrap = [True, False]\n",
    "\n",
    "rfc_grid = {'n_estimators': n_estimators,\n",
    "               'max_features': max_features,\n",
    "               'max_depth': max_depth,\n",
    "               'min_samples_split': min_samples_split,\n",
    "               'min_samples_leaf': min_samples_leaf,\n",
    "               'bootstrap': bootstrap}\n",
    "\n",
    "tune_rfc = RandomForestClassifier(random_state = 0)\n",
    "rfc_search = RandomizedSearchCV(tune_rfc, param_distribution = rfc_grid, scoring='accuracy',cv=3,verbose=1, n_jobs=-1)\n",
    "rfc_search.fit(x_train, y_train)"
   ],
   "outputs": [
    {
     "output_type": "error",
     "ename": "NameError",
     "evalue": "name 'RandomForestClassifier' is not defined",
     "traceback": [
      "\u001b[0;31m---------------------------------------------------------------------------\u001b[0m",
      "\u001b[0;31mNameError\u001b[0m                                 Traceback (most recent call last)",
      "\u001b[0;32m<ipython-input-87-5c226b286ede>\u001b[0m in \u001b[0;36m<module>\u001b[0;34m\u001b[0m\n\u001b[1;32m     14\u001b[0m                'bootstrap': bootstrap}\n\u001b[1;32m     15\u001b[0m \u001b[0;34m\u001b[0m\u001b[0m\n\u001b[0;32m---> 16\u001b[0;31m \u001b[0mtune_rfc\u001b[0m \u001b[0;34m=\u001b[0m \u001b[0mRandomForestClassifier\u001b[0m\u001b[0;34m(\u001b[0m\u001b[0mrandom_state\u001b[0m \u001b[0;34m=\u001b[0m \u001b[0;36m0\u001b[0m\u001b[0;34m)\u001b[0m\u001b[0;34m\u001b[0m\u001b[0;34m\u001b[0m\u001b[0m\n\u001b[0m\u001b[1;32m     17\u001b[0m \u001b[0mrfc_search\u001b[0m \u001b[0;34m=\u001b[0m \u001b[0mRandomizedSearchCV\u001b[0m\u001b[0;34m(\u001b[0m\u001b[0mtune_rfc\u001b[0m\u001b[0;34m,\u001b[0m \u001b[0mparam_distribution\u001b[0m \u001b[0;34m=\u001b[0m \u001b[0mrfc_grid\u001b[0m\u001b[0;34m,\u001b[0m \u001b[0mscoring\u001b[0m\u001b[0;34m=\u001b[0m\u001b[0;34m'accuracy'\u001b[0m\u001b[0;34m,\u001b[0m\u001b[0mcv\u001b[0m\u001b[0;34m=\u001b[0m\u001b[0;36m3\u001b[0m\u001b[0;34m,\u001b[0m\u001b[0mverbose\u001b[0m\u001b[0;34m=\u001b[0m\u001b[0;36m1\u001b[0m\u001b[0;34m,\u001b[0m \u001b[0mn_jobs\u001b[0m\u001b[0;34m=\u001b[0m\u001b[0;34m-\u001b[0m\u001b[0;36m1\u001b[0m\u001b[0;34m)\u001b[0m\u001b[0;34m\u001b[0m\u001b[0;34m\u001b[0m\u001b[0m\n\u001b[1;32m     18\u001b[0m \u001b[0mrfc_search\u001b[0m\u001b[0;34m.\u001b[0m\u001b[0mfit\u001b[0m\u001b[0;34m(\u001b[0m\u001b[0mx_train\u001b[0m\u001b[0;34m,\u001b[0m \u001b[0my_train\u001b[0m\u001b[0;34m)\u001b[0m\u001b[0;34m\u001b[0m\u001b[0;34m\u001b[0m\u001b[0m\n",
      "\u001b[0;31mNameError\u001b[0m: name 'RandomForestClassifier' is not defined"
     ]
    }
   ],
   "metadata": {}
  },
  {
   "cell_type": "code",
   "execution_count": 195,
   "source": [
    "print('Best parameters found:\\n', rfc_search.best_params_)\n",
    "print(\"Train accuracy: %.4f\" % rfc_search.score(x_train, y_train))\n",
    "print(\" Test accuracy: %.4f\" % rfc_search.score(x_test, y_test))"
   ],
   "outputs": [
    {
     "output_type": "stream",
     "name": "stdout",
     "text": [
      "Best parameters found:\n",
      " {'max_features': 'auto', 'min_samples_split': 10, 'n_estimators': 800}\n",
      "Train accuracy: 0.9888\n",
      " Test accuracy: 0.7551\n"
     ]
    }
   ],
   "metadata": {}
  },
  {
   "cell_type": "code",
   "execution_count": 128,
   "source": [
    "df_clean"
   ],
   "outputs": [
    {
     "output_type": "execute_result",
     "data": {
      "text/plain": [
       "     website_name                                               text\n",
       "0          amazon  oh   forget  also mention  weird color effect ...\n",
       "1          amazon                                 one   work either \n",
       "2          amazon                                      waste   buck \n",
       "3          amazon  product  useless  since     enough charge curr...\n",
       "4          amazon  none   three size  send   headset would stay  ...\n",
       "...           ...                                                ...\n",
       "2395         yelp              sweet potato fry   good  season well \n",
       "2396         yelp               could eat  bruschetta  day   devine \n",
       "2397         yelp                                 ambience  perfect \n",
       "2398         yelp   order  duck rare    pink  tender   inside   n...\n",
       "2399         yelp                   service  good   company  better \n",
       "\n",
       "[2400 rows x 2 columns]"
      ],
      "text/html": [
       "<div>\n",
       "<style scoped>\n",
       "    .dataframe tbody tr th:only-of-type {\n",
       "        vertical-align: middle;\n",
       "    }\n",
       "\n",
       "    .dataframe tbody tr th {\n",
       "        vertical-align: top;\n",
       "    }\n",
       "\n",
       "    .dataframe thead th {\n",
       "        text-align: right;\n",
       "    }\n",
       "</style>\n",
       "<table border=\"1\" class=\"dataframe\">\n",
       "  <thead>\n",
       "    <tr style=\"text-align: right;\">\n",
       "      <th></th>\n",
       "      <th>website_name</th>\n",
       "      <th>text</th>\n",
       "    </tr>\n",
       "  </thead>\n",
       "  <tbody>\n",
       "    <tr>\n",
       "      <th>0</th>\n",
       "      <td>amazon</td>\n",
       "      <td>oh   forget  also mention  weird color effect ...</td>\n",
       "    </tr>\n",
       "    <tr>\n",
       "      <th>1</th>\n",
       "      <td>amazon</td>\n",
       "      <td>one   work either</td>\n",
       "    </tr>\n",
       "    <tr>\n",
       "      <th>2</th>\n",
       "      <td>amazon</td>\n",
       "      <td>waste   buck</td>\n",
       "    </tr>\n",
       "    <tr>\n",
       "      <th>3</th>\n",
       "      <td>amazon</td>\n",
       "      <td>product  useless  since     enough charge curr...</td>\n",
       "    </tr>\n",
       "    <tr>\n",
       "      <th>4</th>\n",
       "      <td>amazon</td>\n",
       "      <td>none   three size  send   headset would stay  ...</td>\n",
       "    </tr>\n",
       "    <tr>\n",
       "      <th>...</th>\n",
       "      <td>...</td>\n",
       "      <td>...</td>\n",
       "    </tr>\n",
       "    <tr>\n",
       "      <th>2395</th>\n",
       "      <td>yelp</td>\n",
       "      <td>sweet potato fry   good  season well</td>\n",
       "    </tr>\n",
       "    <tr>\n",
       "      <th>2396</th>\n",
       "      <td>yelp</td>\n",
       "      <td>could eat  bruschetta  day   devine</td>\n",
       "    </tr>\n",
       "    <tr>\n",
       "      <th>2397</th>\n",
       "      <td>yelp</td>\n",
       "      <td>ambience  perfect</td>\n",
       "    </tr>\n",
       "    <tr>\n",
       "      <th>2398</th>\n",
       "      <td>yelp</td>\n",
       "      <td>order  duck rare    pink  tender   inside   n...</td>\n",
       "    </tr>\n",
       "    <tr>\n",
       "      <th>2399</th>\n",
       "      <td>yelp</td>\n",
       "      <td>service  good   company  better</td>\n",
       "    </tr>\n",
       "  </tbody>\n",
       "</table>\n",
       "<p>2400 rows × 2 columns</p>\n",
       "</div>"
      ]
     },
     "metadata": {},
     "execution_count": 128
    }
   ],
   "metadata": {}
  },
  {
   "cell_type": "markdown",
   "source": [
    "# Bigrams + Unigrams"
   ],
   "metadata": {}
  },
  {
   "cell_type": "code",
   "execution_count": 137,
   "source": [
    "# Parameter election\n",
    "ngram_range = (1,2)\n",
    "max_features = 300\n",
    "\n",
    "tfidf = TfidfVectorizer(ngram_range=ngram_range,\n",
    "                        norm='l2',\n",
    "                        sublinear_tf=True)\n",
    "                        \n",
    "# features_train = tfidf.fit_transform(df_clean['text'].values.tolist()).toarray()\n",
    "# labels_train = y_train_df['is_positive_sentiment']\n",
    "\n",
    "vectorizer2 = TfidfVectorizer(ngram_range=ngram_range,\n",
    "                        norm='l2',\n",
    "                        sublinear_tf=True)\n",
    "vectors2 = vectorizer2.fit_transform(df_clean['text'].values.tolist())\n",
    "feature_names2 = vectorizer2.get_feature_names()\n",
    "dense2 = vectors2.todense()\n",
    "denselist2 = dense2.tolist()\n",
    "\n",
    "all_important_words2 = []\n",
    "for index, item in enumerate(denselist2):\n",
    "    scores2 = {feature: tfidf for feature, tfidf in zip(feature_names2, item)}\n",
    "    sorted_words2 = sorted(scores2.items(), key=lambda x: x[1], reverse=True)\n",
    "    for word, score in sorted_words2: \n",
    "        if score > 0.3:\n",
    "            all_important_words2.append((word, score))\n",
    "\n",
    "top_words2 = pd.DataFrame(denselist2, columns=feature_names2)\n",
    "# top_words[all]\n",
    "important_words2 = [x for x,_ in all_important_words2]\n",
    "trainset2 = top_words2[list(set(important_words2))]\n",
    "\n",
    "x_train2, x_test2, y_train2, y_test2 = train_test_split(trainset2, y_train_df['is_positive_sentiment'], test_size=0.33, random_state = 0)"
   ],
   "outputs": [],
   "metadata": {}
  },
  {
   "cell_type": "markdown",
   "source": [
    "## LR - TDIDF Bigrams"
   ],
   "metadata": {}
  },
  {
   "cell_type": "code",
   "execution_count": 139,
   "source": [
    "base_lr2 = LogisticRegression()\n",
    "base_lr2.fit(x_train2, y_train2)\n",
    "print(base_lr2.score(x_train2, y_train2))\n",
    "print(base_lr2.score(x_test2, y_test2))"
   ],
   "outputs": [
    {
     "output_type": "stream",
     "name": "stdout",
     "text": [
      "0.957089552238806\n",
      "0.7676767676767676\n"
     ]
    }
   ],
   "metadata": {}
  },
  {
   "cell_type": "code",
   "execution_count": 168,
   "source": [
    "param_grid2 = {\"C\":np.logspace(-3,3,10), \"max_iter\":[50, 150, 250, 350, 450, 500]}\n",
    "tune_lr2 = LogisticRegression()\n",
    "grid_search2 = GridSearchCV(tune_lr2, param_grid = param_grid2, scoring='accuracy',cv=3,verbose=1, n_jobs=-1)\n",
    "grid_search2.fit(x_train2, y_train2)"
   ],
   "outputs": [
    {
     "output_type": "stream",
     "name": "stdout",
     "text": [
      "Fitting 3 folds for each of 60 candidates, totalling 180 fits\n"
     ]
    },
    {
     "output_type": "execute_result",
     "data": {
      "text/plain": [
       "GridSearchCV(cv=3, estimator=LogisticRegression(), n_jobs=-1,\n",
       "             param_grid={'C': array([1.00000000e-03, 4.64158883e-03, 2.15443469e-02, 1.00000000e-01,\n",
       "       4.64158883e-01, 2.15443469e+00, 1.00000000e+01, 4.64158883e+01,\n",
       "       2.15443469e+02, 1.00000000e+03]),\n",
       "                         'max_iter': [50, 150, 250, 350, 450, 500]},\n",
       "             scoring='accuracy', verbose=1)"
      ]
     },
     "metadata": {},
     "execution_count": 168
    }
   ],
   "metadata": {}
  },
  {
   "cell_type": "code",
   "execution_count": 169,
   "source": [
    "print(\"Best parameter (CV score=%0.3f):\" % grid_search2.best_score_)\n",
    "print(grid_search2.best_params_)"
   ],
   "outputs": [
    {
     "output_type": "stream",
     "name": "stdout",
     "text": [
      "Best parameter (CV score=0.800):\n",
      "{'C': 2.154434690031882, 'max_iter': 50}\n"
     ]
    }
   ],
   "metadata": {}
  },
  {
   "cell_type": "code",
   "execution_count": 170,
   "source": [
    "examine_Cs(x_train2, y_train2, x_test2, y_test2)"
   ],
   "outputs": [
    {
     "output_type": "display_data",
     "data": {
      "text/plain": [
       "<Figure size 576x432 with 2 Axes>"
      ],
      "image/png": "[encoded data removed]"
     },
     "metadata": {
      "needs_background": "light"
     }
    }
   ],
   "metadata": {}
  },
  {
   "cell_type": "markdown",
   "source": [
    "## SVM - TDIDF Bigrams"
   ],
   "metadata": {}
  },
  {
   "cell_type": "code",
   "execution_count": 140,
   "source": [
    "base_svm2 = SVC()\n",
    "base_svm2.fit(x_train2, y_train2)\n",
    "print(base_svm2.score(x_train2, y_train2))\n",
    "print(base_svm2.score(x_test2, y_test2))"
   ],
   "outputs": [
    {
     "output_type": "stream",
     "name": "stdout",
     "text": [
      "0.9850746268656716\n",
      "0.7664141414141414\n"
     ]
    }
   ],
   "metadata": {}
  },
  {
   "cell_type": "code",
   "execution_count": 143,
   "source": [
    "base_dt2 = DecisionTreeClassifier(random_state = 0)\n",
    "base_dt2.fit(x_train2, y_train2)\n",
    "print(base_dt2.score(x_train2, y_train2))\n",
    "print(base_dt2.score(x_test2, y_test2))"
   ],
   "outputs": [
    {
     "output_type": "stream",
     "name": "stdout",
     "text": [
      "0.9987562189054726\n",
      "0.7335858585858586\n"
     ]
    }
   ],
   "metadata": {}
  },
  {
   "cell_type": "code",
   "execution_count": 144,
   "source": [
    "base_rfc2 = RandomForestClassifier(random_state = 0)\n",
    "base_rfc2.fit(x_train2, y_train2)\n",
    "print(base_rfc2.score(x_train2, y_train2))\n",
    "print(base_rfc2.score(x_test2, y_test2))"
   ],
   "outputs": [
    {
     "output_type": "stream",
     "name": "stdout",
     "text": [
      "0.9987562189054726\n",
      "0.7702020202020202\n"
     ]
    }
   ],
   "metadata": {}
  },
  {
   "cell_type": "markdown",
   "source": [
    "# Test"
   ],
   "metadata": {}
  },
  {
   "cell_type": "markdown",
   "source": [
    "## data"
   ],
   "metadata": {}
  },
  {
   "cell_type": "code",
   "execution_count": 295,
   "source": [
    "neg = df_clean[y_train_df.is_positive_sentiment == 0]\n",
    "pos = df_clean[y_train_df.is_positive_sentiment == 1]\n",
    "# pos.reset_index(drop=True, inplace=True)\n",
    "# neg.reset_index(drop=True, inplace=True)"
   ],
   "outputs": [],
   "metadata": {}
  },
  {
   "cell_type": "code",
   "execution_count": 298,
   "source": [
    "tdidf_pos = TfidfVectorizer()\n",
    "Xpos = tdidf_pos.fit_transform(pos.text.values.tolist())\n",
    "pos_feature_names = tdidf_pos.get_feature_names()\n",
    "pos_dense = Xpos.todense()\n",
    "denselist_pos = pos_dense.tolist()\n",
    "\n",
    "tfidf_neg = TfidfVectorizer()\n",
    "Xneg = tfidf_neg.fit_transform(neg.text.values.tolist())\n",
    "neg_feature_names = tfidf_neg.get_feature_names()\n",
    "neg_dense = Xneg.todense()\n",
    "denselist_neg = neg_dense.tolist()"
   ],
   "outputs": [],
   "metadata": {}
  },
  {
   "cell_type": "code",
   "execution_count": 356,
   "source": [
    "pos_words = []\n",
    "neg_words = []\n",
    "for index, item in enumerate(denselist_pos):\n",
    "    scores_pos = {feature: tfidf for feature, tfidf in zip(pos_feature_names, item)}\n",
    "    sorted_words_pos = sorted(scores_pos.items(), key=lambda x: x[1], reverse=True)\n",
    "    for word, score in sorted_words_pos: \n",
    "        if score > 0.3:\n",
    "            pos_words.append((word, score))\n",
    "\n",
    "for index, item in enumerate(denselist_neg):\n",
    "    scores_neg = {feature: tfidf for feature, tfidf in zip(neg_feature_names, item)}\n",
    "    sorted_words_neg = sorted(scores_neg.items(), key=lambda x: x[1], reverse=True)\n",
    "    for word, score in sorted_words_neg: \n",
    "        if score > 0.3:\n",
    "            neg_words.append((word, score))"
   ],
   "outputs": [],
   "metadata": {}
  },
  {
   "cell_type": "code",
   "execution_count": 357,
   "source": [
    "important_pos = [x for x,_ in pos_words]\n",
    "important_neg = [x for x,_ in neg_words]\n",
    "\n",
    "pos_set = set(important_pos)\n",
    "neg_set = set(important_neg)\n",
    "poss = pos_set - neg_set\n",
    "negs = neg_set - pos_set\n",
    "all_set = poss.union(negs)"
   ],
   "outputs": [],
   "metadata": {}
  },
  {
   "cell_type": "code",
   "execution_count": 358,
   "source": [
    "pos_df = pd.DataFrame(denselist_pos, columns=pos_feature_names)\n",
    "neg_df = pd.DataFrame(denselist_neg, columns=neg_feature_names)"
   ],
   "outputs": [],
   "metadata": {}
  },
  {
   "cell_type": "code",
   "execution_count": 359,
   "source": [
    "pos_df = pos_df[list(poss)]\n",
    "neg_df = neg_df[list(negs)]\n",
    "all_set = list(all_set)"
   ],
   "outputs": [],
   "metadata": {}
  },
  {
   "cell_type": "code",
   "execution_count": 360,
   "source": [
    "zeros = np.zeros((len(x_train_df), len(all_set)))\n",
    "dummies = pd.DataFrame(zeros, columns = all_set)\n",
    "dummies.loc[neg.index, list(negs)] = neg_df\n",
    "dummies.loc[pos.index, list(poss)] = pos_df\n",
    "dummies.fillna(0, inplace=True)"
   ],
   "outputs": [],
   "metadata": {}
  },
  {
   "cell_type": "code",
   "execution_count": 343,
   "source": [
    "dummies"
   ],
   "outputs": [
    {
     "output_type": "execute_result",
     "data": {
      "text/plain": [
       "      manual  trumbull  iam  perfectly  gooodd  gel  spotty  torture  \\\n",
       "0        0.0       0.0  0.0        0.0     0.0  0.0     0.0      0.0   \n",
       "1        0.0       0.0  0.0        0.0     0.0  0.0     0.0      0.0   \n",
       "2        0.0       0.0  0.0        0.0     0.0  0.0     0.0      0.0   \n",
       "3        0.0       0.0  0.0        0.0     0.0  0.0     0.0      0.0   \n",
       "4        0.0       0.0  0.0        0.0     0.0  0.0     0.0      0.0   \n",
       "...      ...       ...  ...        ...     ...  ...     ...      ...   \n",
       "2395     0.0       0.0  0.0        0.0     0.0  0.0     0.0      0.0   \n",
       "2396     0.0       0.0  0.0        0.0     0.0  0.0     0.0      0.0   \n",
       "2397     0.0       0.0  0.0        0.0     0.0  0.0     0.0      0.0   \n",
       "2398     0.0       0.0  0.0        0.0     0.0  0.0     0.0      0.0   \n",
       "2399     0.0       0.0  0.0        0.0     0.0  0.0     0.0      0.0   \n",
       "\n",
       "      girlfriend  alexander  ...  hello  reversible  neighborhood  \\\n",
       "0            0.0        0.0  ...    0.0         0.0           0.0   \n",
       "1            0.0        0.0  ...    0.0         0.0           0.0   \n",
       "2            0.0        0.0  ...    0.0         0.0           0.0   \n",
       "3            0.0        0.0  ...    0.0         0.0           0.0   \n",
       "4            0.0        0.0  ...    0.0         0.0           0.0   \n",
       "...          ...        ...  ...    ...         ...           ...   \n",
       "2395         0.0        0.0  ...    0.0         0.0           0.0   \n",
       "2396         0.0        0.0  ...    0.0         0.0           0.0   \n",
       "2397         0.0        0.0  ...    0.0         0.0           0.0   \n",
       "2398         0.0        0.0  ...    0.0         0.0           0.0   \n",
       "2399         0.0        0.0  ...    0.0         0.0           0.0   \n",
       "\n",
       "      cinematography  fair  sooooo  surprise  portable  regrettably  simple  \n",
       "0                0.0   0.0     0.0       0.0       0.0          0.0     0.0  \n",
       "1                0.0   0.0     0.0       0.0       0.0          0.0     0.0  \n",
       "2                0.0   0.0     0.0       0.0       0.0          0.0     0.0  \n",
       "3                0.0   0.0     0.0       0.0       0.0          0.0     0.0  \n",
       "4                0.0   0.0     0.0       0.0       0.0          0.0     0.0  \n",
       "...              ...   ...     ...       ...       ...          ...     ...  \n",
       "2395             0.0   0.0     0.0       0.0       0.0          0.0     0.0  \n",
       "2396             0.0   0.0     0.0       0.0       0.0          0.0     0.0  \n",
       "2397             0.0   0.0     0.0       0.0       0.0          0.0     0.0  \n",
       "2398             0.0   0.0     0.0       0.0       0.0          0.0     0.0  \n",
       "2399             0.0   0.0     0.0       0.0       0.0          0.0     0.0  \n",
       "\n",
       "[2400 rows x 664 columns]"
      ],
      "text/html": [
       "<div>\n",
       "<style scoped>\n",
       "    .dataframe tbody tr th:only-of-type {\n",
       "        vertical-align: middle;\n",
       "    }\n",
       "\n",
       "    .dataframe tbody tr th {\n",
       "        vertical-align: top;\n",
       "    }\n",
       "\n",
       "    .dataframe thead th {\n",
       "        text-align: right;\n",
       "    }\n",
       "</style>\n",
       "<table border=\"1\" class=\"dataframe\">\n",
       "  <thead>\n",
       "    <tr style=\"text-align: right;\">\n",
       "      <th></th>\n",
       "      <th>manual</th>\n",
       "      <th>trumbull</th>\n",
       "      <th>iam</th>\n",
       "      <th>perfectly</th>\n",
       "      <th>gooodd</th>\n",
       "      <th>gel</th>\n",
       "      <th>spotty</th>\n",
       "      <th>torture</th>\n",
       "      <th>girlfriend</th>\n",
       "      <th>alexander</th>\n",
       "      <th>...</th>\n",
       "      <th>hello</th>\n",
       "      <th>reversible</th>\n",
       "      <th>neighborhood</th>\n",
       "      <th>cinematography</th>\n",
       "      <th>fair</th>\n",
       "      <th>sooooo</th>\n",
       "      <th>surprise</th>\n",
       "      <th>portable</th>\n",
       "      <th>regrettably</th>\n",
       "      <th>simple</th>\n",
       "    </tr>\n",
       "  </thead>\n",
       "  <tbody>\n",
       "    <tr>\n",
       "      <th>0</th>\n",
       "      <td>0.0</td>\n",
       "      <td>0.0</td>\n",
       "      <td>0.0</td>\n",
       "      <td>0.0</td>\n",
       "      <td>0.0</td>\n",
       "      <td>0.0</td>\n",
       "      <td>0.0</td>\n",
       "      <td>0.0</td>\n",
       "      <td>0.0</td>\n",
       "      <td>0.0</td>\n",
       "      <td>...</td>\n",
       "      <td>0.0</td>\n",
       "      <td>0.0</td>\n",
       "      <td>0.0</td>\n",
       "      <td>0.0</td>\n",
       "      <td>0.0</td>\n",
       "      <td>0.0</td>\n",
       "      <td>0.0</td>\n",
       "      <td>0.0</td>\n",
       "      <td>0.0</td>\n",
       "      <td>0.0</td>\n",
       "    </tr>\n",
       "    <tr>\n",
       "      <th>1</th>\n",
       "      <td>0.0</td>\n",
       "      <td>0.0</td>\n",
       "      <td>0.0</td>\n",
       "      <td>0.0</td>\n",
       "      <td>0.0</td>\n",
       "      <td>0.0</td>\n",
       "      <td>0.0</td>\n",
       "      <td>0.0</td>\n",
       "      <td>0.0</td>\n",
       "      <td>0.0</td>\n",
       "      <td>...</td>\n",
       "      <td>0.0</td>\n",
       "      <td>0.0</td>\n",
       "      <td>0.0</td>\n",
       "      <td>0.0</td>\n",
       "      <td>0.0</td>\n",
       "      <td>0.0</td>\n",
       "      <td>0.0</td>\n",
       "      <td>0.0</td>\n",
       "      <td>0.0</td>\n",
       "      <td>0.0</td>\n",
       "    </tr>\n",
       "    <tr>\n",
       "      <th>2</th>\n",
       "      <td>0.0</td>\n",
       "      <td>0.0</td>\n",
       "      <td>0.0</td>\n",
       "      <td>0.0</td>\n",
       "      <td>0.0</td>\n",
       "      <td>0.0</td>\n",
       "      <td>0.0</td>\n",
       "      <td>0.0</td>\n",
       "      <td>0.0</td>\n",
       "      <td>0.0</td>\n",
       "      <td>...</td>\n",
       "      <td>0.0</td>\n",
       "      <td>0.0</td>\n",
       "      <td>0.0</td>\n",
       "      <td>0.0</td>\n",
       "      <td>0.0</td>\n",
       "      <td>0.0</td>\n",
       "      <td>0.0</td>\n",
       "      <td>0.0</td>\n",
       "      <td>0.0</td>\n",
       "      <td>0.0</td>\n",
       "    </tr>\n",
       "    <tr>\n",
       "      <th>3</th>\n",
       "      <td>0.0</td>\n",
       "      <td>0.0</td>\n",
       "      <td>0.0</td>\n",
       "      <td>0.0</td>\n",
       "      <td>0.0</td>\n",
       "      <td>0.0</td>\n",
       "      <td>0.0</td>\n",
       "      <td>0.0</td>\n",
       "      <td>0.0</td>\n",
       "      <td>0.0</td>\n",
       "      <td>...</td>\n",
       "      <td>0.0</td>\n",
       "      <td>0.0</td>\n",
       "      <td>0.0</td>\n",
       "      <td>0.0</td>\n",
       "      <td>0.0</td>\n",
       "      <td>0.0</td>\n",
       "      <td>0.0</td>\n",
       "      <td>0.0</td>\n",
       "      <td>0.0</td>\n",
       "      <td>0.0</td>\n",
       "    </tr>\n",
       "    <tr>\n",
       "      <th>4</th>\n",
       "      <td>0.0</td>\n",
       "      <td>0.0</td>\n",
       "      <td>0.0</td>\n",
       "      <td>0.0</td>\n",
       "      <td>0.0</td>\n",
       "      <td>0.0</td>\n",
       "      <td>0.0</td>\n",
       "      <td>0.0</td>\n",
       "      <td>0.0</td>\n",
       "      <td>0.0</td>\n",
       "      <td>...</td>\n",
       "      <td>0.0</td>\n",
       "      <td>0.0</td>\n",
       "      <td>0.0</td>\n",
       "      <td>0.0</td>\n",
       "      <td>0.0</td>\n",
       "      <td>0.0</td>\n",
       "      <td>0.0</td>\n",
       "      <td>0.0</td>\n",
       "      <td>0.0</td>\n",
       "      <td>0.0</td>\n",
       "    </tr>\n",
       "    <tr>\n",
       "      <th>...</th>\n",
       "      <td>...</td>\n",
       "      <td>...</td>\n",
       "      <td>...</td>\n",
       "      <td>...</td>\n",
       "      <td>...</td>\n",
       "      <td>...</td>\n",
       "      <td>...</td>\n",
       "      <td>...</td>\n",
       "      <td>...</td>\n",
       "      <td>...</td>\n",
       "      <td>...</td>\n",
       "      <td>...</td>\n",
       "      <td>...</td>\n",
       "      <td>...</td>\n",
       "      <td>...</td>\n",
       "      <td>...</td>\n",
       "      <td>...</td>\n",
       "      <td>...</td>\n",
       "      <td>...</td>\n",
       "      <td>...</td>\n",
       "      <td>...</td>\n",
       "    </tr>\n",
       "    <tr>\n",
       "      <th>2395</th>\n",
       "      <td>0.0</td>\n",
       "      <td>0.0</td>\n",
       "      <td>0.0</td>\n",
       "      <td>0.0</td>\n",
       "      <td>0.0</td>\n",
       "      <td>0.0</td>\n",
       "      <td>0.0</td>\n",
       "      <td>0.0</td>\n",
       "      <td>0.0</td>\n",
       "      <td>0.0</td>\n",
       "      <td>...</td>\n",
       "      <td>0.0</td>\n",
       "      <td>0.0</td>\n",
       "      <td>0.0</td>\n",
       "      <td>0.0</td>\n",
       "      <td>0.0</td>\n",
       "      <td>0.0</td>\n",
       "      <td>0.0</td>\n",
       "      <td>0.0</td>\n",
       "      <td>0.0</td>\n",
       "      <td>0.0</td>\n",
       "    </tr>\n",
       "    <tr>\n",
       "      <th>2396</th>\n",
       "      <td>0.0</td>\n",
       "      <td>0.0</td>\n",
       "      <td>0.0</td>\n",
       "      <td>0.0</td>\n",
       "      <td>0.0</td>\n",
       "      <td>0.0</td>\n",
       "      <td>0.0</td>\n",
       "      <td>0.0</td>\n",
       "      <td>0.0</td>\n",
       "      <td>0.0</td>\n",
       "      <td>...</td>\n",
       "      <td>0.0</td>\n",
       "      <td>0.0</td>\n",
       "      <td>0.0</td>\n",
       "      <td>0.0</td>\n",
       "      <td>0.0</td>\n",
       "      <td>0.0</td>\n",
       "      <td>0.0</td>\n",
       "      <td>0.0</td>\n",
       "      <td>0.0</td>\n",
       "      <td>0.0</td>\n",
       "    </tr>\n",
       "    <tr>\n",
       "      <th>2397</th>\n",
       "      <td>0.0</td>\n",
       "      <td>0.0</td>\n",
       "      <td>0.0</td>\n",
       "      <td>0.0</td>\n",
       "      <td>0.0</td>\n",
       "      <td>0.0</td>\n",
       "      <td>0.0</td>\n",
       "      <td>0.0</td>\n",
       "      <td>0.0</td>\n",
       "      <td>0.0</td>\n",
       "      <td>...</td>\n",
       "      <td>0.0</td>\n",
       "      <td>0.0</td>\n",
       "      <td>0.0</td>\n",
       "      <td>0.0</td>\n",
       "      <td>0.0</td>\n",
       "      <td>0.0</td>\n",
       "      <td>0.0</td>\n",
       "      <td>0.0</td>\n",
       "      <td>0.0</td>\n",
       "      <td>0.0</td>\n",
       "    </tr>\n",
       "    <tr>\n",
       "      <th>2398</th>\n",
       "      <td>0.0</td>\n",
       "      <td>0.0</td>\n",
       "      <td>0.0</td>\n",
       "      <td>0.0</td>\n",
       "      <td>0.0</td>\n",
       "      <td>0.0</td>\n",
       "      <td>0.0</td>\n",
       "      <td>0.0</td>\n",
       "      <td>0.0</td>\n",
       "      <td>0.0</td>\n",
       "      <td>...</td>\n",
       "      <td>0.0</td>\n",
       "      <td>0.0</td>\n",
       "      <td>0.0</td>\n",
       "      <td>0.0</td>\n",
       "      <td>0.0</td>\n",
       "      <td>0.0</td>\n",
       "      <td>0.0</td>\n",
       "      <td>0.0</td>\n",
       "      <td>0.0</td>\n",
       "      <td>0.0</td>\n",
       "    </tr>\n",
       "    <tr>\n",
       "      <th>2399</th>\n",
       "      <td>0.0</td>\n",
       "      <td>0.0</td>\n",
       "      <td>0.0</td>\n",
       "      <td>0.0</td>\n",
       "      <td>0.0</td>\n",
       "      <td>0.0</td>\n",
       "      <td>0.0</td>\n",
       "      <td>0.0</td>\n",
       "      <td>0.0</td>\n",
       "      <td>0.0</td>\n",
       "      <td>...</td>\n",
       "      <td>0.0</td>\n",
       "      <td>0.0</td>\n",
       "      <td>0.0</td>\n",
       "      <td>0.0</td>\n",
       "      <td>0.0</td>\n",
       "      <td>0.0</td>\n",
       "      <td>0.0</td>\n",
       "      <td>0.0</td>\n",
       "      <td>0.0</td>\n",
       "      <td>0.0</td>\n",
       "    </tr>\n",
       "  </tbody>\n",
       "</table>\n",
       "<p>2400 rows × 664 columns</p>\n",
       "</div>"
      ]
     },
     "metadata": {},
     "execution_count": 343
    }
   ],
   "metadata": {}
  },
  {
   "cell_type": "markdown",
   "source": [
    "## train"
   ],
   "metadata": {}
  },
  {
   "cell_type": "code",
   "execution_count": 361,
   "source": [
    "x_train4, x_test4, y_train4, y_test4 = train_test_split(dummies, y_train_df['is_positive_sentiment'], test_size=0.33, random_state = 0)"
   ],
   "outputs": [],
   "metadata": {}
  },
  {
   "cell_type": "code",
   "execution_count": 362,
   "source": [
    "network4 = MLPClassifier(max_iter=400, random_state=13)\n",
    "network4.fit(x_train4, y_train4)\n",
    "print(\"Train accuracy: %.4f\" % network4.score(x_train4, y_train4))\n",
    "print(\" Test accuracy: %.4f\" % network4.score(x_test4, y_test4))"
   ],
   "outputs": [
    {
     "output_type": "stream",
     "name": "stdout",
     "text": [
      "Train accuracy: 0.7481\n",
      " Test accuracy: 0.6439\n"
     ]
    }
   ],
   "metadata": {}
  },
  {
   "cell_type": "markdown",
   "source": [
    "# CountVectorizer Unigrams"
   ],
   "metadata": {}
  },
  {
   "cell_type": "code",
   "execution_count": 290,
   "source": [
    "from sklearn.feature_extraction.text import CountVectorizer\n",
    "\n",
    "vectorizer3 = CountVectorizer()\n",
    "vectors3 = vectorizer3.fit_transform(df_clean['text'].values.tolist())\n",
    "feature_names3 = vectorizer3.get_feature_names()\n",
    "dense3 = vectors3.todense()\n",
    "denselist3 = dense3.tolist()\n",
    "\n",
    "all_important_words3 = []\n",
    "for index, item in enumerate(denselist3):\n",
    "    scores3 = {feature: tfidf for feature, tfidf in zip(feature_names3, item)}\n",
    "    sorted_words3 = sorted(scores3.items(), key=lambda x: x[1], reverse=True)\n",
    "    for word, score in sorted_words3: \n",
    "        if score > 0:\n",
    "            all_important_words3.append((word, score))\n",
    "\n",
    "top_words3 = pd.DataFrame(denselist3, columns=feature_names3)\n",
    "# top_words[all]\n",
    "important_words3 = [x for x,_ in all_important_words3]\n",
    "trainset3 = top_words3[list(set(important_words3))]\n",
    "\n",
    "x_train3, x_test3, y_train3, y_test3 = train_test_split(trainset3, y_train_df['is_positive_sentiment'], test_size=0.33, random_state = 0)"
   ],
   "outputs": [],
   "metadata": {}
  },
  {
   "cell_type": "markdown",
   "source": [
    "## LR - Count Unigrams"
   ],
   "metadata": {}
  },
  {
   "cell_type": "code",
   "execution_count": 291,
   "source": [
    "base_lr3 = LogisticRegression()\n",
    "base_lr3.fit(x_train3, y_train3)\n",
    "print(base_lr3.score(x_train3, y_train3))\n",
    "print(base_lr3.score(x_test3, y_test3))"
   ],
   "outputs": [
    {
     "output_type": "stream",
     "name": "stdout",
     "text": [
      "0.9639303482587065\n",
      "0.7803030303030303\n"
     ]
    }
   ],
   "metadata": {}
  },
  {
   "cell_type": "code",
   "execution_count": 171,
   "source": [
    "param_grid3 = {\"C\":np.logspace(-3,3,10), \"max_iter\":[50, 150, 250, 350, 450, 500]}\n",
    "tune_lr3 = LogisticRegression()\n",
    "grid_search3 = GridSearchCV(tune_lr3, param_grid = param_grid3, scoring='accuracy',cv=3,verbose=1, n_jobs=-1)\n",
    "grid_search3.fit(x_train3, y_train3)"
   ],
   "outputs": [
    {
     "output_type": "stream",
     "name": "stdout",
     "text": [
      "Fitting 3 folds for each of 60 candidates, totalling 180 fits\n"
     ]
    },
    {
     "output_type": "execute_result",
     "data": {
      "text/plain": [
       "GridSearchCV(cv=3, estimator=LogisticRegression(), n_jobs=-1,\n",
       "             param_grid={'C': array([1.00000000e-03, 4.64158883e-03, 2.15443469e-02, 1.00000000e-01,\n",
       "       4.64158883e-01, 2.15443469e+00, 1.00000000e+01, 4.64158883e+01,\n",
       "       2.15443469e+02, 1.00000000e+03]),\n",
       "                         'max_iter': [50, 150, 250, 350, 450, 500]},\n",
       "             scoring='accuracy', verbose=1)"
      ]
     },
     "metadata": {},
     "execution_count": 171
    }
   ],
   "metadata": {}
  },
  {
   "cell_type": "code",
   "execution_count": 172,
   "source": [
    "print(\"Best parameter (CV score=%0.3f):\" % grid_search3.best_score_)\n",
    "print(grid_search3.best_params_)"
   ],
   "outputs": [
    {
     "output_type": "stream",
     "name": "stdout",
     "text": [
      "Best parameter (CV score=0.775):\n",
      "{'C': 0.46415888336127775, 'max_iter': 50}\n"
     ]
    }
   ],
   "metadata": {}
  },
  {
   "cell_type": "code",
   "execution_count": 173,
   "source": [
    "examine_Cs(x_train3, y_train3, x_test3, y_test3)"
   ],
   "outputs": [
    {
     "output_type": "display_data",
     "data": {
      "text/plain": [
       "<Figure size 576x432 with 2 Axes>"
      ],
      "image/png": "[encoded data removed]"
     },
     "metadata": {
      "needs_background": "light"
     }
    }
   ],
   "metadata": {}
  },
  {
   "cell_type": "markdown",
   "source": [
    "## SVM - Count Unigrams"
   ],
   "metadata": {}
  },
  {
   "cell_type": "code",
   "execution_count": 292,
   "source": [
    "base_svm3 = SVC()\n",
    "base_svm3.fit(x_train3, y_train3)\n",
    "print(base_svm3.score(x_train3, y_train3))\n",
    "print(base_svm3.score(x_test3, y_test3))"
   ],
   "outputs": [
    {
     "output_type": "stream",
     "name": "stdout",
     "text": [
      "0.9620646766169154\n",
      "0.7550505050505051\n"
     ]
    }
   ],
   "metadata": {}
  },
  {
   "cell_type": "code",
   "execution_count": 293,
   "source": [
    "base_dt3 = DecisionTreeClassifier(random_state = 0)\n",
    "base_dt3.fit(x_train3, y_train3)\n",
    "print(base_dt3.score(x_train3, y_train3))\n",
    "print(base_dt3.score(x_test3, y_test3))"
   ],
   "outputs": [
    {
     "output_type": "stream",
     "name": "stdout",
     "text": [
      "0.9987562189054726\n",
      "0.6944444444444444\n"
     ]
    }
   ],
   "metadata": {}
  },
  {
   "cell_type": "code",
   "execution_count": 294,
   "source": [
    "base_rfc3 = RandomForestClassifier(random_state = 0)\n",
    "base_rfc3.fit(x_train3, y_train3)\n",
    "print(base_rfc3.score(x_train3, y_train3))\n",
    "print(base_rfc3.score(x_test3, y_test3))"
   ],
   "outputs": [
    {
     "output_type": "stream",
     "name": "stdout",
     "text": [
      "0.9987562189054726\n",
      "0.7689393939393939\n"
     ]
    }
   ],
   "metadata": {}
  },
  {
   "cell_type": "markdown",
   "source": [
    "# Neural Network"
   ],
   "metadata": {}
  },
  {
   "cell_type": "markdown",
   "source": [
    "## 1"
   ],
   "metadata": {}
  },
  {
   "cell_type": "code",
   "execution_count": 25,
   "source": [
    "from sklearn.neural_network import MLPClassifier\n",
    "\n",
    "network = MLPClassifier(max_iter=400, random_state=13, early_stopping=True)\n",
    "network.fit(x_train, y_train)\n",
    "print(\"Train accuracy: %.4f\" % network.score(x_train, y_train))\n",
    "print(\" Test accuracy: %.4f\" % network.score(x_test, y_test))"
   ],
   "outputs": [
    {
     "output_type": "stream",
     "name": "stdout",
     "text": [
      "Train accuracy: 0.9484\n",
      " Test accuracy: 0.7689\n"
     ]
    }
   ],
   "metadata": {}
  },
  {
   "cell_type": "code",
   "execution_count": 26,
   "source": [
    "try_params = {\n",
    "    'activation': ['logistic', 'relu'],\n",
    "    'hidden_layer_sizes': [(50,), (100,), (128, 64, 32, 8)],\n",
    "    'alpha': 10.0 ** -np.arange(-2, 2)\n",
    "}\n",
    "\n",
    "gscv = GridSearchCV(network, try_params, cv=3, n_jobs=-1)\n",
    "gscv.fit(x_train, y_train)"
   ],
   "outputs": [
    {
     "output_type": "execute_result",
     "data": {
      "text/plain": [
       "GridSearchCV(cv=3,\n",
       "             estimator=MLPClassifier(early_stopping=True, max_iter=400,\n",
       "                                     random_state=13),\n",
       "             n_jobs=-1,\n",
       "             param_grid={'activation': ['logistic', 'relu'],\n",
       "                         'alpha': array([100. ,  10. ,   1. ,   0.1]),\n",
       "                         'hidden_layer_sizes': [(50,), (100,),\n",
       "                                                (128, 64, 32, 8)]})"
      ]
     },
     "metadata": {},
     "execution_count": 26
    }
   ],
   "metadata": {}
  },
  {
   "cell_type": "code",
   "execution_count": 27,
   "source": [
    "print('Best parameters found:\\n', gscv.best_params_)\n",
    "print(\"Train accuracy: %.4f\" % gscv.score(x_train, y_train))\n",
    "print(\" Test accuracy: %.4f\" % gscv.score(x_test, y_test))"
   ],
   "outputs": [
    {
     "output_type": "stream",
     "name": "stdout",
     "text": [
      "Best parameters found:\n",
      " {'activation': 'relu', 'alpha': 1.0, 'hidden_layer_sizes': (50,)}\n",
      "Train accuracy: 0.9216\n",
      " Test accuracy: 0.7652\n"
     ]
    }
   ],
   "metadata": {}
  },
  {
   "cell_type": "markdown",
   "source": [
    "## 2."
   ],
   "metadata": {}
  },
  {
   "cell_type": "code",
   "execution_count": 181,
   "source": [
    "network2 = MLPClassifier(max_iter=400, random_state=13, early_stopping=True)\n",
    "network2.fit(x_train2, y_train2)\n",
    "print(\"Train accuracy: %.4f\" % network2.score(x_train2, y_train2))\n",
    "print(\" Test accuracy: %.4f\" % network2.score(x_test2, y_test2))"
   ],
   "outputs": [
    {
     "output_type": "stream",
     "name": "stdout",
     "text": [
      "Train accuracy: 0.9521\n",
      " Test accuracy: 0.7614\n"
     ]
    }
   ],
   "metadata": {}
  },
  {
   "cell_type": "code",
   "execution_count": 182,
   "source": [
    "try_params2 = {\n",
    "    'activation': ['logistic', 'relu'],\n",
    "    'hidden_layer_sizes': [(50,), (100,), (64, 32, 8)],\n",
    "    'alpha': 10.0 ** -np.arange(-2, 2)\n",
    "}\n",
    "\n",
    "gscv2 = GridSearchCV(network2, try_params2, cv=3, n_jobs=-1)\n",
    "gscv2.fit(x_train2, y_train2)"
   ],
   "outputs": [
    {
     "output_type": "execute_result",
     "data": {
      "text/plain": [
       "GridSearchCV(cv=3,\n",
       "             estimator=MLPClassifier(early_stopping=True, max_iter=400,\n",
       "                                     random_state=13),\n",
       "             n_jobs=-1,\n",
       "             param_grid={'activation': ['logistic', 'relu'],\n",
       "                         'alpha': array([100. ,  10. ,   1. ,   0.1]),\n",
       "                         'hidden_layer_sizes': [(50,), (100,), (64, 32, 8)]})"
      ]
     },
     "metadata": {},
     "execution_count": 182
    }
   ],
   "metadata": {}
  },
  {
   "cell_type": "code",
   "execution_count": 183,
   "source": [
    "print('Best parameters found:\\n', gscv2.best_params_)\n",
    "print(\"Train accuracy: %.4f\" % gscv2.score(x_train2, y_train2))\n",
    "print(\" Test accuracy: %.4f\" % gscv2.score(x_test2, y_test2))"
   ],
   "outputs": [
    {
     "output_type": "stream",
     "name": "stdout",
     "text": [
      "Best parameters found:\n",
      " {'activation': 'relu', 'alpha': 1.0, 'hidden_layer_sizes': (100,)}\n",
      "Train accuracy: 0.9328\n",
      " Test accuracy: 0.7652\n"
     ]
    }
   ],
   "metadata": {}
  },
  {
   "cell_type": "markdown",
   "source": [
    "## 3."
   ],
   "metadata": {}
  },
  {
   "cell_type": "code",
   "execution_count": 185,
   "source": [
    "network3 = MLPClassifier(early_stopping=True, max_iter=400, random_state=13)\n",
    "network3.fit(x_train3, y_train3)\n",
    "print(\"Train accuracy: %.4f\" % network3.score(x_train3, y_train3))\n",
    "print(\" Test accuracy: %.4f\" % network3.score(x_test3, y_test3))"
   ],
   "outputs": [
    {
     "output_type": "stream",
     "name": "stdout",
     "text": [
      "Train accuracy: 0.9583\n",
      " Test accuracy: 0.7715\n"
     ]
    }
   ],
   "metadata": {}
  },
  {
   "cell_type": "code",
   "execution_count": 186,
   "source": [
    "try_params3 = {\n",
    "    'activation': ['logistic', 'relu'],\n",
    "    'hidden_layer_sizes': [(50,), (100,), (64, 32, 8), (128, 64)],\n",
    "    'alpha': 10.0 ** -np.arange(-2, 2)\n",
    "}\n",
    "\n",
    "gscv3 = GridSearchCV(network3, try_params3, cv=3, n_jobs=-1)\n",
    "gscv3.fit(x_train3, y_train3)"
   ],
   "outputs": [
    {
     "output_type": "execute_result",
     "data": {
      "text/plain": [
       "GridSearchCV(cv=3,\n",
       "             estimator=MLPClassifier(early_stopping=True, max_iter=400,\n",
       "                                     random_state=13),\n",
       "             n_jobs=-1,\n",
       "             param_grid={'activation': ['logistic', 'relu'],\n",
       "                         'alpha': array([100. ,  10. ,   1. ,   0.1]),\n",
       "                         'hidden_layer_sizes': [(50,), (100,), (64, 32, 8),\n",
       "                                                (128, 64)]})"
      ]
     },
     "metadata": {},
     "execution_count": 186
    }
   ],
   "metadata": {}
  },
  {
   "cell_type": "code",
   "execution_count": 188,
   "source": [
    "print('Best parameters found:\\n', gscv3.best_params_)\n",
    "print(\"Train accuracy: %.4f\" % gscv3.score(x_train3, y_train3))\n",
    "print(\" Test accuracy: %.4f\" % gscv3.score(x_test3, y_test3))"
   ],
   "outputs": [
    {
     "output_type": "stream",
     "name": "stdout",
     "text": [
      "Best parameters found:\n",
      " {'activation': 'relu', 'alpha': 0.1, 'hidden_layer_sizes': (100,)}\n",
      "Train accuracy: 0.9527\n",
      " Test accuracy: 0.7778\n"
     ]
    }
   ],
   "metadata": {}
  }
 ],
 "metadata": {
  "orig_nbformat": 4,
  "language_info": {
   "name": "python",
   "version": "3.9.4",
   "mimetype": "text/x-python",
   "codemirror_mode": {
    "name": "ipython",
    "version": 3
   },
   "pygments_lexer": "ipython3",
   "nbconvert_exporter": "python",
   "file_extension": ".py"
  },
  "kernelspec": {
   "name": "python3",
   "display_name": "Python 3.9.4 64-bit ('ml135_env_sp21': conda)"
  },
  "interpreter": {
   "hash": "63d5e2dad31b4e1fa8a9dbb699ac3639bcc4c6c77169183dfed07ae56f5f684e"
  }
 },
 "nbformat": 4,
 "nbformat_minor": 2
}